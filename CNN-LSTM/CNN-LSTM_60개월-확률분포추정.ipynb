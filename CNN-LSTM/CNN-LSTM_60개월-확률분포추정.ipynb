{
 "cells": [
  {
   "cell_type": "code",
   "execution_count": 1,
   "id": "0ed39ba1",
   "metadata": {},
   "outputs": [],
   "source": [
    "import os\n",
    "\n",
    "import pandas as pd\n",
    "import numpy as np\n",
    "from numpy import array\n",
    "import pandas_datareader.data as pdr \n",
    "\n",
    "from sklearn.model_selection import train_test_split\n",
    "from sklearn.metrics import r2_score,mean_absolute_error\n",
    "\n",
    "import matplotlib.pyplot as plt\n",
    "import matplotlib\n",
    "plt.style.use('seaborn-whitegrid')\n",
    "\n",
    "from pandas.plotting import register_matplotlib_converters\n",
    "register_matplotlib_converters()\n",
    "\n",
    "import plotly.express as px\n",
    "import plotly.graph_objects as go\n",
    "from scipy.ndimage import zoom\n",
    "\n",
    "import seaborn as sns\n",
    "plt.style.use('seaborn-whitegrid')\n",
    "from pylab import rcParams\n",
    "%matplotlib inline\n",
    "import itertools\n",
    "\n",
    "import warnings \n",
    "warnings.filterwarnings(action='ignore')\n",
    "\n",
    "import scipy.stats\n",
    "from scipy.stats import norm,t\n",
    "\n",
    "import math\n",
    "from sklearn.metrics import mean_squared_error, mean_absolute_error,r2_score"
   ]
  },
  {
   "cell_type": "code",
   "execution_count": 2,
   "id": "4d34da1e",
   "metadata": {},
   "outputs": [],
   "source": [
    "#한글폰트 적용\n",
    "import matplotlib.font_manager as fm\n",
    "path = 'C:/Windows/Fonts/gulim.ttc'\n",
    "font_name = fm.FontProperties(fname=path, size=50).get_name()\n",
    "plt.rc('font', family=font_name)"
   ]
  },
  {
   "cell_type": "code",
   "execution_count": 3,
   "id": "7c52f09e",
   "metadata": {
    "scrolled": false
   },
   "outputs": [
    {
     "name": "stdout",
     "output_type": "stream",
     "text": [
      "(270, 10)\n"
     ]
    },
    {
     "data": {
      "text/html": [
       "<div>\n",
       "<style scoped>\n",
       "    .dataframe tbody tr th:only-of-type {\n",
       "        vertical-align: middle;\n",
       "    }\n",
       "\n",
       "    .dataframe tbody tr th {\n",
       "        vertical-align: top;\n",
       "    }\n",
       "\n",
       "    .dataframe thead th {\n",
       "        text-align: right;\n",
       "    }\n",
       "</style>\n",
       "<table border=\"1\" class=\"dataframe\">\n",
       "  <thead>\n",
       "    <tr style=\"text-align: right;\">\n",
       "      <th></th>\n",
       "      <th>TEU</th>\n",
       "      <th>BDI</th>\n",
       "      <th>ln(HRCI)</th>\n",
       "      <th>ln(SCFI)</th>\n",
       "      <th>ln(다우존스지수)</th>\n",
       "      <th>전산업생산지수</th>\n",
       "      <th>경상수지</th>\n",
       "      <th>환율</th>\n",
       "      <th>화물수송총괄</th>\n",
       "      <th>수출물가지수</th>\n",
       "    </tr>\n",
       "    <tr>\n",
       "      <th>Date</th>\n",
       "      <th></th>\n",
       "      <th></th>\n",
       "      <th></th>\n",
       "      <th></th>\n",
       "      <th></th>\n",
       "      <th></th>\n",
       "      <th></th>\n",
       "      <th></th>\n",
       "      <th></th>\n",
       "      <th></th>\n",
       "    </tr>\n",
       "  </thead>\n",
       "  <tbody>\n",
       "    <tr>\n",
       "      <th>2000-01-31</th>\n",
       "      <td>570720</td>\n",
       "      <td>1319</td>\n",
       "      <td>1.913430</td>\n",
       "      <td>2.878875</td>\n",
       "      <td>4.039038</td>\n",
       "      <td>55.0</td>\n",
       "      <td>-218.1</td>\n",
       "      <td>1131.07</td>\n",
       "      <td>181367</td>\n",
       "      <td>133.88</td>\n",
       "    </tr>\n",
       "    <tr>\n",
       "      <th>2000-02-29</th>\n",
       "      <td>590400</td>\n",
       "      <td>1531</td>\n",
       "      <td>1.986905</td>\n",
       "      <td>2.882456</td>\n",
       "      <td>4.005537</td>\n",
       "      <td>51.9</td>\n",
       "      <td>-324.1</td>\n",
       "      <td>1128.80</td>\n",
       "      <td>218300</td>\n",
       "      <td>130.56</td>\n",
       "    </tr>\n",
       "    <tr>\n",
       "      <th>2000-03-31</th>\n",
       "      <td>665430</td>\n",
       "      <td>1660</td>\n",
       "      <td>2.050943</td>\n",
       "      <td>2.884831</td>\n",
       "      <td>4.038299</td>\n",
       "      <td>58.7</td>\n",
       "      <td>275.3</td>\n",
       "      <td>1117.19</td>\n",
       "      <td>206116</td>\n",
       "      <td>128.19</td>\n",
       "    </tr>\n",
       "    <tr>\n",
       "      <th>2000-04-30</th>\n",
       "      <td>603930</td>\n",
       "      <td>1628</td>\n",
       "      <td>2.107499</td>\n",
       "      <td>2.887110</td>\n",
       "      <td>4.030758</td>\n",
       "      <td>56.9</td>\n",
       "      <td>-1156.0</td>\n",
       "      <td>1109.76</td>\n",
       "      <td>166931</td>\n",
       "      <td>126.84</td>\n",
       "    </tr>\n",
       "    <tr>\n",
       "      <th>2000-05-31</th>\n",
       "      <td>683880</td>\n",
       "      <td>1566</td>\n",
       "      <td>2.158143</td>\n",
       "      <td>2.890466</td>\n",
       "      <td>4.022112</td>\n",
       "      <td>59.6</td>\n",
       "      <td>1535.5</td>\n",
       "      <td>1120.01</td>\n",
       "      <td>208853</td>\n",
       "      <td>127.89</td>\n",
       "    </tr>\n",
       "  </tbody>\n",
       "</table>\n",
       "</div>"
      ],
      "text/plain": [
       "               TEU   BDI  ln(HRCI)  ln(SCFI)  ln(다우존스지수)  전산업생산지수    경상수지  \\\n",
       "Date                                                                        \n",
       "2000-01-31  570720  1319  1.913430  2.878875    4.039038     55.0  -218.1   \n",
       "2000-02-29  590400  1531  1.986905  2.882456    4.005537     51.9  -324.1   \n",
       "2000-03-31  665430  1660  2.050943  2.884831    4.038299     58.7   275.3   \n",
       "2000-04-30  603930  1628  2.107499  2.887110    4.030758     56.9 -1156.0   \n",
       "2000-05-31  683880  1566  2.158143  2.890466    4.022112     59.6  1535.5   \n",
       "\n",
       "                 환율  화물수송총괄  수출물가지수  \n",
       "Date                                 \n",
       "2000-01-31  1131.07  181367  133.88  \n",
       "2000-02-29  1128.80  218300  130.56  \n",
       "2000-03-31  1117.19  206116  128.19  \n",
       "2000-04-30  1109.76  166931  126.84  \n",
       "2000-05-31  1120.01  208853  127.89  "
      ]
     },
     "execution_count": 3,
     "metadata": {},
     "output_type": "execute_result"
    }
   ],
   "source": [
    "pd.set_option('display.max_columns', None)\n",
    "data = pd.read_csv('TEU_전국.csv')\n",
    "data['Date'] = pd.to_datetime(data['Date'])\n",
    "data = data.set_index('Date')\n",
    "print(data.shape)\n",
    "data.head()"
   ]
  },
  {
   "cell_type": "code",
   "execution_count": 4,
   "id": "fc8b4ceb",
   "metadata": {},
   "outputs": [],
   "source": [
    "split = -60\n",
    "train_data = data['TEU'][0:split] \n",
    "test_data = data['TEU'][split:]"
   ]
  },
  {
   "cell_type": "code",
   "execution_count": 5,
   "id": "9bceeea0",
   "metadata": {
    "scrolled": true
   },
   "outputs": [
    {
     "data": {
      "text/plain": [
       "((210,), (60,))"
      ]
     },
     "execution_count": 5,
     "metadata": {},
     "output_type": "execute_result"
    }
   ],
   "source": [
    "train_data.shape,test_data.shape"
   ]
  },
  {
   "cell_type": "code",
   "execution_count": 6,
   "id": "87d68389",
   "metadata": {},
   "outputs": [
    {
     "data": {
      "text/plain": [
       "<matplotlib.legend.Legend at 0x16240896520>"
      ]
     },
     "execution_count": 6,
     "metadata": {},
     "output_type": "execute_result"
    },
    {
     "data": {
      "image/png": "[encoded data removed]",
      "text/plain": [
       "<Figure size 864x288 with 1 Axes>"
      ]
     },
     "metadata": {
      "needs_background": "light"
     },
     "output_type": "display_data"
    }
   ],
   "source": [
    "plt.figure(figsize=(12,4))\n",
    "plt.grid(True)\n",
    "plt.xlabel('Date')\n",
    "plt.ylabel('TEU')\n",
    "plt.plot(data['TEU'], 'blue', label='TEU')\n",
    "plt.legend()"
   ]
  },
  {
   "cell_type": "code",
   "execution_count": 7,
   "id": "82b9873e",
   "metadata": {
    "scrolled": false
   },
   "outputs": [
    {
     "data": {
      "text/plain": [
       "<matplotlib.legend.Legend at 0x162409a8fd0>"
      ]
     },
     "execution_count": 7,
     "metadata": {},
     "output_type": "execute_result"
    },
    {
     "data": {
      "image/png": "[encoded data removed]",
      "text/plain": [
       "<Figure size 864x288 with 1 Axes>"
      ]
     },
     "metadata": {
      "needs_background": "light"
     },
     "output_type": "display_data"
    }
   ],
   "source": [
    "plt.figure(figsize=(12,4))\n",
    "plt.grid(True)\n",
    "plt.xlabel('Date')\n",
    "plt.ylabel('TEU')\n",
    "plt.plot(data['TEU'], 'blue', label='Train data')\n",
    "plt.plot(test_data, 'red', label='Test data')\n",
    "plt.legend()"
   ]
  },
  {
   "cell_type": "code",
   "execution_count": 8,
   "id": "cf02213d",
   "metadata": {},
   "outputs": [],
   "source": [
    "seasonal = pd.read_csv('계절성예측.csv')"
   ]
  },
  {
   "cell_type": "code",
   "execution_count": 9,
   "id": "4760d619",
   "metadata": {},
   "outputs": [
    {
     "name": "stdout",
     "output_type": "stream",
     "text": [
      "(60, 1)\n"
     ]
    },
    {
     "data": {
      "text/html": [
       "<div>\n",
       "<style scoped>\n",
       "    .dataframe tbody tr th:only-of-type {\n",
       "        vertical-align: middle;\n",
       "    }\n",
       "\n",
       "    .dataframe tbody tr th {\n",
       "        vertical-align: top;\n",
       "    }\n",
       "\n",
       "    .dataframe thead th {\n",
       "        text-align: right;\n",
       "    }\n",
       "</style>\n",
       "<table border=\"1\" class=\"dataframe\">\n",
       "  <thead>\n",
       "    <tr style=\"text-align: right;\">\n",
       "      <th></th>\n",
       "      <th>TEU_Trend</th>\n",
       "    </tr>\n",
       "    <tr>\n",
       "      <th>Date</th>\n",
       "      <th></th>\n",
       "    </tr>\n",
       "  </thead>\n",
       "  <tbody>\n",
       "    <tr>\n",
       "      <th>2017-07-31</th>\n",
       "      <td>2291408.583</td>\n",
       "    </tr>\n",
       "    <tr>\n",
       "      <th>2017-08-31</th>\n",
       "      <td>2302073.625</td>\n",
       "    </tr>\n",
       "    <tr>\n",
       "      <th>2017-09-30</th>\n",
       "      <td>2310450.375</td>\n",
       "    </tr>\n",
       "    <tr>\n",
       "      <th>2017-10-31</th>\n",
       "      <td>2312407.958</td>\n",
       "    </tr>\n",
       "    <tr>\n",
       "      <th>2017-11-30</th>\n",
       "      <td>2320814.042</td>\n",
       "    </tr>\n",
       "  </tbody>\n",
       "</table>\n",
       "</div>"
      ],
      "text/plain": [
       "              TEU_Trend\n",
       "Date                   \n",
       "2017-07-31  2291408.583\n",
       "2017-08-31  2302073.625\n",
       "2017-09-30  2310450.375\n",
       "2017-10-31  2312407.958\n",
       "2017-11-30  2320814.042"
      ]
     },
     "execution_count": 9,
     "metadata": {},
     "output_type": "execute_result"
    }
   ],
   "source": [
    "pd.set_option('display.max_columns', None)\n",
    "trend = pd.read_csv('TEU분해.csv')\n",
    "trend['Date'] = pd.to_datetime(trend['Date'])\n",
    "trend = trend.set_index('Date')\n",
    "print(trend.shape)\n",
    "trend.head()"
   ]
  },
  {
   "cell_type": "code",
   "execution_count": 10,
   "id": "1d4de9fd",
   "metadata": {},
   "outputs": [],
   "source": [
    "import tensorflow \n",
    "import tensorflow as tf\n",
    "from tensorflow.keras import layers, models\n",
    "from tensorflow.keras.models import Sequential\n",
    "from tensorflow.keras.callbacks import EarlyStopping\n",
    "from tensorflow.keras.layers import LSTM, Dense,Flatten,Dropout,GRU,Bidirectional,RepeatVector,TimeDistributed"
   ]
  },
  {
   "cell_type": "code",
   "execution_count": 11,
   "id": "345bb0d8",
   "metadata": {},
   "outputs": [],
   "source": [
    "from tensorflow.keras.layers import *\n",
    "from tensorflow.keras.models import *\n",
    "from tensorflow.keras.callbacks import *\n",
    "from tensorflow.keras.optimizers import *\n",
    "from tensorflow.keras import backend as K"
   ]
  },
  {
   "cell_type": "code",
   "execution_count": 12,
   "id": "cba31720",
   "metadata": {},
   "outputs": [],
   "source": [
    "import random\n",
    "random.seed(1234)\n",
    "np.random.seed(1234)\n",
    "tf.random.set_seed(1234)"
   ]
  },
  {
   "cell_type": "code",
   "execution_count": 13,
   "id": "d75e035a",
   "metadata": {},
   "outputs": [
    {
     "data": {
      "text/plain": [
       "array([0.5380393], dtype=float32)"
      ]
     },
     "execution_count": 13,
     "metadata": {},
     "output_type": "execute_result"
    }
   ],
   "source": [
    "tf.random.uniform([1]).numpy()"
   ]
  },
  {
   "cell_type": "code",
   "execution_count": 14,
   "id": "51594915",
   "metadata": {},
   "outputs": [],
   "source": [
    "raw_df = data"
   ]
  },
  {
   "cell_type": "code",
   "execution_count": 15,
   "id": "91ffefcc",
   "metadata": {},
   "outputs": [],
   "source": [
    "split = -80\n",
    "train = raw_df[0:split] \n",
    "test = raw_df[split:] "
   ]
  },
  {
   "cell_type": "code",
   "execution_count": 16,
   "id": "f131c3c1",
   "metadata": {},
   "outputs": [
    {
     "data": {
      "text/plain": [
       "<matplotlib.legend.Legend at 0x16246c03640>"
      ]
     },
     "execution_count": 16,
     "metadata": {},
     "output_type": "execute_result"
    },
    {
     "data": {
      "image/png": "[encoded data removed]",
      "text/plain": [
       "<Figure size 864x288 with 1 Axes>"
      ]
     },
     "metadata": {
      "needs_background": "light"
     },
     "output_type": "display_data"
    }
   ],
   "source": [
    "plt.figure(figsize=(12,4))\n",
    "plt.grid(True)\n",
    "plt.xlabel('Date')\n",
    "plt.ylabel('TEU')\n",
    "plt.plot(train['TEU'], 'blue', label='Train data')\n",
    "plt.plot(test['TEU'], 'red', label='Test data')\n",
    "plt.legend()"
   ]
  },
  {
   "cell_type": "code",
   "execution_count": 17,
   "id": "6bb798d0",
   "metadata": {},
   "outputs": [
    {
     "data": {
      "text/plain": [
       "(190, 80)"
      ]
     },
     "execution_count": 17,
     "metadata": {},
     "output_type": "execute_result"
    }
   ],
   "source": [
    "len(train),len(test)"
   ]
  },
  {
   "cell_type": "code",
   "execution_count": 18,
   "id": "d823aba1",
   "metadata": {
    "scrolled": true
   },
   "outputs": [
    {
     "data": {
      "text/plain": [
       "Index(['TEU', 'BDI', 'ln(HRCI)', 'ln(SCFI)', 'ln(다우존스지수)', '전산업생산지수', '경상수지',\n",
       "       '환율', '화물수송총괄', '수출물가지수'],\n",
       "      dtype='object')"
      ]
     },
     "execution_count": 18,
     "metadata": {},
     "output_type": "execute_result"
    }
   ],
   "source": [
    "data.columns"
   ]
  },
  {
   "cell_type": "code",
   "execution_count": 19,
   "id": "5e49f639",
   "metadata": {},
   "outputs": [],
   "source": [
    "from sklearn.preprocessing import MinMaxScaler\n",
    "scaler = MinMaxScaler(feature_range=(0, 1))\n",
    "scale_cols =  ['TEU','BDI', 'ln(HRCI)', 'ln(SCFI)','수출물가지수','환율','전산업생산지수','경상수지','ln(다우존스지수)','화물수송총괄']\n",
    "scaled_train = scaler.fit_transform(train[scale_cols])  \n",
    "scaled_train = pd.DataFrame(scaled_train, columns=scale_cols)\n",
    "\n",
    "feature_train = scaled_train                       # X_train 다변량 시계열 변수 \n",
    "label_train = scaled_train[['TEU']]               #  y_train 종속변수 \n",
    "\n",
    "scaled_test = scaler.fit_transform(test[scale_cols]) \n",
    "scaled_test = pd.DataFrame(scaled_test, columns=scale_cols)\n",
    "\n",
    "feature_test = scaled_test                       # X_test 다변량 시계열 변수 \n",
    "label_test = scaled_test[['TEU']]               #  y_test종속변수 "
   ]
  },
  {
   "cell_type": "code",
   "execution_count": 20,
   "id": "70dbc9a7",
   "metadata": {},
   "outputs": [],
   "source": [
    "def split_sequence(sequence, n_steps_in, n_steps_out):\n",
    "    X, y = list(), list()\n",
    "    for i in range(len(sequence)):\n",
    "        end_ix = i + n_steps_in\n",
    "        out_end_ix = end_ix + n_steps_out\n",
    "        if out_end_ix > len(sequence):\n",
    "            break\n",
    "        seq_x, seq_y = sequence[i:end_ix], sequence[end_ix:out_end_ix]\n",
    "        X.append(seq_x)\n",
    "        y.append(seq_y)\n",
    "    return array(X), array(y)"
   ]
  },
  {
   "cell_type": "code",
   "execution_count": 21,
   "id": "9292cf3e",
   "metadata": {},
   "outputs": [],
   "source": [
    "window_size = 20 # Input Sequence (입력 길이) : X1,X2,....XT \n",
    "n_step_out = 60   # Output Sequence (출력 길이) : Y1,Y2,....YT"
   ]
  },
  {
   "cell_type": "markdown",
   "id": "f0f20fdb",
   "metadata": {},
   "source": [
    "### 1. X_train, Y_train 배열"
   ]
  },
  {
   "cell_type": "code",
   "execution_count": 22,
   "id": "8ff447f5",
   "metadata": {},
   "outputs": [],
   "source": [
    "X_train,y = split_sequence(feature_train, window_size, n_step_out) # feature_train = X 다변량 변수 \n",
    "x, Y_train = split_sequence(label_train, window_size, n_step_out) # label_train = Y 종속변수 예측값 "
   ]
  },
  {
   "cell_type": "code",
   "execution_count": 23,
   "id": "c56e896a",
   "metadata": {},
   "outputs": [
    {
     "data": {
      "text/plain": [
       "((111, 20, 10), (111, 60, 1))"
      ]
     },
     "execution_count": 23,
     "metadata": {},
     "output_type": "execute_result"
    }
   ],
   "source": [
    "X_train.shape,Y_train.shape"
   ]
  },
  {
   "cell_type": "markdown",
   "id": "f901619f",
   "metadata": {},
   "source": [
    "### 2. X_test,Y_test 배열"
   ]
  },
  {
   "cell_type": "code",
   "execution_count": 24,
   "id": "143f51ab",
   "metadata": {},
   "outputs": [],
   "source": [
    "X_test,y = split_sequence(feature_test, window_size, n_step_out) # feature_train = X 다변량 변수 \n",
    "x, Y_test = split_sequence(label_test, window_size, n_step_out) # label_train = Y 종속변수 예측값 "
   ]
  },
  {
   "cell_type": "code",
   "execution_count": 25,
   "id": "f591f52b",
   "metadata": {
    "scrolled": true
   },
   "outputs": [
    {
     "data": {
      "text/plain": [
       "((1, 20, 10), (1, 60, 1))"
      ]
     },
     "execution_count": 25,
     "metadata": {},
     "output_type": "execute_result"
    }
   ],
   "source": [
    "X_test.shape,Y_test.shape"
   ]
  },
  {
   "cell_type": "code",
   "execution_count": 26,
   "id": "70f288e8",
   "metadata": {},
   "outputs": [],
   "source": [
    "class MCDropout(Dropout): # 몬테카를로 드롭아웃 \n",
    "    def call(self, inputs):\n",
    "        return super().call(inputs, training=True)"
   ]
  },
  {
   "cell_type": "code",
   "execution_count": 27,
   "id": "8e733550",
   "metadata": {
    "scrolled": true
   },
   "outputs": [
    {
     "name": "stdout",
     "output_type": "stream",
     "text": [
      "Epoch 1/200\n",
      "11/11 [==============================] - 5s 338ms/step - loss: 0.4460 - mae: 0.5839 - val_loss: 0.4504 - val_mae: 0.6140\n",
      "Epoch 2/200\n",
      "11/11 [==============================] - 0s 37ms/step - loss: 0.2692 - mae: 0.4401 - val_loss: 0.3243 - val_mae: 0.4942\n",
      "Epoch 3/200\n",
      "11/11 [==============================] - 0s 35ms/step - loss: 0.1438 - mae: 0.3038 - val_loss: 0.1588 - val_mae: 0.3254\n",
      "Epoch 4/200\n",
      "11/11 [==============================] - 0s 37ms/step - loss: 0.1024 - mae: 0.2578 - val_loss: 0.1583 - val_mae: 0.3406\n",
      "Epoch 5/200\n",
      "11/11 [==============================] - 0s 37ms/step - loss: 0.0821 - mae: 0.2284 - val_loss: 0.1284 - val_mae: 0.3003\n",
      "Epoch 6/200\n",
      "11/11 [==============================] - ETA: 0s - loss: 0.0661 - mae: 0.205 - 0s 31ms/step - loss: 0.0659 - mae: 0.2056 - val_loss: 0.1255 - val_mae: 0.3081\n",
      "Epoch 7/200\n",
      "11/11 [==============================] - 0s 33ms/step - loss: 0.0605 - mae: 0.1948 - val_loss: 0.1527 - val_mae: 0.3413\n",
      "Epoch 8/200\n",
      "11/11 [==============================] - 0s 30ms/step - loss: 0.0472 - mae: 0.1734 - val_loss: 0.1034 - val_mae: 0.2744\n",
      "Epoch 9/200\n",
      "11/11 [==============================] - 0s 28ms/step - loss: 0.0472 - mae: 0.1720 - val_loss: 0.1119 - val_mae: 0.2942\n",
      "Epoch 10/200\n",
      "11/11 [==============================] - 0s 32ms/step - loss: 0.0426 - mae: 0.1635 - val_loss: 0.1028 - val_mae: 0.2776\n",
      "Epoch 11/200\n",
      "11/11 [==============================] - 0s 29ms/step - loss: 0.0459 - mae: 0.1689 - val_loss: 0.0837 - val_mae: 0.2505\n",
      "Epoch 12/200\n",
      "11/11 [==============================] - 0s 32ms/step - loss: 0.0388 - mae: 0.1547 - val_loss: 0.1027 - val_mae: 0.2770\n",
      "Epoch 13/200\n",
      "11/11 [==============================] - 0s 32ms/step - loss: 0.0366 - mae: 0.1505 - val_loss: 0.1030 - val_mae: 0.2727\n",
      "Epoch 14/200\n",
      "11/11 [==============================] - 0s 33ms/step - loss: 0.0374 - mae: 0.1520 - val_loss: 0.0894 - val_mae: 0.2545\n",
      "Epoch 15/200\n",
      "11/11 [==============================] - 0s 38ms/step - loss: 0.0309 - mae: 0.1371 - val_loss: 0.0920 - val_mae: 0.2657\n",
      "Epoch 16/200\n",
      "11/11 [==============================] - 0s 29ms/step - loss: 0.0349 - mae: 0.1458 - val_loss: 0.0650 - val_mae: 0.2157\n",
      "Epoch 17/200\n",
      "11/11 [==============================] - 0s 29ms/step - loss: 0.0310 - mae: 0.1379 - val_loss: 0.0820 - val_mae: 0.2427\n",
      "Epoch 18/200\n",
      "11/11 [==============================] - 0s 28ms/step - loss: 0.0313 - mae: 0.1390 - val_loss: 0.0800 - val_mae: 0.2472\n",
      "Epoch 19/200\n",
      "11/11 [==============================] - 0s 27ms/step - loss: 0.0314 - mae: 0.1391 - val_loss: 0.0729 - val_mae: 0.2329\n",
      "Epoch 20/200\n",
      "11/11 [==============================] - 0s 27ms/step - loss: 0.0307 - mae: 0.1385 - val_loss: 0.0627 - val_mae: 0.2120\n",
      "Epoch 21/200\n",
      "11/11 [==============================] - 0s 27ms/step - loss: 0.0286 - mae: 0.1339 - val_loss: 0.0527 - val_mae: 0.1920\n",
      "Epoch 22/200\n",
      "11/11 [==============================] - 0s 29ms/step - loss: 0.0260 - mae: 0.1261 - val_loss: 0.0494 - val_mae: 0.1859\n",
      "Epoch 23/200\n",
      "11/11 [==============================] - 0s 31ms/step - loss: 0.0262 - mae: 0.1266 - val_loss: 0.0582 - val_mae: 0.2124\n",
      "Epoch 24/200\n",
      "11/11 [==============================] - 0s 28ms/step - loss: 0.0287 - mae: 0.1339 - val_loss: 0.0489 - val_mae: 0.1845\n",
      "Epoch 25/200\n",
      "11/11 [==============================] - 0s 27ms/step - loss: 0.0263 - mae: 0.1277 - val_loss: 0.0491 - val_mae: 0.1818\n",
      "Epoch 26/200\n",
      "11/11 [==============================] - 0s 29ms/step - loss: 0.0237 - mae: 0.1208 - val_loss: 0.0522 - val_mae: 0.1928\n",
      "Epoch 27/200\n",
      "11/11 [==============================] - 0s 30ms/step - loss: 0.0251 - mae: 0.1233 - val_loss: 0.0589 - val_mae: 0.2024\n",
      "Epoch 28/200\n",
      "11/11 [==============================] - 0s 27ms/step - loss: 0.0251 - mae: 0.1248 - val_loss: 0.0568 - val_mae: 0.2061\n",
      "Epoch 29/200\n",
      "11/11 [==============================] - 0s 27ms/step - loss: 0.0249 - mae: 0.1237 - val_loss: 0.0476 - val_mae: 0.1811\n",
      "Epoch 30/200\n",
      "11/11 [==============================] - 0s 27ms/step - loss: 0.0226 - mae: 0.1178 - val_loss: 0.0447 - val_mae: 0.1729\n",
      "Epoch 31/200\n",
      "11/11 [==============================] - 0s 29ms/step - loss: 0.0215 - mae: 0.1155 - val_loss: 0.0386 - val_mae: 0.1599\n",
      "Epoch 32/200\n",
      "11/11 [==============================] - 0s 25ms/step - loss: 0.0217 - mae: 0.1154 - val_loss: 0.0386 - val_mae: 0.1630\n",
      "Epoch 33/200\n",
      "11/11 [==============================] - 0s 26ms/step - loss: 0.0212 - mae: 0.1150 - val_loss: 0.0362 - val_mae: 0.1544\n",
      "Epoch 34/200\n",
      "11/11 [==============================] - 0s 33ms/step - loss: 0.0197 - mae: 0.1099 - val_loss: 0.0331 - val_mae: 0.1496\n",
      "Epoch 35/200\n",
      "11/11 [==============================] - 0s 32ms/step - loss: 0.0188 - mae: 0.1063 - val_loss: 0.0366 - val_mae: 0.1581\n",
      "Epoch 36/200\n",
      "11/11 [==============================] - 0s 26ms/step - loss: 0.0194 - mae: 0.1090 - val_loss: 0.0347 - val_mae: 0.1535\n",
      "Epoch 37/200\n",
      "11/11 [==============================] - 0s 30ms/step - loss: 0.0207 - mae: 0.1118 - val_loss: 0.0312 - val_mae: 0.1477\n",
      "Epoch 38/200\n",
      "11/11 [==============================] - 0s 30ms/step - loss: 0.0182 - mae: 0.1038 - val_loss: 0.0379 - val_mae: 0.1639\n",
      "Epoch 39/200\n",
      "11/11 [==============================] - 0s 31ms/step - loss: 0.0183 - mae: 0.1061 - val_loss: 0.0331 - val_mae: 0.1478\n",
      "Epoch 40/200\n",
      "11/11 [==============================] - 0s 45ms/step - loss: 0.0188 - mae: 0.1073 - val_loss: 0.0355 - val_mae: 0.1531\n",
      "Epoch 41/200\n",
      "11/11 [==============================] - 0s 29ms/step - loss: 0.0173 - mae: 0.1019 - val_loss: 0.0291 - val_mae: 0.1365\n",
      "Epoch 42/200\n",
      "11/11 [==============================] - 0s 28ms/step - loss: 0.0167 - mae: 0.1005 - val_loss: 0.0298 - val_mae: 0.1426\n",
      "Epoch 43/200\n",
      "11/11 [==============================] - 0s 28ms/step - loss: 0.0172 - mae: 0.1021 - val_loss: 0.0262 - val_mae: 0.1289\n",
      "Epoch 44/200\n",
      "11/11 [==============================] - 0s 31ms/step - loss: 0.0165 - mae: 0.1008 - val_loss: 0.0280 - val_mae: 0.1406\n",
      "Epoch 45/200\n",
      "11/11 [==============================] - 0s 32ms/step - loss: 0.0165 - mae: 0.1000 - val_loss: 0.0288 - val_mae: 0.1356\n",
      "Epoch 46/200\n",
      "11/11 [==============================] - 0s 28ms/step - loss: 0.0162 - mae: 0.0986 - val_loss: 0.0363 - val_mae: 0.1604\n",
      "Epoch 47/200\n",
      "11/11 [==============================] - 0s 29ms/step - loss: 0.0146 - mae: 0.0943 - val_loss: 0.0241 - val_mae: 0.1252\n",
      "Epoch 48/200\n",
      "11/11 [==============================] - 0s 30ms/step - loss: 0.0140 - mae: 0.0920 - val_loss: 0.0285 - val_mae: 0.1344\n",
      "Epoch 49/200\n",
      "11/11 [==============================] - 0s 30ms/step - loss: 0.0139 - mae: 0.0914 - val_loss: 0.0265 - val_mae: 0.1367\n",
      "Epoch 50/200\n",
      "11/11 [==============================] - 0s 29ms/step - loss: 0.0141 - mae: 0.0921 - val_loss: 0.0235 - val_mae: 0.1261\n",
      "Epoch 51/200\n",
      "11/11 [==============================] - 0s 29ms/step - loss: 0.0137 - mae: 0.0913 - val_loss: 0.0223 - val_mae: 0.1217\n",
      "Epoch 52/200\n",
      "11/11 [==============================] - 0s 28ms/step - loss: 0.0131 - mae: 0.0893 - val_loss: 0.0286 - val_mae: 0.1357\n",
      "Epoch 53/200\n",
      "11/11 [==============================] - 0s 29ms/step - loss: 0.0122 - mae: 0.0863 - val_loss: 0.0243 - val_mae: 0.1271\n",
      "Epoch 54/200\n",
      "11/11 [==============================] - 0s 37ms/step - loss: 0.0118 - mae: 0.0850 - val_loss: 0.0224 - val_mae: 0.1222\n",
      "Epoch 55/200\n",
      "11/11 [==============================] - 0s 31ms/step - loss: 0.0114 - mae: 0.0830 - val_loss: 0.0248 - val_mae: 0.1335\n",
      "Epoch 56/200\n",
      "11/11 [==============================] - 0s 27ms/step - loss: 0.0111 - mae: 0.0822 - val_loss: 0.0210 - val_mae: 0.1202\n",
      "Epoch 57/200\n",
      "11/11 [==============================] - 0s 27ms/step - loss: 0.0110 - mae: 0.0819 - val_loss: 0.0171 - val_mae: 0.1081\n",
      "Epoch 58/200\n",
      "11/11 [==============================] - 0s 34ms/step - loss: 0.0101 - mae: 0.0790 - val_loss: 0.0200 - val_mae: 0.1183\n",
      "Epoch 59/200\n",
      "11/11 [==============================] - 0s 29ms/step - loss: 0.0097 - mae: 0.0764 - val_loss: 0.0198 - val_mae: 0.1202\n",
      "Epoch 60/200\n",
      "11/11 [==============================] - 0s 27ms/step - loss: 0.0104 - mae: 0.0792 - val_loss: 0.0193 - val_mae: 0.1112\n",
      "Epoch 61/200\n",
      "11/11 [==============================] - 0s 29ms/step - loss: 0.0102 - mae: 0.0791 - val_loss: 0.0193 - val_mae: 0.1130\n",
      "Epoch 62/200\n",
      "11/11 [==============================] - 0s 36ms/step - loss: 0.0107 - mae: 0.0806 - val_loss: 0.0192 - val_mae: 0.1146\n"
     ]
    },
    {
     "data": {
      "text/plain": [
       "<tensorflow.python.keras.callbacks.History at 0x16247f0d160>"
      ]
     },
     "execution_count": 27,
     "metadata": {},
     "output_type": "execute_result"
    }
   ],
   "source": [
    "model = Sequential() # Encoder & Decoder\n",
    "\n",
    "## Encoder state\n",
    "model.add(Conv1D(filters=48, kernel_size=2,activation='tanh',input_shape=(X_train.shape[1], X_train.shape[2]),padding='causal'))\n",
    "model.add(MCDropout(0.8))\n",
    "model.add(Dense(1))\n",
    "model.add(Flatten())\n",
    "\n",
    "model.add(RepeatVector(60)) # 출력 개수만큼 반복 \n",
    "\n",
    "## Decoder State\n",
    "model.add(LSTM(66, activation='tanh', return_sequences=True)) # Decoder State \n",
    "model.add(MCDropout(0.8))\n",
    "model.add(TimeDistributed(Dense(8,activation='relu'))) \n",
    "model.add(TimeDistributed(Dense(1)))\n",
    "\n",
    "model.compile(loss='mean_squared_error', optimizer='adam',metrics='mae')\n",
    "early_stop = EarlyStopping(monitor='val_loss', patience=5)\n",
    "model.fit(X_train, Y_train, epochs= 200, batch_size=10, validation_split=0.02,callbacks=[early_stop])"
   ]
  },
  {
   "cell_type": "markdown",
   "id": "d9d456a9",
   "metadata": {},
   "source": [
    "### MC-Dropout 비율 조정 기반 확률분포 추정 "
   ]
  },
  {
   "cell_type": "markdown",
   "id": "9c455355",
   "metadata": {},
   "source": [
    "#### 2017.07 ~ 2022.06"
   ]
  },
  {
   "cell_type": "code",
   "execution_count": 28,
   "id": "3dd86932",
   "metadata": {},
   "outputs": [],
   "source": [
    "X_test_1 = np.array(feature_test.head(20)).reshape((1,20, 10)) "
   ]
  },
  {
   "cell_type": "code",
   "execution_count": 29,
   "id": "da98323a",
   "metadata": {},
   "outputs": [],
   "source": [
    "model_MC=  model\n",
    "prediction = [model_MC.predict(X_test_1) for sample in range(30)]"
   ]
  },
  {
   "cell_type": "code",
   "execution_count": 30,
   "id": "1abd4a02",
   "metadata": {},
   "outputs": [],
   "source": [
    "dfs = [] # List \n",
    "for i in range(30): # 30개의 예측값 출력\n",
    "    fit = prediction[i].reshape(-1,1)\n",
    "    fit_repeat = np.repeat(fit,10, axis=-1)\n",
    "    model_fit = scaler.inverse_transform(fit_repeat)\n",
    "    model_fit = np.squeeze(model_fit)[:,0]\n",
    "    df = pd.DataFrame(model_fit)\n",
    "    dfs.append(df)"
   ]
  },
  {
   "cell_type": "code",
   "execution_count": 31,
   "id": "4585b5d8",
   "metadata": {
    "scrolled": true
   },
   "outputs": [
    {
     "data": {
      "image/png": "[encoded data removed]",
      "text/plain": [
       "<Figure size 432x144 with 1 Axes>"
      ]
     },
     "metadata": {
      "needs_background": "light"
     },
     "output_type": "display_data"
    }
   ],
   "source": [
    "rcParams['figure.figsize'] = 6, 2\n",
    "plt.suptitle('MC-Dropout=0.8')\n",
    "for i in range(0,30):\n",
    "    plt.ylim(2.0e6,2.9e6)\n",
    "    plt.plot(pd.DataFrame(np.array(dfs)[i])) "
   ]
  },
  {
   "cell_type": "code",
   "execution_count": 32,
   "id": "1018699d",
   "metadata": {},
   "outputs": [],
   "source": [
    "for i in range(0,30): # 1. df \n",
    "    df = pd.DataFrame(np.array(dfs)[i])"
   ]
  },
  {
   "cell_type": "code",
   "execution_count": 33,
   "id": "1af654b0",
   "metadata": {},
   "outputs": [],
   "source": [
    "for i in range(0,30): # 2.df[i]\n",
    "    df[i] = pd.DataFrame(np.array(dfs)[i])"
   ]
  },
  {
   "cell_type": "code",
   "execution_count": 34,
   "id": "a1f02644",
   "metadata": {},
   "outputs": [],
   "source": [
    "df1 = df\n",
    "df1.to_csv('df8.csv') # df1(MCD=-0.1) ~ df8(MCD=0.8) 저장 "
   ]
  },
  {
   "cell_type": "code",
   "execution_count": 44,
   "id": "704e9537",
   "metadata": {},
   "outputs": [],
   "source": [
    "df1 = pd.read_csv('df1.csv')\n",
    "df2 = pd.read_csv('df2.csv')\n",
    "df3 = pd.read_csv('df3.csv')\n",
    "df4 = pd.read_csv('df4.csv')\n",
    "df5 = pd.read_csv('df5.csv')\n",
    "df6 = pd.read_csv('df6.csv')\n",
    "df7 = pd.read_csv('df7.csv')\n",
    "df8 = pd.read_csv('df8.csv')"
   ]
  },
  {
   "cell_type": "code",
   "execution_count": 171,
   "id": "041e3352",
   "metadata": {},
   "outputs": [
    {
     "data": {
      "text/plain": [
       "<matplotlib.legend.Legend at 0x1625561ef10>"
      ]
     },
     "execution_count": 171,
     "metadata": {},
     "output_type": "execute_result"
    },
    {
     "data": {
      "image/png": "[encoded data removed]",
      "text/plain": [
       "<Figure size 468x216 with 1 Axes>"
      ]
     },
     "metadata": {
      "needs_background": "light"
     },
     "output_type": "display_data"
    }
   ],
   "source": [
    "plt.figure(figsize=(6.5,3))\n",
    "plt.title('MC-Dropout Rate(CNN-LSTM)')\n",
    "sns.distplot(df1,color='orange',hist=False,label='MCD=0.1')\n",
    "sns.distplot(df2,color='cyan',hist=False,label='MCD=0.2')\n",
    "sns.distplot(df3,color='green',hist=False,label='MCD=0.3')\n",
    "sns.distplot(df4,color='lightgreen',hist=False,label='MCD=0.4')\n",
    "sns.distplot(df5,color='violet',hist=False,label='MCD=0.5')\n",
    "sns.distplot(df6,color='darkorange',hist=False,label='MCD=0.6')\n",
    "sns.distplot(df7,color='dimgrey',hist=False,label='MCD=0.7')\n",
    "sns.distplot(df8,color='blue',hist=False,label='MCD=0.8')\n",
    "sns.distplot(test_data.reset_index()['TEU'],hist=False,color='red',label='TEU')\n",
    "plt.xlabel('2017.07 ~ 2022.06 ')\n",
    "plt.legend()"
   ]
  }
 ],
 "metadata": {
  "kernelspec": {
   "display_name": "Python 3",
   "language": "python",
   "name": "python3"
  },
  "language_info": {
   "codemirror_mode": {
    "name": "ipython",
    "version": 3
   },
   "file_extension": ".py",
   "mimetype": "text/x-python",
   "name": "python",
   "nbconvert_exporter": "python",
   "pygments_lexer": "ipython3",
   "version": "3.8.8"
  }
 },
 "nbformat": 4,
 "nbformat_minor": 5
}
