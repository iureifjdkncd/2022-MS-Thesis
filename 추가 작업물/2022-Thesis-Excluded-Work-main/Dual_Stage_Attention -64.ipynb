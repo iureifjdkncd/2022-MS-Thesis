{
 "cells": [
  {
   "cell_type": "markdown",
   "metadata": {},
   "source": [
    "#### 참고 --> https://github.com/YooSungHyun/attention-time-forecast/tree/master"
   ]
  },
  {
   "cell_type": "code",
   "execution_count": 1,
   "metadata": {},
   "outputs": [],
   "source": [
    "import pandas as pd\n",
    "import numpy as np\n",
    "from numpy import array\n",
    "\n",
    "import matplotlib.pyplot as plt\n",
    "import matplotlib.font_manager as fm\n",
    "from matplotlib import rc\n",
    "%matplotlib inline\n",
    "\n",
    "import math\n",
    "from sklearn.metrics import mean_squared_error, mean_absolute_error,r2_score"
   ]
  },
  {
   "cell_type": "code",
   "execution_count": 2,
   "metadata": {},
   "outputs": [],
   "source": [
    "import tensorflow as tf\n",
    "from tensorflow.keras.layers import *\n",
    "from tensorflow.keras.models import *\n",
    "from tensorflow.keras.callbacks import *\n",
    "from tensorflow.keras.optimizers import *\n",
    "from tensorflow.keras import backend as K"
   ]
  },
  {
   "cell_type": "code",
   "execution_count": 3,
   "metadata": {},
   "outputs": [],
   "source": [
    "import warnings \n",
    "warnings.filterwarnings(action='ignore')"
   ]
  },
  {
   "cell_type": "code",
   "execution_count": 4,
   "metadata": {},
   "outputs": [],
   "source": [
    "#한글폰트 적용\n",
    "import matplotlib.font_manager as fm\n",
    "path = 'C:/Windows/Fonts/gulim.ttc'\n",
    "font_name = fm.FontProperties(fname=path, size=50).get_name()\n",
    "plt.rc('font', family=font_name)"
   ]
  },
  {
   "cell_type": "code",
   "execution_count": 5,
   "metadata": {},
   "outputs": [],
   "source": [
    "class MCDropout(Dropout): # 몬테카를로 드롭아웃 \n",
    "    def call(self, inputs):\n",
    "        return super().call(inputs, training=True)"
   ]
  },
  {
   "cell_type": "code",
   "execution_count": 31,
   "metadata": {},
   "outputs": [],
   "source": [
    "class Encoderlstm(Layer):\n",
    "    def __init__(self, m):\n",
    "        \"\"\"\n",
    "        m : feature dimension\n",
    "        h0 : initial hidden state\n",
    "        c0 : initial cell state\n",
    "        \"\"\"\n",
    "        super(Encoderlstm, self).__init__(name=\"encoder_lstm\")\n",
    "        self.lstm = LSTM(m, return_state=True)\n",
    "        self.initial_state = None\n",
    "\n",
    "    def call(self, x, training=False):\n",
    "        \"\"\"\n",
    "        x : t 번째 input data (shape = batch,1,n)\n",
    "        \"\"\"\n",
    "        h_s, _, c_s = self.lstm(x, initial_state=self.initial_state)\n",
    "        self.initial_state = [h_s, c_s]\n",
    "        return h_s, c_s\n",
    "\n",
    "    def reset_state(self, h0, c0):\n",
    "        self.initial_state = [h0, c0]\n",
    "\n",
    "\n",
    "class InputAttention(Layer):\n",
    "    def __init__(self, T):\n",
    "        super(InputAttention, self).__init__(name=\"input_attention\")\n",
    "        self.w1 = Dense(T)\n",
    "        self.w2 = Dense(T)\n",
    "        self.v = Dense(1)\n",
    "\n",
    "    def call(self, h_s, c_s, x):\n",
    "        \"\"\"\n",
    "        h_s : hidden_state (shape = batch,m)\n",
    "        c_s : cell_state (shape = batch,m)\n",
    "        x : time series encoder inputs (shape = batch,T,n)\n",
    "        \"\"\"\n",
    "        # 논문에서 hidden과 cell state를 concat하여 어텐션하는게 정확도가 더 높다고 한다.\n",
    "        query = tf.concat([h_s, c_s], axis=-1)  # batch, m*2\n",
    "        # 특징 개수만큼 hidden과 cell 합친 상태를 불린다. (각 특징만큼 hidden과 cell의 어텐션을 보기 위함이니까.)\n",
    "        query = RepeatVector(tf.shape(x)[2])(query)  # batch, n, m*2\n",
    "        # 2열과 1열 전치\n",
    "        x_perm = Permute((2, 1))(x)  # batch, n, T\n",
    "\n",
    "        # 일반적인 바다나우 어텐션 실시.\n",
    "        score = tf.nn.tanh(self.w1(x_perm) + self.w2(query))  # batch, n, T\n",
    "\n",
    "        # 1 시계열에 대한, 특징들의 scoring이 진행된다.\n",
    "        score = self.v(score)  # batch, n, 1\n",
    "        \n",
    "        # Attention Weight가 1 시계열에 대한 특징들의 어텐션이었으니, 소스에서 인지하기 쉽게 2열 1열 다시 전치\n",
    "        score = Permute((2, 1))(score)  # batch,1,n\n",
    "\n",
    "        attention_weights = tf.nn.softmax(score)  # t 번째 time step 일 때 각 feature 별 중요도\n",
    "        return attention_weights\n",
    "\n",
    "\n",
    "class Encoder(Layer):\n",
    "    def __init__(self, T, m):\n",
    "        super(Encoder, self).__init__(name=\"encoder\")\n",
    "        \"\"\"\n",
    "        m : 인코더 LSTM의 Units(outputs) 개수. (lstm의 출력을 몇개의 차원으로 할 것인가?)\n",
    "        \"\"\"\n",
    "        self.T = T\n",
    "        self.input_att = InputAttention(T)\n",
    "        self.lstm = Encoderlstm(m)\n",
    "        self.initial_state = None\n",
    "        self.alpha_t = None\n",
    "\n",
    "    def call(self, data, h0, c0, n, training=False):\n",
    "        \"\"\"\n",
    "        data : encoder data (shape = batch, T, n)\n",
    "        n : data feature num\n",
    "        \"\"\"\n",
    "        # state setting\n",
    "        self.lstm.reset_state(h0=h0, c0=c0)\n",
    "\n",
    "        # 시간별 result를 담을 array 생성\n",
    "        alpha_seq = tf.TensorArray(tf.float32, self.T)\n",
    "        \n",
    "        # 이부분은 각자 데이터셋에 따라 수정이 필요할 수 있다.\n",
    "        # 근데, 사실상 encoder는 집어넣은 dataset의 timestep을 다 쓸테니, 수정이 필요하지 않는게 일반적일듯 하다.\n",
    "        for t in range(self.T):\n",
    "\n",
    "            # 배치단위로 각 시간순서의 값들을 떼어서 3차원으로 변환시켜준다\n",
    "            # 24시간으로 가정하면, 1배치의 모든 0시 값을 t=0에 수행\n",
    "            x = Lambda(lambda x: data[:, t, :])(data)\n",
    "            x = x[:, tf.newaxis, :]\n",
    "            # x : (batch_size,1,n)\n",
    "            \n",
    "            # 각 배치의 모든 시 1 time을 넣어서 lstm을 수행한다. (1 time step lstm)\n",
    "            h_s, c_s = self.lstm(x)\n",
    "            # h_s, c_s : (batch_size, m)\n",
    "\n",
    "            # 1 time step에 대한 input attetnion을 진행한다.\n",
    "            self.alpha_t = self.input_att(h_s, c_s, data)  # batch,1,n\n",
    "            # 한 시계열에 대한 feature attention score가 출력된다.\n",
    "\n",
    "            # 이후에 곱을 한꺼번에 진행하기 위해서 value와 곱하는 과정을 먼저 수행하진 않고 결과 array에 전부 넣어놓는다.\n",
    "            alpha_seq = alpha_seq.write(t, self.alpha_t)\n",
    "\n",
    "        # 각 시계열별로 특징들에 대한 weight를 전부 계산하고, array를 1개로 합쳐 최종 시계열별 특징 중요도에 대한 array set를 완성한다.\n",
    "        alpha_seq = tf.reshape(alpha_seq.stack(), (-1, self.T, n))  # batch, T, n\n",
    "\n",
    "        # Attention Weight * Value를 통해, 실제 Context_Vector set를 구하게 된다.\n",
    "        # 결과적으로는 각 시간 time-line별로 가장 중요하게 생각되는 특성들만 값이 높아지게 된다.\n",
    "        output = tf.multiply(data, alpha_seq)  # batch, T, n\n",
    "\n",
    "        return output\n",
    "\n",
    "\n",
    "class Decoderlstm(Layer):\n",
    "    def __init__(self, p):\n",
    "        \"\"\"\n",
    "        p : feature dimension\n",
    "        h0 : initial hidden state\n",
    "        c0 : initial cell state\n",
    "        \"\"\"\n",
    "        super(Decoderlstm, self).__init__(name=\"decoder_lstm\")\n",
    "        self.lstm = LSTM(p, return_state=True)\n",
    "        self.initial_state = None\n",
    "\n",
    "    def call(self, x, training=False):\n",
    "        \"\"\"\n",
    "        x : t 번째 input data (shape = batch,1,n)\n",
    "        \"\"\"\n",
    "        h_s, _, c_s = self.lstm(x, initial_state=self.initial_state)\n",
    "        self.initial_state = [h_s, c_s]\n",
    "        return h_s, c_s\n",
    "\n",
    "    def reset_state(self, h0, c0):\n",
    "        self.initial_state = [h0, c0]\n",
    "\n",
    "\n",
    "class TemporalAttention(Layer):\n",
    "    def __init__(self, m):\n",
    "        super(TemporalAttention, self).__init__(name=\"temporal_attention\")\n",
    "        self.w1 = Dense(m)\n",
    "        self.w2 = Dense(m)\n",
    "        self.v = Dense(1)\n",
    "\n",
    "    def call(self, h_s, c_s, enc_h):\n",
    "        \"\"\"\n",
    "        h_s : hidden_state (shape = batch,p)\n",
    "        c_s : cell_state (shape = batch,p)\n",
    "        enc_h : time series encoder inputs (shape = batch,T,m)\n",
    "        \"\"\"\n",
    "        # 평범한 바다나우 어텐션이 진행된다.\n",
    "        query = tf.concat([h_s, c_s], axis=-1)  # batch, p*2\n",
    "        # 여기서는 시계열만큼을 복사한다는데 유의하자. decoder의 temporal attention은 일반적인 바다나우와 같이, 시간에 대한 attention이 계산된다.\n",
    "        query = RepeatVector(tf.shape(enc_h)[1])(query)\n",
    "        score = tf.nn.tanh(self.w1(enc_h) + self.w2(query))  # batch, T, m\n",
    "        score = self.v(score)  # batch, T, 1\n",
    "        attention_weights = tf.nn.softmax(\n",
    "            score, axis=1\n",
    "        )  # encoder hidden state h(i) 의 중요성 (0<=i<=T)\n",
    "        return attention_weights\n",
    "\n",
    "\n",
    "class Decoder(Layer):\n",
    "    def __init__(self, T, p, m):\n",
    "        super(Decoder, self).__init__(name=\"decoder\")\n",
    "        self.T = T\n",
    "        self.temp_att = TemporalAttention(m)\n",
    "        self.dense = Dense(1)\n",
    "        self.lstm = Decoderlstm(p)\n",
    "        self.enc_lstm_dim = m\n",
    "        self.dec_lstm_dim = p\n",
    "        self.context_v = None\n",
    "        self.dec_h_s = None\n",
    "        self.beta_t = None\n",
    "\n",
    "    def call(self, data, enc_h, h0=None, c0=None, training=False):\n",
    "        \"\"\"\n",
    "        data : decoder data\n",
    "        enc_h : encoder hidden state (shape = batch, T, m)\n",
    "        \"\"\"\n",
    "\n",
    "        h_s = None\n",
    "        self.lstm.reset_state(h0=h0, c0=c0)\n",
    "\n",
    "        self.context_v = tf.zeros((tf.shape(enc_h)[0], 1, self.enc_lstm_dim))  # batch,1,m\n",
    "        self.dec_h_s = tf.zeros((tf.shape(enc_h)[0], self.dec_lstm_dim))  # batch, p\n",
    "        # 이부분은 각자 데이터셋에 따라 수정이 필요할 수 있다.\n",
    "        # 필자는 이것저것 시도해봤었는데, 이부분은 decoder time step 전체를 보고 어떤 값 1개를 예측하기 위함이었다.\n",
    "        for t in range(data.shape[1]):\n",
    "            # decoder에 집어넣은 data를 모든 배치별 1 time step으로 분리한다.\n",
    "            x = Lambda(lambda x: data[:, t, :])(data)\n",
    "            x = x[:, tf.newaxis, :]  #  (batch,1,특징값 혹은 예측할값 기타등등?<-구성하기 나름이겠다.)\n",
    "\n",
    "            # 바다나우 어텐션과 동일하게, x와 context_vector를 concat\n",
    "            x = tf.concat([x, self.context_v], axis=-1) # batch, 1, m+1\n",
    "            x = self.dense(x)  # batch,1,특징 갯수 혹은 예측해야할 갯수+context_vector size\n",
    "\n",
    "            # attention을 진행할 decoder의 hidden과 cell을 구한다.\n",
    "            h_s, c_s = self.lstm(x)  # batch,p\n",
    "\n",
    "\n",
    "            # encoding에서 weighted sum된 특징값들을 통해서 (특징 중요도로 학습한 결과로), decoder에서는 시간에 대한 attention이 진행되게 된다.\n",
    "            self.beta_t = self.temp_att(h_s, c_s, enc_h)  # batch, T, 1\n",
    "            # 결과는 시간들에 있어서 가장 중요한 값이 뭐였는지에 대한 weigth가 나온다\n",
    "\n",
    "            # 실제로 encoder 시간값들(사실상 value)에 곱해서 가장 유의미했던 시간값들의 특징값에는 더 많은 가중치가 곱해지게 된다.\n",
    "            self.context_v = tf.matmul(\n",
    "                self.beta_t, enc_h, transpose_a=True\n",
    "            )  # batch,1,m\n",
    "\n",
    "        return tf.concat(\n",
    "            [h_s[:, tf.newaxis, :], self.context_v], axis=-1\n",
    "        )  # batch,1,m+p\n",
    "\n",
    "\n",
    "class DARNN(Model):\n",
    "    def __init__(self, T, m, p, target_len):\n",
    "        super(DARNN, self).__init__(name=\"DARNN\")\n",
    "        \"\"\"\n",
    "        T : time step (24시간이면 24)\n",
    "        m : encoder lstm feature(output) length (정확히는 encoder lstm의 유닛개수)\n",
    "        p : decoder lstm feature(output) length (정확히는 decoder lstm의 유닛개수)\n",
    "        h0 : lstm hidden state\n",
    "        c0 : lstm cell state\n",
    "        target_len : 예측할 Y의 개수 (24시간에 대한 기온,풍속,기압 을 예측할거면 target_len=3)\n",
    "        \"\"\"\n",
    "        self.m = m\n",
    "        self.encoder = Encoder(T=T, m=m)\n",
    "        self.decoder = Decoder(T=T, p=p, m=m)\n",
    "        self.lstm = LSTM(m, return_sequences=True)\n",
    "        self.dense1 = Dense(p)\n",
    "        self.dense2 = Dense(target_len)\n",
    "\n",
    "    def call(self, inputs, training=False, mask=None):\n",
    "        \"\"\"\n",
    "        inputs : [enc , dec]\n",
    "        enc_data : batch,T,n\n",
    "        dec_data : batch,T-1,1\n",
    "        \"\"\"\n",
    "        \n",
    "        enc_data, dec_data = inputs\n",
    "        batch = tf.shape(enc_data)[0]\n",
    "\n",
    "        '''\n",
    "        h0, c0는 솔직히 요즘 keras에서 초기화가 꼭 필요한지 궁금하다.\n",
    "        공식 개발자 가이드를 찾아봐도, 초기 h0과 c0은 0 dimension으로 채워진다고 되어있다.\n",
    "        '''\n",
    "        h0 = tf.zeros((batch, self.m))\n",
    "        c0 = tf.zeros((batch, self.m))\n",
    "        \n",
    "        # input attention을 이용하여, 각 시계열별 특징 중요도를 한땀한땀 계산하여 output에 해당하는 dimension으로 출력한다.\n",
    "        enc_output = self.encoder(\n",
    "            enc_data, n=tf.shape(enc_data)[2], h0=h0, c0=c0, training=training\n",
    "        )  # output : (batch_size, T, n)\n",
    "\n",
    "        # 전부 재계산된 context_vector를 통해서, 전 시계열을 1회 학습한다.\n",
    "        enc_h = self.lstm(enc_output)  # batch, T, m\n",
    "\n",
    "        # temporal attention을 이용하여, enc 시계열 대비 dec 시계열이 어떤 시계열에 attention되는지를 계산한다.\n",
    "        dec_output = self.decoder(\n",
    "            dec_data, enc_h, h0=h0, c0=c0, training=training\n",
    "        )  # output : (batch_size,1,m+p)\n",
    "        \n",
    "        # 전체 특징단위, 시간단위 유의미한 값들이 가중된 어떤 벡터값이 나오니, 그냥 NN 시킨다.\n",
    "        output = self.dense2(self.dense1(dec_output))\n",
    "        output = tf.squeeze(output)\n",
    "        return output"
   ]
  },
  {
   "cell_type": "code",
   "execution_count": 7,
   "metadata": {},
   "outputs": [
    {
     "name": "stdout",
     "output_type": "stream",
     "text": [
      "(270, 10)\n",
      "Index(['TEU', 'BDI', 'ln(HRCI)', 'ln(SCFI)', 'ln(다우존스지수)', '전산업생산지수', '경상수지',\n",
      "       '환율', '화물수송총괄', '수출물가지수'],\n",
      "      dtype='object')\n"
     ]
    },
    {
     "data": {
      "text/html": [
       "<div>\n",
       "<style scoped>\n",
       "    .dataframe tbody tr th:only-of-type {\n",
       "        vertical-align: middle;\n",
       "    }\n",
       "\n",
       "    .dataframe tbody tr th {\n",
       "        vertical-align: top;\n",
       "    }\n",
       "\n",
       "    .dataframe thead th {\n",
       "        text-align: right;\n",
       "    }\n",
       "</style>\n",
       "<table border=\"1\" class=\"dataframe\">\n",
       "  <thead>\n",
       "    <tr style=\"text-align: right;\">\n",
       "      <th></th>\n",
       "      <th>TEU</th>\n",
       "      <th>BDI</th>\n",
       "      <th>ln(HRCI)</th>\n",
       "      <th>ln(SCFI)</th>\n",
       "      <th>ln(다우존스지수)</th>\n",
       "      <th>전산업생산지수</th>\n",
       "      <th>경상수지</th>\n",
       "      <th>환율</th>\n",
       "      <th>화물수송총괄</th>\n",
       "      <th>수출물가지수</th>\n",
       "    </tr>\n",
       "    <tr>\n",
       "      <th>Date</th>\n",
       "      <th></th>\n",
       "      <th></th>\n",
       "      <th></th>\n",
       "      <th></th>\n",
       "      <th></th>\n",
       "      <th></th>\n",
       "      <th></th>\n",
       "      <th></th>\n",
       "      <th></th>\n",
       "      <th></th>\n",
       "    </tr>\n",
       "  </thead>\n",
       "  <tbody>\n",
       "    <tr>\n",
       "      <th>2000-01-31</th>\n",
       "      <td>570720</td>\n",
       "      <td>1319</td>\n",
       "      <td>1.913430</td>\n",
       "      <td>2.878875</td>\n",
       "      <td>4.039038</td>\n",
       "      <td>55.0</td>\n",
       "      <td>-218.1</td>\n",
       "      <td>1131.07</td>\n",
       "      <td>181367</td>\n",
       "      <td>133.88</td>\n",
       "    </tr>\n",
       "    <tr>\n",
       "      <th>2000-02-29</th>\n",
       "      <td>590400</td>\n",
       "      <td>1531</td>\n",
       "      <td>1.986905</td>\n",
       "      <td>2.882456</td>\n",
       "      <td>4.005537</td>\n",
       "      <td>51.9</td>\n",
       "      <td>-324.1</td>\n",
       "      <td>1128.80</td>\n",
       "      <td>218300</td>\n",
       "      <td>130.56</td>\n",
       "    </tr>\n",
       "    <tr>\n",
       "      <th>2000-03-31</th>\n",
       "      <td>665430</td>\n",
       "      <td>1660</td>\n",
       "      <td>2.050943</td>\n",
       "      <td>2.884831</td>\n",
       "      <td>4.038299</td>\n",
       "      <td>58.7</td>\n",
       "      <td>275.3</td>\n",
       "      <td>1117.19</td>\n",
       "      <td>206116</td>\n",
       "      <td>128.19</td>\n",
       "    </tr>\n",
       "    <tr>\n",
       "      <th>2000-04-30</th>\n",
       "      <td>603930</td>\n",
       "      <td>1628</td>\n",
       "      <td>2.107499</td>\n",
       "      <td>2.887110</td>\n",
       "      <td>4.030758</td>\n",
       "      <td>56.9</td>\n",
       "      <td>-1156.0</td>\n",
       "      <td>1109.76</td>\n",
       "      <td>166931</td>\n",
       "      <td>126.84</td>\n",
       "    </tr>\n",
       "    <tr>\n",
       "      <th>2000-05-31</th>\n",
       "      <td>683880</td>\n",
       "      <td>1566</td>\n",
       "      <td>2.158143</td>\n",
       "      <td>2.890466</td>\n",
       "      <td>4.022112</td>\n",
       "      <td>59.6</td>\n",
       "      <td>1535.5</td>\n",
       "      <td>1120.01</td>\n",
       "      <td>208853</td>\n",
       "      <td>127.89</td>\n",
       "    </tr>\n",
       "  </tbody>\n",
       "</table>\n",
       "</div>"
      ],
      "text/plain": [
       "               TEU   BDI  ln(HRCI)  ln(SCFI)  ln(다우존스지수)  전산업생산지수    경상수지  \\\n",
       "Date                                                                        \n",
       "2000-01-31  570720  1319  1.913430  2.878875    4.039038     55.0  -218.1   \n",
       "2000-02-29  590400  1531  1.986905  2.882456    4.005537     51.9  -324.1   \n",
       "2000-03-31  665430  1660  2.050943  2.884831    4.038299     58.7   275.3   \n",
       "2000-04-30  603930  1628  2.107499  2.887110    4.030758     56.9 -1156.0   \n",
       "2000-05-31  683880  1566  2.158143  2.890466    4.022112     59.6  1535.5   \n",
       "\n",
       "                 환율  화물수송총괄  수출물가지수  \n",
       "Date                                 \n",
       "2000-01-31  1131.07  181367  133.88  \n",
       "2000-02-29  1128.80  218300  130.56  \n",
       "2000-03-31  1117.19  206116  128.19  \n",
       "2000-04-30  1109.76  166931  126.84  \n",
       "2000-05-31  1120.01  208853  127.89  "
      ]
     },
     "execution_count": 7,
     "metadata": {},
     "output_type": "execute_result"
    }
   ],
   "source": [
    "pd.set_option('display.max_columns', None)\n",
    "data = pd.read_csv('TEU_전국.csv')\n",
    "data['Date'] = pd.to_datetime(data['Date'])\n",
    "data = data.set_index('Date')\n",
    "print(data.shape)\n",
    "print(data.columns)\n",
    "data.head()"
   ]
  },
  {
   "cell_type": "code",
   "execution_count": 8,
   "metadata": {},
   "outputs": [],
   "source": [
    "split = -60\n",
    "train_data = data['TEU'][0:split] \n",
    "test_data = data['TEU'][split:]"
   ]
  },
  {
   "cell_type": "code",
   "execution_count": 9,
   "metadata": {},
   "outputs": [
    {
     "data": {
      "text/plain": [
       "((210,), (60,))"
      ]
     },
     "execution_count": 9,
     "metadata": {},
     "output_type": "execute_result"
    }
   ],
   "source": [
    "train_data.shape,test_data.shape"
   ]
  },
  {
   "cell_type": "code",
   "execution_count": 10,
   "metadata": {},
   "outputs": [],
   "source": [
    "seasonal = pd.read_csv('계절성예측.csv')"
   ]
  },
  {
   "cell_type": "code",
   "execution_count": 11,
   "metadata": {},
   "outputs": [],
   "source": [
    "raw_df = data"
   ]
  },
  {
   "cell_type": "code",
   "execution_count": 12,
   "metadata": {},
   "outputs": [],
   "source": [
    "split = -78\n",
    "train = raw_df[0:split] \n",
    "test = raw_df[split:] "
   ]
  },
  {
   "cell_type": "code",
   "execution_count": 13,
   "metadata": {
    "scrolled": true
   },
   "outputs": [
    {
     "data": {
      "text/plain": [
       "<matplotlib.legend.Legend at 0x28acfcf5d30>"
      ]
     },
     "execution_count": 13,
     "metadata": {},
     "output_type": "execute_result"
    },
    {
     "data": {
      "image/png": "[encoded data removed]",
      "text/plain": [
       "<Figure size 864x288 with 1 Axes>"
      ]
     },
     "metadata": {
      "needs_background": "light"
     },
     "output_type": "display_data"
    }
   ],
   "source": [
    "plt.figure(figsize=(12,4))\n",
    "plt.grid(True)\n",
    "plt.xlabel('Date')\n",
    "plt.ylabel('TEU')\n",
    "plt.plot(train['TEU'], 'blue', label='Train data')\n",
    "plt.plot(test['TEU'], 'red', label='Test data')\n",
    "plt.legend()"
   ]
  },
  {
   "cell_type": "code",
   "execution_count": 14,
   "metadata": {},
   "outputs": [
    {
     "data": {
      "text/plain": [
       "(192, 78)"
      ]
     },
     "execution_count": 14,
     "metadata": {},
     "output_type": "execute_result"
    }
   ],
   "source": [
    "len(train),len(test)"
   ]
  },
  {
   "cell_type": "code",
   "execution_count": 15,
   "metadata": {},
   "outputs": [],
   "source": [
    "from sklearn.preprocessing import MinMaxScaler\n",
    "scaler = MinMaxScaler(feature_range=(0, 1))\n",
    "scale_cols =  ['TEU', 'BDI', 'ln(HRCI)', 'ln(SCFI)', 'ln(다우존스지수)', '전산업생산지수', '경상수지','환율', '화물수송총괄', '수출물가지수']\n",
    "scaled_train = scaler.fit_transform(train[scale_cols])  \n",
    "scaled_train = pd.DataFrame(scaled_train, columns=scale_cols)\n",
    "\n",
    "feature_train = scaled_train                       # X_train 다변량 시계열 변수 \n",
    "label_train = scaled_train[['TEU']]               #  y_train 종속변수 \n",
    "\n",
    "scaled_test = scaler.fit_transform(test[scale_cols]) \n",
    "scaled_test = pd.DataFrame(scaled_test, columns=scale_cols)\n",
    "\n",
    "feature_test = scaled_test                       # X_test 다변량 시계열 변수 \n",
    "label_test = scaled_test[['TEU']]               #  y_test종속변수 "
   ]
  },
  {
   "cell_type": "code",
   "execution_count": 16,
   "metadata": {},
   "outputs": [],
   "source": [
    "def split_sequence(sequence, n_steps_in, n_steps_out):\n",
    "    X, y = list(), list()\n",
    "    for i in range(len(sequence)):\n",
    "        end_ix = i + n_steps_in\n",
    "        out_end_ix = end_ix + n_steps_out\n",
    "        if out_end_ix > len(sequence):\n",
    "            break\n",
    "        seq_x, seq_y = sequence[i:end_ix], sequence[end_ix:out_end_ix]\n",
    "        X.append(seq_x)\n",
    "        y.append(seq_y)\n",
    "    return array(X), array(y)"
   ]
  },
  {
   "cell_type": "code",
   "execution_count": 17,
   "metadata": {},
   "outputs": [],
   "source": [
    "window_size = 18 # Input Sequence (입력 길이) : X1,X2,....XT \n",
    "n_step_out = 12   # Output Sequence (출력 길이) : Y1,Y2,....YT"
   ]
  },
  {
   "cell_type": "markdown",
   "metadata": {},
   "source": [
    "### 1. X_train, Y_train 배열"
   ]
  },
  {
   "cell_type": "code",
   "execution_count": 18,
   "metadata": {},
   "outputs": [],
   "source": [
    "X_train,y = split_sequence(feature_train, window_size, n_step_out) # feature_train = X 다변량 변수 \n",
    "x, Y_train = split_sequence(label_train, window_size, n_step_out) # label_train = Y 종속변수 예측값 "
   ]
  },
  {
   "cell_type": "code",
   "execution_count": 19,
   "metadata": {},
   "outputs": [
    {
     "data": {
      "text/plain": [
       "((163, 18, 10), (163, 12, 1))"
      ]
     },
     "execution_count": 19,
     "metadata": {},
     "output_type": "execute_result"
    }
   ],
   "source": [
    "X_train.shape,Y_train.shape"
   ]
  },
  {
   "cell_type": "code",
   "execution_count": 20,
   "metadata": {},
   "outputs": [],
   "source": [
    "enc_train = X_train\n",
    "dec_train = Y_train\n",
    "y_train = Y_train.reshape(163,12)"
   ]
  },
  {
   "cell_type": "code",
   "execution_count": 21,
   "metadata": {},
   "outputs": [
    {
     "data": {
      "text/plain": [
       "((163, 18, 10), (163, 12, 1), (163, 12))"
      ]
     },
     "execution_count": 21,
     "metadata": {},
     "output_type": "execute_result"
    }
   ],
   "source": [
    "enc_train.shape,dec_train.shape,y_train.shape"
   ]
  },
  {
   "cell_type": "markdown",
   "metadata": {},
   "source": [
    "### 2. X_test,Y_test 배열"
   ]
  },
  {
   "cell_type": "code",
   "execution_count": 22,
   "metadata": {},
   "outputs": [],
   "source": [
    "X_test,y = split_sequence(feature_test, window_size, n_step_out) # feature_train = X 다변량 변수 \n",
    "x, Y_test = split_sequence(label_test, window_size, n_step_out) # label_train = Y 종속변수 예측값 "
   ]
  },
  {
   "cell_type": "code",
   "execution_count": 23,
   "metadata": {},
   "outputs": [
    {
     "data": {
      "text/plain": [
       "((49, 18, 10), (49, 12, 1))"
      ]
     },
     "execution_count": 23,
     "metadata": {},
     "output_type": "execute_result"
    }
   ],
   "source": [
    "X_test.shape,Y_test.shape"
   ]
  },
  {
   "cell_type": "code",
   "execution_count": 24,
   "metadata": {},
   "outputs": [],
   "source": [
    "enc_test = X_test\n",
    "dec_test = Y_test\n",
    "y_test = Y_test.reshape(49,12)"
   ]
  },
  {
   "cell_type": "code",
   "execution_count": 25,
   "metadata": {},
   "outputs": [
    {
     "data": {
      "text/plain": [
       "((49, 18, 10), (49, 12, 1), (49, 12))"
      ]
     },
     "execution_count": 25,
     "metadata": {},
     "output_type": "execute_result"
    }
   ],
   "source": [
    "enc_test.shape,dec_test.shape,y_test.shape"
   ]
  },
  {
   "cell_type": "code",
   "execution_count": 32,
   "metadata": {},
   "outputs": [
    {
     "name": "stdout",
     "output_type": "stream",
     "text": [
      "The autoreload extension is already loaded. To reload it, use:\n",
      "  %reload_ext autoreload\n"
     ]
    },
    {
     "ename": "ValueError",
     "evalue": "Attempt to convert a value (<tensorflow.python.keras.layers.recurrent_v2.LSTM object at 0x0000028ACE87C0D0>) with an unsupported type (<class 'tensorflow.python.keras.layers.recurrent_v2.LSTM'>) to a Tensor.",
     "output_type": "error",
     "traceback": [
      "\u001b[1;31m---------------------------------------------------------------------------\u001b[0m",
      "\u001b[1;31mValueError\u001b[0m                                Traceback (most recent call last)",
      "\u001b[1;32m<ipython-input-32-2eb9be96a728>\u001b[0m in \u001b[0;36m<module>\u001b[1;34m\u001b[0m\n\u001b[0;32m     14\u001b[0m \u001b[1;33m\u001b[0m\u001b[0m\n\u001b[0;32m     15\u001b[0m \u001b[1;31m# 논문에서 Encoder & Decoder 셀 개수가 서로 일치해야 성능이 가장 좋음(?) / 논문은 (64,64) & (128,128)이 제일 좋음\u001b[0m\u001b[1;33m\u001b[0m\u001b[1;33m\u001b[0m\u001b[1;33m\u001b[0m\u001b[0m\n\u001b[1;32m---> 16\u001b[1;33m \u001b[0mmodel\u001b[0m \u001b[1;33m=\u001b[0m \u001b[0mDARNN\u001b[0m\u001b[1;33m(\u001b[0m\u001b[0mT\u001b[0m\u001b[1;33m=\u001b[0m\u001b[0mT\u001b[0m\u001b[1;33m,\u001b[0m \u001b[0mm\u001b[0m\u001b[1;33m=\u001b[0m\u001b[0mm\u001b[0m\u001b[1;33m,\u001b[0m \u001b[0mp\u001b[0m\u001b[1;33m=\u001b[0m\u001b[0mp\u001b[0m\u001b[1;33m,\u001b[0m \u001b[0mtarget_len\u001b[0m\u001b[1;33m=\u001b[0m\u001b[1;36m12\u001b[0m\u001b[1;33m)\u001b[0m\u001b[1;33m\u001b[0m\u001b[1;33m\u001b[0m\u001b[0m\n\u001b[0m",
      "\u001b[1;32m<ipython-input-31-be421e6f3a30>\u001b[0m in \u001b[0;36m__init__\u001b[1;34m(self, T, m, p, target_len)\u001b[0m\n\u001b[0;32m    225\u001b[0m         \u001b[0mself\u001b[0m\u001b[1;33m.\u001b[0m\u001b[0mdecoder\u001b[0m \u001b[1;33m=\u001b[0m \u001b[0mDecoder\u001b[0m\u001b[1;33m(\u001b[0m\u001b[0mT\u001b[0m\u001b[1;33m=\u001b[0m\u001b[0mT\u001b[0m\u001b[1;33m,\u001b[0m \u001b[0mp\u001b[0m\u001b[1;33m=\u001b[0m\u001b[0mp\u001b[0m\u001b[1;33m,\u001b[0m \u001b[0mm\u001b[0m\u001b[1;33m=\u001b[0m\u001b[0mm\u001b[0m\u001b[1;33m)\u001b[0m\u001b[1;33m\u001b[0m\u001b[1;33m\u001b[0m\u001b[0m\n\u001b[0;32m    226\u001b[0m         \u001b[0mself\u001b[0m\u001b[1;33m.\u001b[0m\u001b[0mlstm\u001b[0m \u001b[1;33m=\u001b[0m \u001b[0mLSTM\u001b[0m\u001b[1;33m(\u001b[0m\u001b[0mm\u001b[0m\u001b[1;33m,\u001b[0m \u001b[0mreturn_sequences\u001b[0m\u001b[1;33m=\u001b[0m\u001b[1;32mTrue\u001b[0m\u001b[1;33m)\u001b[0m\u001b[1;33m\u001b[0m\u001b[1;33m\u001b[0m\u001b[0m\n\u001b[1;32m--> 227\u001b[1;33m         \u001b[0mself\u001b[0m\u001b[1;33m.\u001b[0m\u001b[0mlstm\u001b[0m \u001b[1;33m=\u001b[0m \u001b[0mMCDropout\u001b[0m\u001b[1;33m(\u001b[0m\u001b[1;36m0.2\u001b[0m\u001b[1;33m)\u001b[0m\u001b[1;33m(\u001b[0m\u001b[0mself\u001b[0m\u001b[1;33m.\u001b[0m\u001b[0mlstm\u001b[0m\u001b[1;33m)\u001b[0m\u001b[1;33m\u001b[0m\u001b[1;33m\u001b[0m\u001b[0m\n\u001b[0m\u001b[0;32m    228\u001b[0m         \u001b[0mself\u001b[0m\u001b[1;33m.\u001b[0m\u001b[0mdense1\u001b[0m \u001b[1;33m=\u001b[0m \u001b[0mDense\u001b[0m\u001b[1;33m(\u001b[0m\u001b[0mp\u001b[0m\u001b[1;33m)\u001b[0m\u001b[1;33m\u001b[0m\u001b[1;33m\u001b[0m\u001b[0m\n\u001b[0;32m    229\u001b[0m         \u001b[0mself\u001b[0m\u001b[1;33m.\u001b[0m\u001b[0mdense2\u001b[0m \u001b[1;33m=\u001b[0m \u001b[0mDense\u001b[0m\u001b[1;33m(\u001b[0m\u001b[0mtarget_len\u001b[0m\u001b[1;33m)\u001b[0m\u001b[1;33m\u001b[0m\u001b[1;33m\u001b[0m\u001b[0m\n",
      "\u001b[1;32m~\\anaconda3\\lib\\site-packages\\tensorflow\\python\\keras\\engine\\base_layer.py\u001b[0m in \u001b[0;36m__call__\u001b[1;34m(self, *args, **kwargs)\u001b[0m\n\u001b[0;32m   1010\u001b[0m         with autocast_variable.enable_auto_cast_variables(\n\u001b[0;32m   1011\u001b[0m             self._compute_dtype_object):\n\u001b[1;32m-> 1012\u001b[1;33m           \u001b[0moutputs\u001b[0m \u001b[1;33m=\u001b[0m \u001b[0mcall_fn\u001b[0m\u001b[1;33m(\u001b[0m\u001b[0minputs\u001b[0m\u001b[1;33m,\u001b[0m \u001b[1;33m*\u001b[0m\u001b[0margs\u001b[0m\u001b[1;33m,\u001b[0m \u001b[1;33m**\u001b[0m\u001b[0mkwargs\u001b[0m\u001b[1;33m)\u001b[0m\u001b[1;33m\u001b[0m\u001b[1;33m\u001b[0m\u001b[0m\n\u001b[0m\u001b[0;32m   1013\u001b[0m \u001b[1;33m\u001b[0m\u001b[0m\n\u001b[0;32m   1014\u001b[0m         \u001b[1;32mif\u001b[0m \u001b[0mself\u001b[0m\u001b[1;33m.\u001b[0m\u001b[0m_activity_regularizer\u001b[0m\u001b[1;33m:\u001b[0m\u001b[1;33m\u001b[0m\u001b[1;33m\u001b[0m\u001b[0m\n",
      "\u001b[1;32m<ipython-input-5-ab7b7efef911>\u001b[0m in \u001b[0;36mcall\u001b[1;34m(self, inputs)\u001b[0m\n\u001b[0;32m      1\u001b[0m \u001b[1;32mclass\u001b[0m \u001b[0mMCDropout\u001b[0m\u001b[1;33m(\u001b[0m\u001b[0mDropout\u001b[0m\u001b[1;33m)\u001b[0m\u001b[1;33m:\u001b[0m \u001b[1;31m# 몬테카를로 드롭아웃\u001b[0m\u001b[1;33m\u001b[0m\u001b[1;33m\u001b[0m\u001b[0m\n\u001b[0;32m      2\u001b[0m     \u001b[1;32mdef\u001b[0m \u001b[0mcall\u001b[0m\u001b[1;33m(\u001b[0m\u001b[0mself\u001b[0m\u001b[1;33m,\u001b[0m \u001b[0minputs\u001b[0m\u001b[1;33m)\u001b[0m\u001b[1;33m:\u001b[0m\u001b[1;33m\u001b[0m\u001b[1;33m\u001b[0m\u001b[0m\n\u001b[1;32m----> 3\u001b[1;33m         \u001b[1;32mreturn\u001b[0m \u001b[0msuper\u001b[0m\u001b[1;33m(\u001b[0m\u001b[1;33m)\u001b[0m\u001b[1;33m.\u001b[0m\u001b[0mcall\u001b[0m\u001b[1;33m(\u001b[0m\u001b[0minputs\u001b[0m\u001b[1;33m,\u001b[0m \u001b[0mtraining\u001b[0m\u001b[1;33m=\u001b[0m\u001b[1;32mTrue\u001b[0m\u001b[1;33m)\u001b[0m\u001b[1;33m\u001b[0m\u001b[1;33m\u001b[0m\u001b[0m\n\u001b[0m",
      "\u001b[1;32m~\\anaconda3\\lib\\site-packages\\tensorflow\\python\\keras\\layers\\core.py\u001b[0m in \u001b[0;36mcall\u001b[1;34m(self, inputs, training)\u001b[0m\n\u001b[0;32m    228\u001b[0m           rate=self.rate)\n\u001b[0;32m    229\u001b[0m \u001b[1;33m\u001b[0m\u001b[0m\n\u001b[1;32m--> 230\u001b[1;33m     output = control_flow_util.smart_cond(training, dropped_inputs,\n\u001b[0m\u001b[0;32m    231\u001b[0m                                           lambda: array_ops.identity(inputs))\n\u001b[0;32m    232\u001b[0m     \u001b[1;32mreturn\u001b[0m \u001b[0moutput\u001b[0m\u001b[1;33m\u001b[0m\u001b[1;33m\u001b[0m\u001b[0m\n",
      "\u001b[1;32m~\\anaconda3\\lib\\site-packages\\tensorflow\\python\\keras\\utils\\control_flow_util.py\u001b[0m in \u001b[0;36msmart_cond\u001b[1;34m(pred, true_fn, false_fn, name)\u001b[0m\n\u001b[0;32m    112\u001b[0m     return control_flow_ops.cond(\n\u001b[0;32m    113\u001b[0m         pred, true_fn=true_fn, false_fn=false_fn, name=name)\n\u001b[1;32m--> 114\u001b[1;33m   return smart_module.smart_cond(\n\u001b[0m\u001b[0;32m    115\u001b[0m       pred, true_fn=true_fn, false_fn=false_fn, name=name)\n\u001b[0;32m    116\u001b[0m \u001b[1;33m\u001b[0m\u001b[0m\n",
      "\u001b[1;32m~\\anaconda3\\lib\\site-packages\\tensorflow\\python\\framework\\smart_cond.py\u001b[0m in \u001b[0;36msmart_cond\u001b[1;34m(pred, true_fn, false_fn, name)\u001b[0m\n\u001b[0;32m     52\u001b[0m   \u001b[1;32mif\u001b[0m \u001b[0mpred_value\u001b[0m \u001b[1;32mis\u001b[0m \u001b[1;32mnot\u001b[0m \u001b[1;32mNone\u001b[0m\u001b[1;33m:\u001b[0m\u001b[1;33m\u001b[0m\u001b[1;33m\u001b[0m\u001b[0m\n\u001b[0;32m     53\u001b[0m     \u001b[1;32mif\u001b[0m \u001b[0mpred_value\u001b[0m\u001b[1;33m:\u001b[0m\u001b[1;33m\u001b[0m\u001b[1;33m\u001b[0m\u001b[0m\n\u001b[1;32m---> 54\u001b[1;33m       \u001b[1;32mreturn\u001b[0m \u001b[0mtrue_fn\u001b[0m\u001b[1;33m(\u001b[0m\u001b[1;33m)\u001b[0m\u001b[1;33m\u001b[0m\u001b[1;33m\u001b[0m\u001b[0m\n\u001b[0m\u001b[0;32m     55\u001b[0m     \u001b[1;32melse\u001b[0m\u001b[1;33m:\u001b[0m\u001b[1;33m\u001b[0m\u001b[1;33m\u001b[0m\u001b[0m\n\u001b[0;32m     56\u001b[0m       \u001b[1;32mreturn\u001b[0m \u001b[0mfalse_fn\u001b[0m\u001b[1;33m(\u001b[0m\u001b[1;33m)\u001b[0m\u001b[1;33m\u001b[0m\u001b[1;33m\u001b[0m\u001b[0m\n",
      "\u001b[1;32m~\\anaconda3\\lib\\site-packages\\tensorflow\\python\\keras\\layers\\core.py\u001b[0m in \u001b[0;36mdropped_inputs\u001b[1;34m()\u001b[0m\n\u001b[0;32m    222\u001b[0m \u001b[1;33m\u001b[0m\u001b[0m\n\u001b[0;32m    223\u001b[0m     \u001b[1;32mdef\u001b[0m \u001b[0mdropped_inputs\u001b[0m\u001b[1;33m(\u001b[0m\u001b[1;33m)\u001b[0m\u001b[1;33m:\u001b[0m\u001b[1;33m\u001b[0m\u001b[1;33m\u001b[0m\u001b[0m\n\u001b[1;32m--> 224\u001b[1;33m       return nn.dropout(\n\u001b[0m\u001b[0;32m    225\u001b[0m           \u001b[0minputs\u001b[0m\u001b[1;33m,\u001b[0m\u001b[1;33m\u001b[0m\u001b[1;33m\u001b[0m\u001b[0m\n\u001b[0;32m    226\u001b[0m           \u001b[0mnoise_shape\u001b[0m\u001b[1;33m=\u001b[0m\u001b[0mself\u001b[0m\u001b[1;33m.\u001b[0m\u001b[0m_get_noise_shape\u001b[0m\u001b[1;33m(\u001b[0m\u001b[0minputs\u001b[0m\u001b[1;33m)\u001b[0m\u001b[1;33m,\u001b[0m\u001b[1;33m\u001b[0m\u001b[1;33m\u001b[0m\u001b[0m\n",
      "\u001b[1;32m~\\anaconda3\\lib\\site-packages\\tensorflow\\python\\util\\dispatch.py\u001b[0m in \u001b[0;36mwrapper\u001b[1;34m(*args, **kwargs)\u001b[0m\n\u001b[0;32m    199\u001b[0m     \u001b[1;34m\"\"\"Call target, and fall back on dispatchers if there is a TypeError.\"\"\"\u001b[0m\u001b[1;33m\u001b[0m\u001b[1;33m\u001b[0m\u001b[0m\n\u001b[0;32m    200\u001b[0m     \u001b[1;32mtry\u001b[0m\u001b[1;33m:\u001b[0m\u001b[1;33m\u001b[0m\u001b[1;33m\u001b[0m\u001b[0m\n\u001b[1;32m--> 201\u001b[1;33m       \u001b[1;32mreturn\u001b[0m \u001b[0mtarget\u001b[0m\u001b[1;33m(\u001b[0m\u001b[1;33m*\u001b[0m\u001b[0margs\u001b[0m\u001b[1;33m,\u001b[0m \u001b[1;33m**\u001b[0m\u001b[0mkwargs\u001b[0m\u001b[1;33m)\u001b[0m\u001b[1;33m\u001b[0m\u001b[1;33m\u001b[0m\u001b[0m\n\u001b[0m\u001b[0;32m    202\u001b[0m     \u001b[1;32mexcept\u001b[0m \u001b[1;33m(\u001b[0m\u001b[0mTypeError\u001b[0m\u001b[1;33m,\u001b[0m \u001b[0mValueError\u001b[0m\u001b[1;33m)\u001b[0m\u001b[1;33m:\u001b[0m\u001b[1;33m\u001b[0m\u001b[1;33m\u001b[0m\u001b[0m\n\u001b[0;32m    203\u001b[0m       \u001b[1;31m# Note: convert_to_eager_tensor currently raises a ValueError, not a\u001b[0m\u001b[1;33m\u001b[0m\u001b[1;33m\u001b[0m\u001b[1;33m\u001b[0m\u001b[0m\n",
      "\u001b[1;32m~\\anaconda3\\lib\\site-packages\\tensorflow\\python\\util\\deprecation.py\u001b[0m in \u001b[0;36mnew_func\u001b[1;34m(*args, **kwargs)\u001b[0m\n\u001b[0;32m    536\u001b[0m                 \u001b[1;34m'in a future version'\u001b[0m \u001b[1;32mif\u001b[0m \u001b[0mdate\u001b[0m \u001b[1;32mis\u001b[0m \u001b[1;32mNone\u001b[0m \u001b[1;32melse\u001b[0m \u001b[1;33m(\u001b[0m\u001b[1;34m'after %s'\u001b[0m \u001b[1;33m%\u001b[0m \u001b[0mdate\u001b[0m\u001b[1;33m)\u001b[0m\u001b[1;33m,\u001b[0m\u001b[1;33m\u001b[0m\u001b[1;33m\u001b[0m\u001b[0m\n\u001b[0;32m    537\u001b[0m                 instructions)\n\u001b[1;32m--> 538\u001b[1;33m       \u001b[1;32mreturn\u001b[0m \u001b[0mfunc\u001b[0m\u001b[1;33m(\u001b[0m\u001b[1;33m*\u001b[0m\u001b[0margs\u001b[0m\u001b[1;33m,\u001b[0m \u001b[1;33m**\u001b[0m\u001b[0mkwargs\u001b[0m\u001b[1;33m)\u001b[0m\u001b[1;33m\u001b[0m\u001b[1;33m\u001b[0m\u001b[0m\n\u001b[0m\u001b[0;32m    539\u001b[0m \u001b[1;33m\u001b[0m\u001b[0m\n\u001b[0;32m    540\u001b[0m     doc = _add_deprecated_arg_notice_to_docstring(\n",
      "\u001b[1;32m~\\anaconda3\\lib\\site-packages\\tensorflow\\python\\ops\\nn_ops.py\u001b[0m in \u001b[0;36mdropout\u001b[1;34m(x, keep_prob, noise_shape, seed, name, rate)\u001b[0m\n\u001b[0;32m   5057\u001b[0m     \u001b[1;32mraise\u001b[0m \u001b[0mValueError\u001b[0m\u001b[1;33m(\u001b[0m\u001b[1;34m\"You must provide a rate to dropout.\"\u001b[0m\u001b[1;33m)\u001b[0m\u001b[1;33m\u001b[0m\u001b[1;33m\u001b[0m\u001b[0m\n\u001b[0;32m   5058\u001b[0m \u001b[1;33m\u001b[0m\u001b[0m\n\u001b[1;32m-> 5059\u001b[1;33m   \u001b[1;32mreturn\u001b[0m \u001b[0mdropout_v2\u001b[0m\u001b[1;33m(\u001b[0m\u001b[0mx\u001b[0m\u001b[1;33m,\u001b[0m \u001b[0mrate\u001b[0m\u001b[1;33m,\u001b[0m \u001b[0mnoise_shape\u001b[0m\u001b[1;33m=\u001b[0m\u001b[0mnoise_shape\u001b[0m\u001b[1;33m,\u001b[0m \u001b[0mseed\u001b[0m\u001b[1;33m=\u001b[0m\u001b[0mseed\u001b[0m\u001b[1;33m,\u001b[0m \u001b[0mname\u001b[0m\u001b[1;33m=\u001b[0m\u001b[0mname\u001b[0m\u001b[1;33m)\u001b[0m\u001b[1;33m\u001b[0m\u001b[1;33m\u001b[0m\u001b[0m\n\u001b[0m\u001b[0;32m   5060\u001b[0m \u001b[1;33m\u001b[0m\u001b[0m\n\u001b[0;32m   5061\u001b[0m \u001b[1;33m\u001b[0m\u001b[0m\n",
      "\u001b[1;32m~\\anaconda3\\lib\\site-packages\\tensorflow\\python\\util\\dispatch.py\u001b[0m in \u001b[0;36mwrapper\u001b[1;34m(*args, **kwargs)\u001b[0m\n\u001b[0;32m    199\u001b[0m     \u001b[1;34m\"\"\"Call target, and fall back on dispatchers if there is a TypeError.\"\"\"\u001b[0m\u001b[1;33m\u001b[0m\u001b[1;33m\u001b[0m\u001b[0m\n\u001b[0;32m    200\u001b[0m     \u001b[1;32mtry\u001b[0m\u001b[1;33m:\u001b[0m\u001b[1;33m\u001b[0m\u001b[1;33m\u001b[0m\u001b[0m\n\u001b[1;32m--> 201\u001b[1;33m       \u001b[1;32mreturn\u001b[0m \u001b[0mtarget\u001b[0m\u001b[1;33m(\u001b[0m\u001b[1;33m*\u001b[0m\u001b[0margs\u001b[0m\u001b[1;33m,\u001b[0m \u001b[1;33m**\u001b[0m\u001b[0mkwargs\u001b[0m\u001b[1;33m)\u001b[0m\u001b[1;33m\u001b[0m\u001b[1;33m\u001b[0m\u001b[0m\n\u001b[0m\u001b[0;32m    202\u001b[0m     \u001b[1;32mexcept\u001b[0m \u001b[1;33m(\u001b[0m\u001b[0mTypeError\u001b[0m\u001b[1;33m,\u001b[0m \u001b[0mValueError\u001b[0m\u001b[1;33m)\u001b[0m\u001b[1;33m:\u001b[0m\u001b[1;33m\u001b[0m\u001b[1;33m\u001b[0m\u001b[0m\n\u001b[0;32m    203\u001b[0m       \u001b[1;31m# Note: convert_to_eager_tensor currently raises a ValueError, not a\u001b[0m\u001b[1;33m\u001b[0m\u001b[1;33m\u001b[0m\u001b[1;33m\u001b[0m\u001b[0m\n",
      "\u001b[1;32m~\\anaconda3\\lib\\site-packages\\tensorflow\\python\\ops\\nn_ops.py\u001b[0m in \u001b[0;36mdropout_v2\u001b[1;34m(x, rate, noise_shape, seed, name)\u001b[0m\n\u001b[0;32m   5139\u001b[0m       raise ValueError(\"rate must be a scalar tensor or a float in the \"\n\u001b[0;32m   5140\u001b[0m                        \"range [0, 1), got %g\" % rate)\n\u001b[1;32m-> 5141\u001b[1;33m     \u001b[0mx\u001b[0m \u001b[1;33m=\u001b[0m \u001b[0mops\u001b[0m\u001b[1;33m.\u001b[0m\u001b[0mconvert_to_tensor\u001b[0m\u001b[1;33m(\u001b[0m\u001b[0mx\u001b[0m\u001b[1;33m,\u001b[0m \u001b[0mname\u001b[0m\u001b[1;33m=\u001b[0m\u001b[1;34m\"x\"\u001b[0m\u001b[1;33m)\u001b[0m\u001b[1;33m\u001b[0m\u001b[1;33m\u001b[0m\u001b[0m\n\u001b[0m\u001b[0;32m   5142\u001b[0m     \u001b[0mx_dtype\u001b[0m \u001b[1;33m=\u001b[0m \u001b[0mx\u001b[0m\u001b[1;33m.\u001b[0m\u001b[0mdtype\u001b[0m\u001b[1;33m\u001b[0m\u001b[1;33m\u001b[0m\u001b[0m\n\u001b[0;32m   5143\u001b[0m     \u001b[1;32mif\u001b[0m \u001b[1;32mnot\u001b[0m \u001b[0mx_dtype\u001b[0m\u001b[1;33m.\u001b[0m\u001b[0mis_floating\u001b[0m\u001b[1;33m:\u001b[0m\u001b[1;33m\u001b[0m\u001b[1;33m\u001b[0m\u001b[0m\n",
      "\u001b[1;32m~\\anaconda3\\lib\\site-packages\\tensorflow\\python\\profiler\\trace.py\u001b[0m in \u001b[0;36mwrapped\u001b[1;34m(*args, **kwargs)\u001b[0m\n\u001b[0;32m    161\u001b[0m         \u001b[1;32mwith\u001b[0m \u001b[0mTrace\u001b[0m\u001b[1;33m(\u001b[0m\u001b[0mtrace_name\u001b[0m\u001b[1;33m,\u001b[0m \u001b[1;33m**\u001b[0m\u001b[0mtrace_kwargs\u001b[0m\u001b[1;33m)\u001b[0m\u001b[1;33m:\u001b[0m\u001b[1;33m\u001b[0m\u001b[1;33m\u001b[0m\u001b[0m\n\u001b[0;32m    162\u001b[0m           \u001b[1;32mreturn\u001b[0m \u001b[0mfunc\u001b[0m\u001b[1;33m(\u001b[0m\u001b[1;33m*\u001b[0m\u001b[0margs\u001b[0m\u001b[1;33m,\u001b[0m \u001b[1;33m**\u001b[0m\u001b[0mkwargs\u001b[0m\u001b[1;33m)\u001b[0m\u001b[1;33m\u001b[0m\u001b[1;33m\u001b[0m\u001b[0m\n\u001b[1;32m--> 163\u001b[1;33m       \u001b[1;32mreturn\u001b[0m \u001b[0mfunc\u001b[0m\u001b[1;33m(\u001b[0m\u001b[1;33m*\u001b[0m\u001b[0margs\u001b[0m\u001b[1;33m,\u001b[0m \u001b[1;33m**\u001b[0m\u001b[0mkwargs\u001b[0m\u001b[1;33m)\u001b[0m\u001b[1;33m\u001b[0m\u001b[1;33m\u001b[0m\u001b[0m\n\u001b[0m\u001b[0;32m    164\u001b[0m \u001b[1;33m\u001b[0m\u001b[0m\n\u001b[0;32m    165\u001b[0m     \u001b[1;32mreturn\u001b[0m \u001b[0mwrapped\u001b[0m\u001b[1;33m\u001b[0m\u001b[1;33m\u001b[0m\u001b[0m\n",
      "\u001b[1;32m~\\anaconda3\\lib\\site-packages\\tensorflow\\python\\framework\\ops.py\u001b[0m in \u001b[0;36mconvert_to_tensor\u001b[1;34m(value, dtype, name, as_ref, preferred_dtype, dtype_hint, ctx, accepted_result_types)\u001b[0m\n\u001b[0;32m   1538\u001b[0m \u001b[1;33m\u001b[0m\u001b[0m\n\u001b[0;32m   1539\u001b[0m     \u001b[1;32mif\u001b[0m \u001b[0mret\u001b[0m \u001b[1;32mis\u001b[0m \u001b[1;32mNone\u001b[0m\u001b[1;33m:\u001b[0m\u001b[1;33m\u001b[0m\u001b[1;33m\u001b[0m\u001b[0m\n\u001b[1;32m-> 1540\u001b[1;33m       \u001b[0mret\u001b[0m \u001b[1;33m=\u001b[0m \u001b[0mconversion_func\u001b[0m\u001b[1;33m(\u001b[0m\u001b[0mvalue\u001b[0m\u001b[1;33m,\u001b[0m \u001b[0mdtype\u001b[0m\u001b[1;33m=\u001b[0m\u001b[0mdtype\u001b[0m\u001b[1;33m,\u001b[0m \u001b[0mname\u001b[0m\u001b[1;33m=\u001b[0m\u001b[0mname\u001b[0m\u001b[1;33m,\u001b[0m \u001b[0mas_ref\u001b[0m\u001b[1;33m=\u001b[0m\u001b[0mas_ref\u001b[0m\u001b[1;33m)\u001b[0m\u001b[1;33m\u001b[0m\u001b[1;33m\u001b[0m\u001b[0m\n\u001b[0m\u001b[0;32m   1541\u001b[0m \u001b[1;33m\u001b[0m\u001b[0m\n\u001b[0;32m   1542\u001b[0m     \u001b[1;32mif\u001b[0m \u001b[0mret\u001b[0m \u001b[1;32mis\u001b[0m \u001b[0mNotImplemented\u001b[0m\u001b[1;33m:\u001b[0m\u001b[1;33m\u001b[0m\u001b[1;33m\u001b[0m\u001b[0m\n",
      "\u001b[1;32m~\\anaconda3\\lib\\site-packages\\tensorflow\\python\\framework\\constant_op.py\u001b[0m in \u001b[0;36m_constant_tensor_conversion_function\u001b[1;34m(v, dtype, name, as_ref)\u001b[0m\n\u001b[0;32m    337\u001b[0m                                          as_ref=False):\n\u001b[0;32m    338\u001b[0m   \u001b[0m_\u001b[0m \u001b[1;33m=\u001b[0m \u001b[0mas_ref\u001b[0m\u001b[1;33m\u001b[0m\u001b[1;33m\u001b[0m\u001b[0m\n\u001b[1;32m--> 339\u001b[1;33m   \u001b[1;32mreturn\u001b[0m \u001b[0mconstant\u001b[0m\u001b[1;33m(\u001b[0m\u001b[0mv\u001b[0m\u001b[1;33m,\u001b[0m \u001b[0mdtype\u001b[0m\u001b[1;33m=\u001b[0m\u001b[0mdtype\u001b[0m\u001b[1;33m,\u001b[0m \u001b[0mname\u001b[0m\u001b[1;33m=\u001b[0m\u001b[0mname\u001b[0m\u001b[1;33m)\u001b[0m\u001b[1;33m\u001b[0m\u001b[1;33m\u001b[0m\u001b[0m\n\u001b[0m\u001b[0;32m    340\u001b[0m \u001b[1;33m\u001b[0m\u001b[0m\n\u001b[0;32m    341\u001b[0m \u001b[1;33m\u001b[0m\u001b[0m\n",
      "\u001b[1;32m~\\anaconda3\\lib\\site-packages\\tensorflow\\python\\framework\\constant_op.py\u001b[0m in \u001b[0;36mconstant\u001b[1;34m(value, dtype, shape, name)\u001b[0m\n\u001b[0;32m    262\u001b[0m     \u001b[0mValueError\u001b[0m\u001b[1;33m:\u001b[0m \u001b[1;32mif\u001b[0m \u001b[0mcalled\u001b[0m \u001b[0mon\u001b[0m \u001b[0ma\u001b[0m \u001b[0msymbolic\u001b[0m \u001b[0mtensor\u001b[0m\u001b[1;33m.\u001b[0m\u001b[1;33m\u001b[0m\u001b[1;33m\u001b[0m\u001b[0m\n\u001b[0;32m    263\u001b[0m   \"\"\"\n\u001b[1;32m--> 264\u001b[1;33m   return _constant_impl(value, dtype, shape, name, verify_shape=False,\n\u001b[0m\u001b[0;32m    265\u001b[0m                         allow_broadcast=True)\n\u001b[0;32m    266\u001b[0m \u001b[1;33m\u001b[0m\u001b[0m\n",
      "\u001b[1;32m~\\anaconda3\\lib\\site-packages\\tensorflow\\python\\framework\\constant_op.py\u001b[0m in \u001b[0;36m_constant_impl\u001b[1;34m(value, dtype, shape, name, verify_shape, allow_broadcast)\u001b[0m\n\u001b[0;32m    274\u001b[0m       \u001b[1;32mwith\u001b[0m \u001b[0mtrace\u001b[0m\u001b[1;33m.\u001b[0m\u001b[0mTrace\u001b[0m\u001b[1;33m(\u001b[0m\u001b[1;34m\"tf.constant\"\u001b[0m\u001b[1;33m)\u001b[0m\u001b[1;33m:\u001b[0m\u001b[1;33m\u001b[0m\u001b[1;33m\u001b[0m\u001b[0m\n\u001b[0;32m    275\u001b[0m         \u001b[1;32mreturn\u001b[0m \u001b[0m_constant_eager_impl\u001b[0m\u001b[1;33m(\u001b[0m\u001b[0mctx\u001b[0m\u001b[1;33m,\u001b[0m \u001b[0mvalue\u001b[0m\u001b[1;33m,\u001b[0m \u001b[0mdtype\u001b[0m\u001b[1;33m,\u001b[0m \u001b[0mshape\u001b[0m\u001b[1;33m,\u001b[0m \u001b[0mverify_shape\u001b[0m\u001b[1;33m)\u001b[0m\u001b[1;33m\u001b[0m\u001b[1;33m\u001b[0m\u001b[0m\n\u001b[1;32m--> 276\u001b[1;33m     \u001b[1;32mreturn\u001b[0m \u001b[0m_constant_eager_impl\u001b[0m\u001b[1;33m(\u001b[0m\u001b[0mctx\u001b[0m\u001b[1;33m,\u001b[0m \u001b[0mvalue\u001b[0m\u001b[1;33m,\u001b[0m \u001b[0mdtype\u001b[0m\u001b[1;33m,\u001b[0m \u001b[0mshape\u001b[0m\u001b[1;33m,\u001b[0m \u001b[0mverify_shape\u001b[0m\u001b[1;33m)\u001b[0m\u001b[1;33m\u001b[0m\u001b[1;33m\u001b[0m\u001b[0m\n\u001b[0m\u001b[0;32m    277\u001b[0m \u001b[1;33m\u001b[0m\u001b[0m\n\u001b[0;32m    278\u001b[0m   \u001b[0mg\u001b[0m \u001b[1;33m=\u001b[0m \u001b[0mops\u001b[0m\u001b[1;33m.\u001b[0m\u001b[0mget_default_graph\u001b[0m\u001b[1;33m(\u001b[0m\u001b[1;33m)\u001b[0m\u001b[1;33m\u001b[0m\u001b[1;33m\u001b[0m\u001b[0m\n",
      "\u001b[1;32m~\\anaconda3\\lib\\site-packages\\tensorflow\\python\\framework\\constant_op.py\u001b[0m in \u001b[0;36m_constant_eager_impl\u001b[1;34m(ctx, value, dtype, shape, verify_shape)\u001b[0m\n\u001b[0;32m    299\u001b[0m \u001b[1;32mdef\u001b[0m \u001b[0m_constant_eager_impl\u001b[0m\u001b[1;33m(\u001b[0m\u001b[0mctx\u001b[0m\u001b[1;33m,\u001b[0m \u001b[0mvalue\u001b[0m\u001b[1;33m,\u001b[0m \u001b[0mdtype\u001b[0m\u001b[1;33m,\u001b[0m \u001b[0mshape\u001b[0m\u001b[1;33m,\u001b[0m \u001b[0mverify_shape\u001b[0m\u001b[1;33m)\u001b[0m\u001b[1;33m:\u001b[0m\u001b[1;33m\u001b[0m\u001b[1;33m\u001b[0m\u001b[0m\n\u001b[0;32m    300\u001b[0m   \u001b[1;34m\"\"\"Implementation of eager constant.\"\"\"\u001b[0m\u001b[1;33m\u001b[0m\u001b[1;33m\u001b[0m\u001b[0m\n\u001b[1;32m--> 301\u001b[1;33m   \u001b[0mt\u001b[0m \u001b[1;33m=\u001b[0m \u001b[0mconvert_to_eager_tensor\u001b[0m\u001b[1;33m(\u001b[0m\u001b[0mvalue\u001b[0m\u001b[1;33m,\u001b[0m \u001b[0mctx\u001b[0m\u001b[1;33m,\u001b[0m \u001b[0mdtype\u001b[0m\u001b[1;33m)\u001b[0m\u001b[1;33m\u001b[0m\u001b[1;33m\u001b[0m\u001b[0m\n\u001b[0m\u001b[0;32m    302\u001b[0m   \u001b[1;32mif\u001b[0m \u001b[0mshape\u001b[0m \u001b[1;32mis\u001b[0m \u001b[1;32mNone\u001b[0m\u001b[1;33m:\u001b[0m\u001b[1;33m\u001b[0m\u001b[1;33m\u001b[0m\u001b[0m\n\u001b[0;32m    303\u001b[0m     \u001b[1;32mreturn\u001b[0m \u001b[0mt\u001b[0m\u001b[1;33m\u001b[0m\u001b[1;33m\u001b[0m\u001b[0m\n",
      "\u001b[1;32m~\\anaconda3\\lib\\site-packages\\tensorflow\\python\\framework\\constant_op.py\u001b[0m in \u001b[0;36mconvert_to_eager_tensor\u001b[1;34m(value, ctx, dtype)\u001b[0m\n\u001b[0;32m     96\u001b[0m       \u001b[0mdtype\u001b[0m \u001b[1;33m=\u001b[0m \u001b[0mdtypes\u001b[0m\u001b[1;33m.\u001b[0m\u001b[0mas_dtype\u001b[0m\u001b[1;33m(\u001b[0m\u001b[0mdtype\u001b[0m\u001b[1;33m)\u001b[0m\u001b[1;33m.\u001b[0m\u001b[0mas_datatype_enum\u001b[0m\u001b[1;33m\u001b[0m\u001b[1;33m\u001b[0m\u001b[0m\n\u001b[0;32m     97\u001b[0m   \u001b[0mctx\u001b[0m\u001b[1;33m.\u001b[0m\u001b[0mensure_initialized\u001b[0m\u001b[1;33m(\u001b[0m\u001b[1;33m)\u001b[0m\u001b[1;33m\u001b[0m\u001b[1;33m\u001b[0m\u001b[0m\n\u001b[1;32m---> 98\u001b[1;33m   \u001b[1;32mreturn\u001b[0m \u001b[0mops\u001b[0m\u001b[1;33m.\u001b[0m\u001b[0mEagerTensor\u001b[0m\u001b[1;33m(\u001b[0m\u001b[0mvalue\u001b[0m\u001b[1;33m,\u001b[0m \u001b[0mctx\u001b[0m\u001b[1;33m.\u001b[0m\u001b[0mdevice_name\u001b[0m\u001b[1;33m,\u001b[0m \u001b[0mdtype\u001b[0m\u001b[1;33m)\u001b[0m\u001b[1;33m\u001b[0m\u001b[1;33m\u001b[0m\u001b[0m\n\u001b[0m\u001b[0;32m     99\u001b[0m \u001b[1;33m\u001b[0m\u001b[0m\n\u001b[0;32m    100\u001b[0m \u001b[1;33m\u001b[0m\u001b[0m\n",
      "\u001b[1;31mValueError\u001b[0m: Attempt to convert a value (<tensorflow.python.keras.layers.recurrent_v2.LSTM object at 0x0000028ACE87C0D0>) with an unsupported type (<class 'tensorflow.python.keras.layers.recurrent_v2.LSTM'>) to a Tensor."
     ]
    }
   ],
   "source": [
    "%load_ext autoreload\n",
    "%autoreload 2\n",
    "\n",
    "# Input Sequence ( 입력 시차 길이 )\n",
    "T = 18\n",
    "\n",
    "# 인코더 셀 개수\n",
    "m = 64\n",
    "\n",
    "# 디코더 셀 개수 \n",
    "p = 64\n",
    "\n",
    "batch_size = 10 # 훈련 배치 사이즈\n",
    "\n",
    "# 논문에서 Encoder & Decoder 셀 개수가 서로 일치해야 성능이 가장 좋음(?) / 논문은 (64,64) & (128,128)이 제일 좋음 \n",
    "model = DARNN(T=T, m=m, p=p, target_len=12)"
   ]
  },
  {
   "cell_type": "code",
   "execution_count": 26,
   "metadata": {},
   "outputs": [],
   "source": [
    "# epoch 돌아가는 쪽 소스를 수정할 거면, 굳이, tf dataset을 사용할 필요는 없다.\n",
    "\n",
    "train_ds = (\n",
    "    tf.data.Dataset.from_tensor_slices(\n",
    "        (enc_train, dec_train, y_train)\n",
    "    )\n",
    "    .batch(batch_size)\n",
    "#     .shuffle(buffer_size=20000)\n",
    "    .prefetch(tf.data.experimental.AUTOTUNE)\n",
    ")\n",
    "\n",
    "test_ds = tf.data.Dataset.from_tensor_slices(\n",
    "    (enc_test, dec_test, y_test)\n",
    ").batch(batch_size)"
   ]
  },
  {
   "cell_type": "code",
   "execution_count": 27,
   "metadata": {},
   "outputs": [
    {
     "data": {
      "text/plain": [
       "(49, 12)"
      ]
     },
     "execution_count": 27,
     "metadata": {},
     "output_type": "execute_result"
    }
   ],
   "source": [
    "y_test.shape"
   ]
  },
  {
   "cell_type": "code",
   "execution_count": 28,
   "metadata": {
    "scrolled": true
   },
   "outputs": [
    {
     "name": "stdout",
     "output_type": "stream",
     "text": [
      "(10, 12)\n",
      "(10, 12)\n",
      "Tensor(\"Mean:0\", shape=(10,), dtype=float32)\n",
      "(10, 12)\n",
      "(10, 12)\n",
      "Tensor(\"Mean:0\", shape=(10,), dtype=float32)\n",
      "(3, 12)\n",
      "(3, 12)\n",
      "Tensor(\"Mean:0\", shape=(3,), dtype=float32)\n",
      "epoch : 1, train_loss : 0.40517786145210266\n",
      "epoch : 2, train_loss : 0.3434680998325348\n",
      "epoch : 3, train_loss : 0.10329084098339081\n",
      "epoch : 4, train_loss : 0.3824543058872223\n",
      "epoch : 5, train_loss : 0.14462320506572723\n",
      "epoch : 6, train_loss : 0.24467672407627106\n",
      "epoch : 7, train_loss : 0.13920022547245026\n",
      "epoch : 8, train_loss : 0.13705679774284363\n",
      "epoch : 9, train_loss : 0.08165810257196426\n",
      "epoch : 10, train_loss : 0.08888217806816101\n",
      "epoch : 11, train_loss : 0.15262891352176666\n",
      "epoch : 12, train_loss : 0.08358746021986008\n",
      "epoch : 13, train_loss : 0.06310922652482986\n",
      "epoch : 14, train_loss : 0.08599255234003067\n",
      "epoch : 15, train_loss : 0.1469360888004303\n",
      "epoch : 16, train_loss : 0.06918172538280487\n",
      "epoch : 17, train_loss : 0.1308416873216629\n",
      "epoch : 18, train_loss : 0.12155912816524506\n",
      "epoch : 19, train_loss : 0.070881187915802\n",
      "epoch : 20, train_loss : 0.10216046869754791\n",
      "epoch : 21, train_loss : 0.1110532358288765\n",
      "epoch : 22, train_loss : 0.060594797134399414\n",
      "epoch : 23, train_loss : 0.08870812505483627\n",
      "epoch : 24, train_loss : 0.10844540596008301\n",
      "epoch : 25, train_loss : 0.05931590870022774\n",
      "epoch : 26, train_loss : 0.0800742655992508\n",
      "epoch : 27, train_loss : 0.10115955770015717\n",
      "epoch : 28, train_loss : 0.05621054768562317\n",
      "epoch : 29, train_loss : 0.07404628396034241\n",
      "epoch : 30, train_loss : 0.09523552656173706\n",
      "epoch : 31, train_loss : 0.054356224834918976\n",
      "epoch : 32, train_loss : 0.07051119208335876\n",
      "epoch : 33, train_loss : 0.09168843924999237\n",
      "epoch : 34, train_loss : 0.05461980774998665\n",
      "epoch : 35, train_loss : 0.07032608240842819\n",
      "epoch : 36, train_loss : 0.08703914284706116\n",
      "epoch : 37, train_loss : 0.05191995948553085\n",
      "epoch : 38, train_loss : 0.06571690738201141\n",
      "epoch : 39, train_loss : 0.0832458883523941\n",
      "epoch : 40, train_loss : 0.0531110055744648\n",
      "epoch : 41, train_loss : 0.06947352737188339\n",
      "epoch : 42, train_loss : 0.08006590604782104\n",
      "epoch : 43, train_loss : 0.051582492887973785\n",
      "epoch : 44, train_loss : 0.0673312321305275\n",
      "epoch : 45, train_loss : 0.07644844800233841\n",
      "epoch : 46, train_loss : 0.05258874222636223\n",
      "epoch : 47, train_loss : 0.06873012334108353\n",
      "epoch : 48, train_loss : 0.0735301822423935\n",
      "epoch : 49, train_loss : 0.050676848739385605\n",
      "epoch : 50, train_loss : 0.06257246434688568\n",
      "epoch : 51, train_loss : 0.07007478177547455\n",
      "epoch : 52, train_loss : 0.05342865735292435\n",
      "epoch : 53, train_loss : 0.06773275136947632\n",
      "epoch : 54, train_loss : 0.06672206521034241\n",
      "epoch : 55, train_loss : 0.052913349121809006\n",
      "epoch : 56, train_loss : 0.0662071630358696\n",
      "epoch : 57, train_loss : 0.06325414776802063\n",
      "epoch : 58, train_loss : 0.05291883647441864\n",
      "epoch : 59, train_loss : 0.06478846818208694\n",
      "epoch : 60, train_loss : 0.06202958524227142\n",
      "epoch : 61, train_loss : 0.05395963042974472\n",
      "epoch : 62, train_loss : 0.06610193848609924\n",
      "epoch : 63, train_loss : 0.05962318554520607\n",
      "epoch : 64, train_loss : 0.05273563787341118\n",
      "epoch : 65, train_loss : 0.0629788488149643\n",
      "epoch : 66, train_loss : 0.06080964580178261\n",
      "epoch : 67, train_loss : 0.05239591374993324\n",
      "epoch : 68, train_loss : 0.06283286958932877\n",
      "epoch : 69, train_loss : 0.06041724979877472\n",
      "epoch : 70, train_loss : 0.05194806680083275\n",
      "epoch : 71, train_loss : 0.06257764995098114\n",
      "epoch : 72, train_loss : 0.058534398674964905\n",
      "epoch : 73, train_loss : 0.05281708016991615\n",
      "epoch : 74, train_loss : 0.06312987208366394\n",
      "epoch : 75, train_loss : 0.0572943352162838\n",
      "epoch : 76, train_loss : 0.05142401531338692\n",
      "epoch : 77, train_loss : 0.06054111197590828\n",
      "epoch : 78, train_loss : 0.057221248745918274\n",
      "epoch : 79, train_loss : 0.052174996584653854\n",
      "epoch : 80, train_loss : 0.060786809772253036\n",
      "epoch : 81, train_loss : 0.057239267975091934\n",
      "epoch : 82, train_loss : 0.050897032022476196\n",
      "epoch : 83, train_loss : 0.058455199003219604\n",
      "epoch : 84, train_loss : 0.056362334638834\n",
      "epoch : 85, train_loss : 0.051832858473062515\n",
      "epoch : 86, train_loss : 0.060029808431863785\n",
      "epoch : 87, train_loss : 0.05599319562315941\n",
      "epoch : 88, train_loss : 0.05132289603352547\n",
      "epoch : 89, train_loss : 0.0592317171394825\n",
      "epoch : 90, train_loss : 0.0544142909348011\n",
      "epoch : 91, train_loss : 0.05198941007256508\n",
      "epoch : 92, train_loss : 0.060347650200128555\n",
      "epoch : 93, train_loss : 0.05340961739420891\n",
      "epoch : 94, train_loss : 0.05427637696266174\n",
      "epoch : 95, train_loss : 0.05977712944149971\n",
      "epoch : 96, train_loss : 0.04795406386256218\n",
      "epoch : 97, train_loss : 0.06023811176419258\n",
      "epoch : 98, train_loss : 0.05712292715907097\n",
      "epoch : 99, train_loss : 0.045566361397504807\n",
      "epoch : 100, train_loss : 0.059924352914094925\n",
      "epoch : 101, train_loss : 0.06058742105960846\n",
      "epoch : 102, train_loss : 0.0440700463950634\n",
      "epoch : 103, train_loss : 0.05288432911038399\n",
      "epoch : 104, train_loss : 0.06239066272974014\n",
      "epoch : 105, train_loss : 0.04386259242892265\n",
      "epoch : 106, train_loss : 0.049865711480379105\n",
      "epoch : 107, train_loss : 0.060974396765232086\n",
      "epoch : 108, train_loss : 0.04469184949994087\n",
      "epoch : 109, train_loss : 0.05499313771724701\n",
      "epoch : 110, train_loss : 0.06368079036474228\n",
      "epoch : 111, train_loss : 0.04436606168746948\n",
      "epoch : 112, train_loss : 0.049260009080171585\n",
      "epoch : 113, train_loss : 0.05861393362283707\n",
      "epoch : 114, train_loss : 0.0469241738319397\n",
      "epoch : 115, train_loss : 0.05400236323475838\n",
      "epoch : 116, train_loss : 0.059427063912153244\n",
      "epoch : 117, train_loss : 0.04996945708990097\n",
      "epoch : 118, train_loss : 0.05666229501366615\n",
      "epoch : 119, train_loss : 0.051132671535015106\n",
      "epoch : 120, train_loss : 0.05449415743350983\n",
      "epoch : 121, train_loss : 0.05599389225244522\n",
      "epoch : 122, train_loss : 0.046385716646909714\n",
      "epoch : 123, train_loss : 0.05777440220117569\n",
      "epoch : 124, train_loss : 0.05435798689723015\n",
      "epoch : 125, train_loss : 0.044291771948337555\n",
      "epoch : 126, train_loss : 0.05707038193941116\n",
      "epoch : 127, train_loss : 0.06043725460767746\n",
      "epoch : 128, train_loss : 0.04444041848182678\n",
      "epoch : 129, train_loss : 0.051532868295907974\n",
      "epoch : 130, train_loss : 0.060511525720357895\n",
      "epoch : 131, train_loss : 0.04861044883728027\n",
      "epoch : 132, train_loss : 0.05196325108408928\n",
      "epoch : 133, train_loss : 0.05099717900156975\n",
      "epoch : 134, train_loss : 0.05425386503338814\n",
      "epoch : 135, train_loss : 0.05404197424650192\n",
      "epoch : 136, train_loss : 0.04605867713689804\n",
      "epoch : 137, train_loss : 0.05724170431494713\n",
      "epoch : 138, train_loss : 0.05198761448264122\n",
      "epoch : 139, train_loss : 0.04306156188249588\n",
      "epoch : 140, train_loss : 0.05362151935696602\n",
      "epoch : 141, train_loss : 0.05582040548324585\n",
      "epoch : 142, train_loss : 0.042641449719667435\n",
      "epoch : 143, train_loss : 0.04835396260023117\n",
      "epoch : 144, train_loss : 0.056064244359731674\n",
      "epoch : 145, train_loss : 0.04492279887199402\n",
      "epoch : 146, train_loss : 0.05055791884660721\n",
      "epoch : 147, train_loss : 0.05476425215601921\n",
      "epoch : 148, train_loss : 0.05093731731176376\n",
      "epoch : 149, train_loss : 0.05334785208106041\n",
      "epoch : 150, train_loss : 0.04762427508831024\n",
      "epoch : 151, train_loss : 0.05670098587870598\n",
      "epoch : 152, train_loss : 0.05258939415216446\n",
      "epoch : 153, train_loss : 0.043501704931259155\n",
      "epoch : 154, train_loss : 0.055704906582832336\n",
      "epoch : 155, train_loss : 0.05910325050354004\n",
      "epoch : 156, train_loss : 0.04409296438097954\n",
      "epoch : 157, train_loss : 0.05088043212890625\n",
      "epoch : 158, train_loss : 0.054767999798059464\n",
      "epoch : 159, train_loss : 0.05083601921796799\n",
      "epoch : 160, train_loss : 0.052318524569272995\n",
      "epoch : 161, train_loss : 0.045874252915382385\n",
      "epoch : 162, train_loss : 0.05856836959719658\n",
      "epoch : 163, train_loss : 0.049895480275154114\n",
      "epoch : 164, train_loss : 0.04141407087445259\n",
      "epoch : 165, train_loss : 0.04640763998031616\n",
      "epoch : 166, train_loss : 0.051304325461387634\n",
      "epoch : 167, train_loss : 0.042114485055208206\n",
      "epoch : 168, train_loss : 0.04729313775897026\n",
      "epoch : 169, train_loss : 0.05481361225247383\n",
      "epoch : 170, train_loss : 0.04457917436957359\n",
      "epoch : 171, train_loss : 0.049001868814229965\n",
      "epoch : 172, train_loss : 0.05091037601232529\n",
      "epoch : 173, train_loss : 0.04912522807717323\n",
      "epoch : 174, train_loss : 0.051335059106349945\n",
      "epoch : 175, train_loss : 0.04471926391124725\n",
      "epoch : 176, train_loss : 0.05706550180912018\n",
      "epoch : 177, train_loss : 0.04940037056803703\n"
     ]
    },
    {
     "name": "stdout",
     "output_type": "stream",
     "text": [
      "epoch : 178, train_loss : 0.04118218645453453\n",
      "epoch : 179, train_loss : 0.044905997812747955\n",
      "epoch : 180, train_loss : 0.052269112318754196\n",
      "epoch : 181, train_loss : 0.04314166679978371\n",
      "epoch : 182, train_loss : 0.04654284194111824\n",
      "epoch : 183, train_loss : 0.052609022706747055\n",
      "epoch : 184, train_loss : 0.046894293278455734\n",
      "epoch : 185, train_loss : 0.048730239272117615\n",
      "epoch : 186, train_loss : 0.04750081151723862\n",
      "epoch : 187, train_loss : 0.054939497262239456\n",
      "epoch : 188, train_loss : 0.04971116781234741\n",
      "epoch : 189, train_loss : 0.04252946749329567\n",
      "epoch : 190, train_loss : 0.054948583245277405\n",
      "epoch : 191, train_loss : 0.05681847035884857\n",
      "epoch : 192, train_loss : 0.04479273408651352\n",
      "epoch : 193, train_loss : 0.04841054603457451\n",
      "epoch : 194, train_loss : 0.048647232353687286\n",
      "epoch : 195, train_loss : 0.05248472839593887\n",
      "epoch : 196, train_loss : 0.04936349391937256\n",
      "epoch : 197, train_loss : 0.042544443160295486\n",
      "epoch : 198, train_loss : 0.05440843105316162\n",
      "epoch : 199, train_loss : 0.05529160797595978\n",
      "epoch : 200, train_loss : 0.04294031113386154\n",
      "epoch : 201, train_loss : 0.04664319381117821\n",
      "epoch : 202, train_loss : 0.04528523236513138\n",
      "epoch : 203, train_loss : 0.05974118411540985\n",
      "epoch : 204, train_loss : 0.05204948037862778\n",
      "epoch : 205, train_loss : 0.0403255857527256\n",
      "epoch : 206, train_loss : 0.04237990453839302\n",
      "epoch : 207, train_loss : 0.0471188947558403\n",
      "epoch : 208, train_loss : 0.04496191069483757\n",
      "epoch : 209, train_loss : 0.04529589042067528\n",
      "epoch : 210, train_loss : 0.04444137215614319\n",
      "epoch : 211, train_loss : 0.05692140385508537\n",
      "epoch : 212, train_loss : 0.04906214773654938\n",
      "epoch : 213, train_loss : 0.04222867637872696\n",
      "epoch : 214, train_loss : 0.051555294543504715\n",
      "epoch : 215, train_loss : 0.05666221305727959\n",
      "epoch : 216, train_loss : 0.04336508736014366\n",
      "epoch : 217, train_loss : 0.04779096320271492\n",
      "epoch : 218, train_loss : 0.047420747578144073\n",
      "epoch : 219, train_loss : 0.05595355108380318\n",
      "epoch : 220, train_loss : 0.047779034823179245\n",
      "epoch : 221, train_loss : 0.04067346826195717\n",
      "epoch : 222, train_loss : 0.046161603182554245\n",
      "epoch : 223, train_loss : 0.053213972598314285\n",
      "epoch : 224, train_loss : 0.04375123232603073\n",
      "epoch : 225, train_loss : 0.04919128865003586\n",
      "epoch : 226, train_loss : 0.050168219953775406\n",
      "epoch : 227, train_loss : 0.04954683408141136\n",
      "epoch : 228, train_loss : 0.04737607762217522\n",
      "epoch : 229, train_loss : 0.04163719341158867\n",
      "epoch : 230, train_loss : 0.0536176823079586\n",
      "epoch : 231, train_loss : 0.0535835362970829\n",
      "epoch : 232, train_loss : 0.04319346323609352\n",
      "epoch : 233, train_loss : 0.04781308025121689\n",
      "epoch : 234, train_loss : 0.05051835626363754\n",
      "epoch : 235, train_loss : 0.05147254094481468\n",
      "epoch : 236, train_loss : 0.04883809760212898\n",
      "epoch : 237, train_loss : 0.04103574529290199\n",
      "epoch : 238, train_loss : 0.0502118244767189\n",
      "epoch : 239, train_loss : 0.05573735386133194\n",
      "epoch : 240, train_loss : 0.04281303659081459\n",
      "epoch : 241, train_loss : 0.04501166194677353\n",
      "epoch : 242, train_loss : 0.0430428609251976\n",
      "epoch : 243, train_loss : 0.05386095866560936\n",
      "epoch : 244, train_loss : 0.049501027911901474\n",
      "epoch : 245, train_loss : 0.03877272084355354\n",
      "epoch : 246, train_loss : 0.04040269926190376\n",
      "epoch : 247, train_loss : 0.04536610096693039\n",
      "epoch : 248, train_loss : 0.04424373805522919\n",
      "epoch : 249, train_loss : 0.043745338916778564\n",
      "epoch : 250, train_loss : 0.04240913689136505\n",
      "epoch : 251, train_loss : 0.053187645971775055\n",
      "epoch : 252, train_loss : 0.04906810075044632\n",
      "epoch : 253, train_loss : 0.038528844714164734\n",
      "epoch : 254, train_loss : 0.04146365076303482\n",
      "epoch : 255, train_loss : 0.04790743067860603\n",
      "epoch : 256, train_loss : 0.045737478882074356\n",
      "epoch : 257, train_loss : 0.04551153630018234\n",
      "epoch : 258, train_loss : 0.043269094079732895\n",
      "epoch : 259, train_loss : 0.05543229728937149\n",
      "epoch : 260, train_loss : 0.048618171364068985\n",
      "epoch : 261, train_loss : 0.03895212337374687\n",
      "epoch : 262, train_loss : 0.04205089434981346\n",
      "epoch : 263, train_loss : 0.046174440532922745\n",
      "epoch : 264, train_loss : 0.03956185653805733\n",
      "epoch : 265, train_loss : 0.03753158450126648\n",
      "epoch : 266, train_loss : 0.036167748272418976\n",
      "epoch : 267, train_loss : 0.037101395428180695\n",
      "epoch : 268, train_loss : 0.0368313193321228\n",
      "epoch : 269, train_loss : 0.035585805773735046\n",
      "epoch : 270, train_loss : 0.035662274807691574\n",
      "epoch : 271, train_loss : 0.03665817528963089\n",
      "epoch : 272, train_loss : 0.03540544956922531\n",
      "epoch : 273, train_loss : 0.035544466227293015\n",
      "epoch : 274, train_loss : 0.03567066788673401\n",
      "epoch : 275, train_loss : 0.03585106134414673\n",
      "epoch : 276, train_loss : 0.03979472815990448\n",
      "epoch : 277, train_loss : 0.03697052225470543\n",
      "epoch : 278, train_loss : 0.0366339348256588\n",
      "epoch : 279, train_loss : 0.039376482367515564\n",
      "epoch : 280, train_loss : 0.038076139986515045\n",
      "epoch : 281, train_loss : 0.03661590814590454\n",
      "epoch : 282, train_loss : 0.036375537514686584\n",
      "epoch : 283, train_loss : 0.03750447556376457\n",
      "epoch : 284, train_loss : 0.0387013740837574\n",
      "epoch : 285, train_loss : 0.04183172807097435\n",
      "epoch : 286, train_loss : 0.03650396317243576\n",
      "epoch : 287, train_loss : 0.03773382678627968\n",
      "epoch : 288, train_loss : 0.04127698019146919\n",
      "epoch : 289, train_loss : 0.03869369998574257\n",
      "epoch : 290, train_loss : 0.036075297743082047\n",
      "epoch : 291, train_loss : 0.03476954251527786\n",
      "epoch : 292, train_loss : 0.038703687489032745\n",
      "epoch : 293, train_loss : 0.034527502954006195\n",
      "epoch : 294, train_loss : 0.03767402842640877\n",
      "epoch : 295, train_loss : 0.0395393893122673\n",
      "epoch : 296, train_loss : 0.035934124141931534\n",
      "epoch : 297, train_loss : 0.03793328255414963\n",
      "epoch : 298, train_loss : 0.03890766203403473\n",
      "epoch : 299, train_loss : 0.041216496378183365\n",
      "epoch : 300, train_loss : 0.04922274127602577\n",
      "epoch : 301, train_loss : 0.05108856037259102\n",
      "epoch : 302, train_loss : 0.03933611884713173\n",
      "epoch : 303, train_loss : 0.052650246769189835\n",
      "epoch : 304, train_loss : 0.050745606422424316\n",
      "epoch : 305, train_loss : 0.044772252440452576\n",
      "epoch : 306, train_loss : 0.06739898771047592\n",
      "epoch : 307, train_loss : 0.050955016165971756\n",
      "epoch : 308, train_loss : 0.042985741049051285\n",
      "epoch : 309, train_loss : 0.06368227303028107\n",
      "epoch : 310, train_loss : 0.054111842066049576\n",
      "epoch : 311, train_loss : 0.03880717232823372\n",
      "epoch : 312, train_loss : 0.055603645741939545\n",
      "epoch : 313, train_loss : 0.05666247755289078\n",
      "epoch : 314, train_loss : 0.040472935885190964\n",
      "epoch : 315, train_loss : 0.05849283188581467\n",
      "epoch : 316, train_loss : 0.06205611303448677\n",
      "epoch : 317, train_loss : 0.04308554157614708\n",
      "epoch : 318, train_loss : 0.05553701892495155\n",
      "epoch : 319, train_loss : 0.04560272768139839\n",
      "epoch : 320, train_loss : 0.054510362446308136\n",
      "epoch : 321, train_loss : 0.05309096723794937\n",
      "epoch : 322, train_loss : 0.04059752821922302\n",
      "epoch : 323, train_loss : 0.06360407173633575\n",
      "epoch : 324, train_loss : 0.04168057069182396\n",
      "epoch : 325, train_loss : 0.036137957125902176\n",
      "epoch : 326, train_loss : 0.04091125726699829\n",
      "epoch : 327, train_loss : 0.0475175566971302\n",
      "epoch : 328, train_loss : 0.04096779227256775\n",
      "epoch : 329, train_loss : 0.04256724566221237\n",
      "epoch : 330, train_loss : 0.04039158299565315\n",
      "epoch : 331, train_loss : 0.05863199755549431\n",
      "epoch : 332, train_loss : 0.0398838184773922\n",
      "epoch : 333, train_loss : 0.035526227205991745\n",
      "epoch : 334, train_loss : 0.04541759192943573\n",
      "epoch : 335, train_loss : 0.049773525446653366\n",
      "epoch : 336, train_loss : 0.03869698941707611\n",
      "epoch : 337, train_loss : 0.0459546223282814\n",
      "epoch : 338, train_loss : 0.052643973380327225\n",
      "epoch : 339, train_loss : 0.045189838856458664\n",
      "epoch : 340, train_loss : 0.04254746437072754\n",
      "epoch : 341, train_loss : 0.03528770059347153\n",
      "epoch : 342, train_loss : 0.04774149879813194\n",
      "epoch : 343, train_loss : 0.04619062319397926\n",
      "epoch : 344, train_loss : 0.037683628499507904\n",
      "epoch : 345, train_loss : 0.04275773465633392\n",
      "epoch : 346, train_loss : 0.04627528414130211\n",
      "epoch : 347, train_loss : 0.037661001086235046\n",
      "epoch : 348, train_loss : 0.04096212983131409\n",
      "epoch : 349, train_loss : 0.033803921192884445\n",
      "epoch : 350, train_loss : 0.04678688943386078\n",
      "epoch : 351, train_loss : 0.045287150889635086\n",
      "epoch : 352, train_loss : 0.04060445725917816\n",
      "epoch : 353, train_loss : 0.04179660230875015\n",
      "epoch : 354, train_loss : 0.03874095901846886\n",
      "epoch : 355, train_loss : 0.049067720770835876\n"
     ]
    },
    {
     "name": "stdout",
     "output_type": "stream",
     "text": [
      "epoch : 356, train_loss : 0.04209063947200775\n",
      "epoch : 357, train_loss : 0.0342630110681057\n",
      "epoch : 358, train_loss : 0.045077256858348846\n",
      "epoch : 359, train_loss : 0.04731973260641098\n",
      "epoch : 360, train_loss : 0.038904618471860886\n",
      "epoch : 361, train_loss : 0.043232958763837814\n",
      "epoch : 362, train_loss : 0.041231825947761536\n",
      "epoch : 363, train_loss : 0.04845171421766281\n",
      "epoch : 364, train_loss : 0.03849567472934723\n",
      "epoch : 365, train_loss : 0.03287132829427719\n",
      "epoch : 366, train_loss : 0.03533604368567467\n",
      "epoch : 367, train_loss : 0.04137888550758362\n",
      "epoch : 368, train_loss : 0.03756877779960632\n",
      "epoch : 369, train_loss : 0.03806619346141815\n",
      "epoch : 370, train_loss : 0.03971337899565697\n",
      "epoch : 371, train_loss : 0.04177039489150047\n",
      "epoch : 372, train_loss : 0.03530311584472656\n",
      "epoch : 373, train_loss : 0.03225742653012276\n",
      "epoch : 374, train_loss : 0.03412259742617607\n",
      "epoch : 375, train_loss : 0.03415684774518013\n",
      "epoch : 376, train_loss : 0.032727643847465515\n",
      "epoch : 377, train_loss : 0.033079151064157486\n",
      "epoch : 378, train_loss : 0.03280724957585335\n",
      "epoch : 379, train_loss : 0.029912810772657394\n",
      "epoch : 380, train_loss : 0.03119048662483692\n",
      "epoch : 381, train_loss : 0.029292389750480652\n",
      "epoch : 382, train_loss : 0.03106480836868286\n",
      "epoch : 383, train_loss : 0.0342688262462616\n",
      "epoch : 384, train_loss : 0.03422195836901665\n",
      "epoch : 385, train_loss : 0.03331548348069191\n",
      "epoch : 386, train_loss : 0.033369679003953934\n",
      "epoch : 387, train_loss : 0.03261919319629669\n",
      "epoch : 388, train_loss : 0.03309697285294533\n",
      "epoch : 389, train_loss : 0.03400368615984917\n",
      "epoch : 390, train_loss : 0.030455399304628372\n",
      "epoch : 391, train_loss : 0.03049052134156227\n",
      "epoch : 392, train_loss : 0.030702989548444748\n",
      "epoch : 393, train_loss : 0.02944684959948063\n",
      "epoch : 394, train_loss : 0.030690481886267662\n",
      "epoch : 395, train_loss : 0.02891485206782818\n",
      "epoch : 396, train_loss : 0.02963908575475216\n",
      "epoch : 397, train_loss : 0.03217386454343796\n",
      "epoch : 398, train_loss : 0.03769119828939438\n",
      "epoch : 399, train_loss : 0.034033048897981644\n",
      "epoch : 400, train_loss : 0.029985638335347176\n",
      "epoch : 401, train_loss : 0.03227610886096954\n",
      "epoch : 402, train_loss : 0.03154565766453743\n",
      "epoch : 403, train_loss : 0.033763326704502106\n",
      "epoch : 404, train_loss : 0.0385916642844677\n",
      "epoch : 405, train_loss : 0.03164009004831314\n",
      "epoch : 406, train_loss : 0.028565017506480217\n",
      "epoch : 407, train_loss : 0.028530504554510117\n",
      "epoch : 408, train_loss : 0.028983453288674355\n",
      "epoch : 409, train_loss : 0.027310257777571678\n",
      "epoch : 410, train_loss : 0.027835523709654808\n",
      "epoch : 411, train_loss : 0.02949918620288372\n",
      "epoch : 412, train_loss : 0.030300254002213478\n",
      "epoch : 413, train_loss : 0.03273070976138115\n",
      "epoch : 414, train_loss : 0.028234558179974556\n",
      "epoch : 415, train_loss : 0.031097520142793655\n",
      "epoch : 416, train_loss : 0.03031598962843418\n",
      "epoch : 417, train_loss : 0.03126904368400574\n",
      "epoch : 418, train_loss : 0.03442975506186485\n",
      "epoch : 419, train_loss : 0.03943294286727905\n",
      "epoch : 420, train_loss : 0.03821682929992676\n",
      "epoch : 421, train_loss : 0.029610993340611458\n",
      "epoch : 422, train_loss : 0.03888912871479988\n",
      "epoch : 423, train_loss : 0.03949885815382004\n",
      "epoch : 424, train_loss : 0.030818527564406395\n",
      "epoch : 425, train_loss : 0.04634265974164009\n",
      "epoch : 426, train_loss : 0.0467095673084259\n",
      "epoch : 427, train_loss : 0.03766811639070511\n",
      "epoch : 428, train_loss : 0.05225764214992523\n",
      "epoch : 429, train_loss : 0.06364060938358307\n",
      "epoch : 430, train_loss : 0.04029105603694916\n",
      "epoch : 431, train_loss : 0.049262795597314835\n",
      "epoch : 432, train_loss : 0.0474434532225132\n",
      "epoch : 433, train_loss : 0.057067010551691055\n",
      "epoch : 434, train_loss : 0.052926480770111084\n",
      "epoch : 435, train_loss : 0.03485708683729172\n",
      "epoch : 436, train_loss : 0.06260491907596588\n",
      "epoch : 437, train_loss : 0.05898938328027725\n",
      "epoch : 438, train_loss : 0.038124293088912964\n",
      "epoch : 439, train_loss : 0.04931041970849037\n",
      "epoch : 440, train_loss : 0.03358867019414902\n",
      "epoch : 441, train_loss : 0.06634394824504852\n",
      "epoch : 442, train_loss : 0.047482673078775406\n",
      "epoch : 443, train_loss : 0.04605033993721008\n",
      "epoch : 444, train_loss : 0.04258662834763527\n",
      "epoch : 445, train_loss : 0.030751053243875504\n",
      "epoch : 446, train_loss : 0.04568533971905708\n",
      "epoch : 447, train_loss : 0.051325418055057526\n",
      "epoch : 448, train_loss : 0.03553687781095505\n",
      "epoch : 449, train_loss : 0.039674174040555954\n",
      "epoch : 450, train_loss : 0.03042079135775566\n",
      "epoch : 451, train_loss : 0.04839735105633736\n",
      "epoch : 452, train_loss : 0.04665786027908325\n",
      "epoch : 453, train_loss : 0.03686743602156639\n",
      "epoch : 454, train_loss : 0.03820057213306427\n",
      "epoch : 455, train_loss : 0.029256662353873253\n",
      "epoch : 456, train_loss : 0.04033311456441879\n",
      "epoch : 457, train_loss : 0.047094665467739105\n",
      "epoch : 458, train_loss : 0.034041669219732285\n",
      "epoch : 459, train_loss : 0.03763052821159363\n",
      "epoch : 460, train_loss : 0.031067252159118652\n",
      "epoch : 461, train_loss : 0.049472447484731674\n",
      "epoch : 462, train_loss : 0.041599106043577194\n",
      "epoch : 463, train_loss : 0.032604895532131195\n",
      "epoch : 464, train_loss : 0.03371134772896767\n",
      "epoch : 465, train_loss : 0.029336020350456238\n",
      "epoch : 466, train_loss : 0.04372837021946907\n",
      "epoch : 467, train_loss : 0.03990829363465309\n",
      "epoch : 468, train_loss : 0.03354097530245781\n",
      "epoch : 469, train_loss : 0.031515270471572876\n",
      "epoch : 470, train_loss : 0.02889448031783104\n",
      "epoch : 471, train_loss : 0.03162360563874245\n",
      "epoch : 472, train_loss : 0.029952136799693108\n",
      "epoch : 473, train_loss : 0.02876153402030468\n",
      "epoch : 474, train_loss : 0.02887745387852192\n",
      "epoch : 475, train_loss : 0.027716170996427536\n",
      "epoch : 476, train_loss : 0.027407897636294365\n",
      "epoch : 477, train_loss : 0.027639061212539673\n",
      "epoch : 478, train_loss : 0.028070548549294472\n",
      "epoch : 479, train_loss : 0.02683609165251255\n",
      "epoch : 480, train_loss : 0.024728959426283836\n",
      "epoch : 481, train_loss : 0.02435995079576969\n",
      "epoch : 482, train_loss : 0.024362608790397644\n",
      "epoch : 483, train_loss : 0.025836696848273277\n",
      "epoch : 484, train_loss : 0.025476081296801567\n",
      "epoch : 485, train_loss : 0.025530224665999413\n",
      "epoch : 486, train_loss : 0.02826441451907158\n",
      "epoch : 487, train_loss : 0.026011953130364418\n",
      "epoch : 488, train_loss : 0.02637643739581108\n",
      "epoch : 489, train_loss : 0.029842115938663483\n",
      "epoch : 490, train_loss : 0.03271928429603577\n",
      "epoch : 491, train_loss : 0.02988290786743164\n",
      "epoch : 492, train_loss : 0.02609195001423359\n",
      "epoch : 493, train_loss : 0.027419613674283028\n",
      "epoch : 494, train_loss : 0.028321310877799988\n",
      "epoch : 495, train_loss : 0.02611844800412655\n",
      "epoch : 496, train_loss : 0.02544427290558815\n",
      "epoch : 497, train_loss : 0.0247198436409235\n",
      "epoch : 498, train_loss : 0.024153169244527817\n",
      "epoch : 499, train_loss : 0.025765562430024147\n",
      "epoch : 500, train_loss : 0.03430904075503349\n"
     ]
    }
   ],
   "source": [
    "@tf.function\n",
    "def train_step(model,inputs,labels,loss_fn,optimizer,train_loss):\n",
    "    with tf.GradientTape() as tape:\n",
    "        prediction = model(inputs,training=True)\n",
    "        print(prediction.shape)\n",
    "        print(labels.shape)\n",
    "        loss = loss_fn(labels,prediction)\n",
    "        print(loss)\n",
    "    gradients = tape.gradient(loss,model.trainable_variables)\n",
    "    optimizer.apply_gradients(zip(gradients,model.trainable_variables))\n",
    "    train_loss(loss)\n",
    "\n",
    "loss_fn = tf.keras.losses.MAE\n",
    "\n",
    "optimizer = tf.keras.optimizers.Adam(0.001)\n",
    "train_loss = tf.keras.metrics.Mean(name = 'train_loss')\n",
    "\n",
    "for epoch in range(500):\n",
    "    for enc,dec,label in train_ds:\n",
    "        inputs = [enc,dec]\n",
    "        train_step(model,inputs,label,loss_fn,optimizer,train_loss)\n",
    "\n",
    "    print(f\"epoch : {epoch+1}, train_loss : {train_loss.result()}\")\n",
    "    train_loss.reset_states()"
   ]
  },
  {
   "cell_type": "code",
   "execution_count": 29,
   "metadata": {},
   "outputs": [
    {
     "name": "stdout",
     "output_type": "stream",
     "text": [
      "tf.Tensor(0.109378144, shape=(), dtype=float32)\n"
     ]
    }
   ],
   "source": [
    "test_loss = tf.keras.metrics.Mean(name = 'test_loss')\n",
    "\n",
    "@tf.function\n",
    "def test_step(model,inputs,labels,loss_fn,test_loss):\n",
    "    prediction = model(inputs,training=True)\n",
    "    loss = loss_fn(labels,prediction)\n",
    "    test_loss(loss)\n",
    "    return prediction\n",
    "\n",
    "i=0\n",
    "for enc,dec,label in test_ds:\n",
    "    inputs = [enc,dec]\n",
    "    pred = test_step(model,inputs,label,loss_fn,test_loss)\n",
    "    if i==0:\n",
    "        preds = pred.numpy()\n",
    "        labels = label.numpy()\n",
    "        i+=1\n",
    "    else:\n",
    "        preds = np.concatenate([preds, pred.numpy()],axis=0)\n",
    "        labels = np.concatenate([labels,label.numpy()],axis=0)\n",
    "\n",
    "print(test_loss.result())"
   ]
  },
  {
   "cell_type": "code",
   "execution_count": 30,
   "metadata": {},
   "outputs": [
    {
     "data": {
      "image/png": "[encoded data removed]",
      "text/plain": [
       "<Figure size 432x288 with 1 Axes>"
      ]
     },
     "metadata": {
      "needs_background": "light"
     },
     "output_type": "display_data"
    }
   ],
   "source": [
    "# Beta는 temporal attention에서 나온 시간에 대한 attention weight를 시각화할 수 있다.\n",
    "\n",
    "enc,dec,label = next(iter(test_ds))\n",
    "inputs = [enc, dec]\n",
    "pred = model(inputs)\n",
    "\n",
    "beta = []\n",
    "\n",
    "# for문은 time step 만큼 돌린다.\n",
    "for i in range(18):\n",
    "    beta.append(np.mean(model.decoder.beta_t[:,i,0].numpy()))  # batch, T, 1\n",
    "\n",
    "plt.bar(x = range(18), height=beta, color = 'orange')\n",
    "plt.title(\"Temporal Weight\")\n",
    "plt.xlabel(\"time\")\n",
    "plt.ylabel(\"prob\")\n",
    "plt.show()"
   ]
  },
  {
   "cell_type": "code",
   "execution_count": 31,
   "metadata": {},
   "outputs": [
    {
     "data": {
      "text/plain": [
       "[0.05755325,\n",
       " 0.056713562,\n",
       " 0.056107085,\n",
       " 0.0557131,\n",
       " 0.05550002,\n",
       " 0.05549825,\n",
       " 0.05554024,\n",
       " 0.055633627,\n",
       " 0.055675108,\n",
       " 0.055553667,\n",
       " 0.055409063,\n",
       " 0.055306416,\n",
       " 0.055095423,\n",
       " 0.05503292,\n",
       " 0.05500269,\n",
       " 0.054942958,\n",
       " 0.054868393,\n",
       " 0.054854207]"
      ]
     },
     "execution_count": 31,
     "metadata": {},
     "output_type": "execute_result"
    }
   ],
   "source": [
    "beta"
   ]
  },
  {
   "cell_type": "code",
   "execution_count": 32,
   "metadata": {
    "scrolled": true
   },
   "outputs": [
    {
     "data": {
      "text/plain": [
       "((49, 12), (49, 12))"
      ]
     },
     "execution_count": 32,
     "metadata": {},
     "output_type": "execute_result"
    }
   ],
   "source": [
    "preds.shape,labels.shape"
   ]
  },
  {
   "cell_type": "code",
   "execution_count": 33,
   "metadata": {},
   "outputs": [],
   "source": [
    "variable_dict = {\n",
    "    \"TEU\": [\"\"],\n",
    "    \"BDI\": [\"\"],\n",
    "    \"ln(HRCI)\": [\"\"],\n",
    "    \"ln(SCFI)\": [\"\"],\n",
    "    \"ln(다우존스지수)\": [\"\"],\n",
    "    \"전산업생산지수\": [\"\"],\n",
    "    \"경상수지\": [\"\"],\n",
    "    \"환율\": [\"13\"],\n",
    "    \"화물수송총괄\": [\"\"],\n",
    "    \"수출물가지수\": [\"\"]\n",
    "}"
   ]
  },
  {
   "cell_type": "code",
   "execution_count": 34,
   "metadata": {
    "scrolled": false
   },
   "outputs": [
    {
     "data": {
      "image/png": "[encoded data removed]",
      "text/plain": [
       "<Figure size 432x288 with 1 Axes>"
      ]
     },
     "metadata": {
      "needs_background": "light"
     },
     "output_type": "display_data"
    }
   ],
   "source": [
    "# alpha는 Input Attention에서 나온 특징들에 대한 attention weight를 시각화 할 수 있다.\n",
    "\n",
    "# variable_key는 특징값들이 들어가있으면된다.\n",
    "variable_key = list(variable_dict.keys())\n",
    "alpha = []\n",
    "variables = []\n",
    "\n",
    "# for문은 feature len만큼 돌린다.\n",
    "for i in range(10):\n",
    "    alpha.append(np.mean(model.encoder.alpha_t[:,0,i].numpy()))\n",
    "    for key in variable_key:\n",
    "        # 같은 의미의 값이 여러개 있는경우 숫자를 붙혀줄 수 있는데, 특징이 유니크하게 1개인경우 해당 소스는 필요없다.\n",
    "        if f\"{i}\" in variable_dict[key]:\n",
    "            variables.append(f\"{key}{i}\")\n",
    "            \n",
    "attention_weight = np.array(alpha)\n",
    "plt.figure(figsize=(6,4))\n",
    "plt.bar(range(len(attention_weight)), attention_weight,color='orange')\n",
    "plt.xticks(range(10), variable_key, rotation=90)\n",
    "plt.ylabel('gradients')\n",
    "plt.title('Attention Weight')\n",
    "plt.show()"
   ]
  },
  {
   "cell_type": "code",
   "execution_count": 35,
   "metadata": {},
   "outputs": [
    {
     "data": {
      "text/plain": [
       "[0.094709575,\n",
       " 0.0077385427,\n",
       " 0.004940099,\n",
       " 0.019129178,\n",
       " 0.040486205,\n",
       " 0.04282296,\n",
       " 0.6387185,\n",
       " 0.037049007,\n",
       " 0.1010301,\n",
       " 0.013375828]"
      ]
     },
     "execution_count": 35,
     "metadata": {},
     "output_type": "execute_result"
    }
   ],
   "source": [
    "alpha"
   ]
  },
  {
   "cell_type": "code",
   "execution_count": 36,
   "metadata": {
    "scrolled": true
   },
   "outputs": [
    {
     "data": {
      "text/plain": [
       "[<matplotlib.lines.Line2D at 0x217494a3790>]"
      ]
     },
     "execution_count": 36,
     "metadata": {},
     "output_type": "execute_result"
    },
    {
     "data": {
      "image/png": "[encoded data removed]",
      "text/plain": [
       "<Figure size 432x288 with 1 Axes>"
      ]
     },
     "metadata": {
      "needs_background": "light"
     },
     "output_type": "display_data"
    }
   ],
   "source": [
    "plt.plot(np.array(preds)[0])\n",
    "plt.plot(np.array(labels)[0])"
   ]
  },
  {
   "cell_type": "code",
   "execution_count": 37,
   "metadata": {},
   "outputs": [
    {
     "data": {
      "text/plain": [
       "[<matplotlib.lines.Line2D at 0x217495001c0>]"
      ]
     },
     "execution_count": 37,
     "metadata": {},
     "output_type": "execute_result"
    },
    {
     "data": {
      "image/png": "[encoded data removed]",
      "text/plain": [
       "<Figure size 432x288 with 1 Axes>"
      ]
     },
     "metadata": {
      "needs_background": "light"
     },
     "output_type": "display_data"
    }
   ],
   "source": [
    "plt.plot(np.array(preds)[12])\n",
    "plt.plot(np.array(labels)[12])"
   ]
  },
  {
   "cell_type": "code",
   "execution_count": 38,
   "metadata": {},
   "outputs": [
    {
     "data": {
      "text/plain": [
       "[<matplotlib.lines.Line2D at 0x21749554c10>]"
      ]
     },
     "execution_count": 38,
     "metadata": {},
     "output_type": "execute_result"
    },
    {
     "data": {
      "image/png": "[encoded data removed]",
      "text/plain": [
       "<Figure size 432x288 with 1 Axes>"
      ]
     },
     "metadata": {
      "needs_background": "light"
     },
     "output_type": "display_data"
    }
   ],
   "source": [
    "plt.plot(np.array(preds)[24])\n",
    "plt.plot(np.array(labels)[24])"
   ]
  },
  {
   "cell_type": "code",
   "execution_count": 39,
   "metadata": {
    "scrolled": true
   },
   "outputs": [
    {
     "data": {
      "text/plain": [
       "[<matplotlib.lines.Line2D at 0x217495b4220>]"
      ]
     },
     "execution_count": 39,
     "metadata": {},
     "output_type": "execute_result"
    },
    {
     "data": {
      "image/png": "[encoded data removed]",
      "text/plain": [
       "<Figure size 432x288 with 1 Axes>"
      ]
     },
     "metadata": {
      "needs_background": "light"
     },
     "output_type": "display_data"
    }
   ],
   "source": [
    "plt.plot(np.array(preds)[36])\n",
    "plt.plot(np.array(labels)[36])"
   ]
  },
  {
   "cell_type": "code",
   "execution_count": 40,
   "metadata": {},
   "outputs": [
    {
     "data": {
      "text/plain": [
       "[<matplotlib.lines.Line2D at 0x21749608c10>]"
      ]
     },
     "execution_count": 40,
     "metadata": {},
     "output_type": "execute_result"
    },
    {
     "data": {
      "image/png": "[encoded data removed]",
      "text/plain": [
       "<Figure size 432x288 with 1 Axes>"
      ]
     },
     "metadata": {
      "needs_background": "light"
     },
     "output_type": "display_data"
    }
   ],
   "source": [
    "plt.plot(np.array(preds)[48])\n",
    "plt.plot(np.array(labels)[48])"
   ]
  },
  {
   "cell_type": "code",
   "execution_count": 41,
   "metadata": {
    "scrolled": false
   },
   "outputs": [
    {
     "name": "stdout",
     "output_type": "stream",
     "text": [
      "RMSE: 85537.44804753282\n",
      "MAPE: 3.332499606856785\n"
     ]
    },
    {
     "data": {
      "image/png": "[encoded data removed]",
      "text/plain": [
       "<Figure size 432x288 with 1 Axes>"
      ]
     },
     "metadata": {
      "needs_background": "light"
     },
     "output_type": "display_data"
    }
   ],
   "source": [
    "fit = np.array(preds)[0].reshape(-1,1)\n",
    "fit_repeat = np.repeat(fit,10, axis=-1)\n",
    "model_fit = scaler.inverse_transform(fit_repeat)\n",
    "model_fit = np.squeeze(model_fit)[:,0]\n",
    "df1 = pd.DataFrame(model_fit)\n",
    "\n",
    "plt.plot(df1[0],label='Dual Stage Attention')\n",
    "plt.plot(test_data.head(12).reset_index()['TEU'],label='2017.07 ~ 2018.06')\n",
    "plt.legend(loc=2)\n",
    "\n",
    "rmse = math.sqrt(mean_squared_error(test_data.head(12).reset_index()['TEU'], df1[0]))\n",
    "print('RMSE:',rmse)\n",
    "print('MAPE:',np.mean(np.abs((test_data.head(12).reset_index()['TEU']- df1[0])/ test_data.head(12).reset_index()['TEU'])*100) )"
   ]
  },
  {
   "cell_type": "code",
   "execution_count": 42,
   "metadata": {
    "scrolled": true
   },
   "outputs": [
    {
     "name": "stdout",
     "output_type": "stream",
     "text": [
      "RMSE: 73354.8079910311\n",
      "MAPE: 2.2600291482073156\n"
     ]
    },
    {
     "data": {
      "image/png": "[encoded data removed]",
      "text/plain": [
       "<Figure size 432x288 with 1 Axes>"
      ]
     },
     "metadata": {
      "needs_background": "light"
     },
     "output_type": "display_data"
    }
   ],
   "source": [
    "fit = np.array(preds)[12].reshape(-1,1)\n",
    "fit_repeat = np.repeat(fit,10, axis=-1)\n",
    "model_fit = scaler.inverse_transform(fit_repeat)\n",
    "model_fit = np.squeeze(model_fit)[:,0]\n",
    "df2 = pd.DataFrame(model_fit)\n",
    "\n",
    "plt.plot(df2[0],label='Dual Stage Attention')\n",
    "plt.plot(test_data[12:24].reset_index()['TEU'],label='2018.07 ~ 2019.06')\n",
    "plt.legend(loc=3)\n",
    "\n",
    "rmse = math.sqrt(mean_squared_error(test_data[12:24].reset_index()['TEU'], df2[0]))\n",
    "print('RMSE:',rmse)\n",
    "print('MAPE:',np.mean(np.abs((test_data[12:24].reset_index()['TEU']- df2[0])/ test_data[12:24].reset_index()['TEU'])*100) )"
   ]
  },
  {
   "cell_type": "code",
   "execution_count": 43,
   "metadata": {
    "scrolled": true
   },
   "outputs": [
    {
     "name": "stdout",
     "output_type": "stream",
     "text": [
      "RMSE: 122247.42425545721\n",
      "MAPE: 4.081459812893699\n"
     ]
    },
    {
     "data": {
      "image/png": "[encoded data removed]",
      "text/plain": [
       "<Figure size 432x288 with 1 Axes>"
      ]
     },
     "metadata": {
      "needs_background": "light"
     },
     "output_type": "display_data"
    }
   ],
   "source": [
    "fit = np.array(preds)[24].reshape(-1,1)\n",
    "fit_repeat = np.repeat(fit,10, axis=-1)\n",
    "model_fit = scaler.inverse_transform(fit_repeat)\n",
    "model_fit = np.squeeze(model_fit)[:,0]\n",
    "df3 = pd.DataFrame(model_fit)\n",
    "\n",
    "plt.plot(df3[0],label='Dual Stage Attention')\n",
    "plt.plot(test_data[24:36].reset_index()['TEU'],label='2019.07 ~ 2020.06')\n",
    "plt.legend(loc=2)\n",
    "\n",
    "rmse = math.sqrt(mean_squared_error(test_data[24:36].reset_index()['TEU'], df3[0]))\n",
    "print('RMSE:',rmse)\n",
    "print('MAPE:',np.mean(np.abs((test_data[24:36].reset_index()['TEU']- df3[0])/ test_data[24:36].reset_index()['TEU'])*100) )"
   ]
  },
  {
   "cell_type": "code",
   "execution_count": 44,
   "metadata": {
    "scrolled": true
   },
   "outputs": [
    {
     "name": "stdout",
     "output_type": "stream",
     "text": [
      "RMSE: 96832.18518487066\n",
      "MAPE: 3.4128896546503924\n"
     ]
    },
    {
     "data": {
      "image/png": "[encoded data removed]",
      "text/plain": [
       "<Figure size 432x288 with 1 Axes>"
      ]
     },
     "metadata": {
      "needs_background": "light"
     },
     "output_type": "display_data"
    }
   ],
   "source": [
    "fit = np.array(preds)[36].reshape(-1,1)\n",
    "fit_repeat = np.repeat(fit,10, axis=-1)\n",
    "model_fit = scaler.inverse_transform(fit_repeat)\n",
    "model_fit = np.squeeze(model_fit)[:,0]\n",
    "df4 = pd.DataFrame(model_fit)\n",
    "\n",
    "plt.plot(df4[0],label='Dual Stage Attention')\n",
    "plt.plot(test_data[36:48].reset_index()['TEU'],label='2020.07 ~ 2021.06')\n",
    "plt.legend(loc=2)\n",
    "\n",
    "rmse = math.sqrt(mean_squared_error(test_data[36:48].reset_index()['TEU'], df4[0]))\n",
    "print('RMSE:',rmse)\n",
    "print('MAPE:',np.mean(np.abs((test_data[36:48].reset_index()['TEU']- df4[0])/ test_data[36:48].reset_index()['TEU'])*100) )"
   ]
  },
  {
   "cell_type": "code",
   "execution_count": 45,
   "metadata": {
    "scrolled": true
   },
   "outputs": [
    {
     "name": "stdout",
     "output_type": "stream",
     "text": [
      "RMSE: 97820.30129743966\n",
      "MAPE: 3.3253070499593\n"
     ]
    },
    {
     "data": {
      "image/png": "[encoded data removed]",
      "text/plain": [
       "<Figure size 432x288 with 1 Axes>"
      ]
     },
     "metadata": {
      "needs_background": "light"
     },
     "output_type": "display_data"
    }
   ],
   "source": [
    "fit = np.array(preds)[48].reshape(-1,1)\n",
    "fit_repeat = np.repeat(fit,10, axis=-1)\n",
    "model_fit = scaler.inverse_transform(fit_repeat)\n",
    "model_fit = np.squeeze(model_fit)[:,0]\n",
    "df5 = pd.DataFrame(model_fit)\n",
    "\n",
    "plt.plot(df5[0],label='Dual Stage Attention')\n",
    "plt.plot(test_data[48:60].reset_index()['TEU'],label='2021.07 ~ 2022.06')\n",
    "plt.legend(loc=3)\n",
    "\n",
    "rmse = math.sqrt(mean_squared_error(test_data[48:60].reset_index()['TEU'], df5[0]))\n",
    "print('RMSE:',rmse)\n",
    "print('MAPE:',np.mean(np.abs((test_data[48:60].reset_index()['TEU']- df5[0])/ test_data[48:60].reset_index()['TEU'])*100) )"
   ]
  },
  {
   "cell_type": "code",
   "execution_count": 46,
   "metadata": {},
   "outputs": [],
   "source": [
    "#pd.concat([df1,df2,df3,df4,df5],axis=0).to_csv('DALSTM.csv')"
   ]
  }
 ],
 "metadata": {
  "kernelspec": {
   "display_name": "Python 3 (ipykernel)",
   "language": "python",
   "name": "python3"
  },
  "language_info": {
   "codemirror_mode": {
    "name": "ipython",
    "version": 3
   },
   "file_extension": ".py",
   "mimetype": "text/x-python",
   "name": "python",
   "nbconvert_exporter": "python",
   "pygments_lexer": "ipython3",
   "version": "3.9.13"
  },
  "varInspector": {
   "cols": {
    "lenName": 16,
    "lenType": 16,
    "lenVar": 40
   },
   "kernels_config": {
    "python": {
     "delete_cmd_postfix": "",
     "delete_cmd_prefix": "del ",
     "library": "var_list.py",
     "varRefreshCmd": "print(var_dic_list())"
    },
    "r": {
     "delete_cmd_postfix": ") ",
     "delete_cmd_prefix": "rm(",
     "library": "var_list.r",
     "varRefreshCmd": "cat(var_dic_list()) "
    }
   },
   "position": {
    "height": "674px",
    "left": "1063px",
    "right": "20px",
    "top": "136px",
    "width": "692px"
   },
   "types_to_exclude": [
    "module",
    "function",
    "builtin_function_or_method",
    "instance",
    "_Feature"
   ],
   "window_display": false
  }
 },
 "nbformat": 4,
 "nbformat_minor": 4
}
