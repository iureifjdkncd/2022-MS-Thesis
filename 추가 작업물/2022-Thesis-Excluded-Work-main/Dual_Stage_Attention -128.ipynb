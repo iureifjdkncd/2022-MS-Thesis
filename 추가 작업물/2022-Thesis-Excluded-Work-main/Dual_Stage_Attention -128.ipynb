{
 "cells": [
  {
   "cell_type": "markdown",
   "metadata": {},
   "source": [
    "#### 참고 --> https://github.com/YooSungHyun/attention-time-forecast/tree/master"
   ]
  },
  {
   "cell_type": "code",
   "execution_count": 1,
   "metadata": {},
   "outputs": [],
   "source": [
    "import pandas as pd\n",
    "import numpy as np\n",
    "from numpy import array\n",
    "\n",
    "import matplotlib.pyplot as plt\n",
    "import matplotlib.font_manager as fm\n",
    "from matplotlib import rc\n",
    "%matplotlib inline\n",
    "\n",
    "import math\n",
    "from sklearn.metrics import mean_squared_error, mean_absolute_error,r2_score"
   ]
  },
  {
   "cell_type": "code",
   "execution_count": 2,
   "metadata": {},
   "outputs": [],
   "source": [
    "import tensorflow as tf\n",
    "from tensorflow.keras.layers import *\n",
    "from tensorflow.keras.models import *\n",
    "from tensorflow.keras.callbacks import *\n",
    "from tensorflow.keras.optimizers import *\n",
    "from tensorflow.keras import backend as K"
   ]
  },
  {
   "cell_type": "code",
   "execution_count": 3,
   "metadata": {},
   "outputs": [],
   "source": [
    "import warnings \n",
    "warnings.filterwarnings(action='ignore')"
   ]
  },
  {
   "cell_type": "code",
   "execution_count": 4,
   "metadata": {},
   "outputs": [],
   "source": [
    "#한글폰트 적용\n",
    "import matplotlib.font_manager as fm\n",
    "path = 'C:/Windows/Fonts/gulim.ttc'\n",
    "font_name = fm.FontProperties(fname=path, size=50).get_name()\n",
    "plt.rc('font', family=font_name)"
   ]
  },
  {
   "cell_type": "code",
   "execution_count": 5,
   "metadata": {},
   "outputs": [],
   "source": [
    "class Encoderlstm(Layer):\n",
    "    def __init__(self, m):\n",
    "        \"\"\"\n",
    "        m : feature dimension\n",
    "        h0 : initial hidden state\n",
    "        c0 : initial cell state\n",
    "        \"\"\"\n",
    "        super(Encoderlstm, self).__init__(name=\"encoder_lstm\")\n",
    "        self.lstm = LSTM(m, return_state=True)\n",
    "        self.initial_state = None\n",
    "\n",
    "    def call(self, x, training=False):\n",
    "        \"\"\"\n",
    "        x : t 번째 input data (shape = batch,1,n)\n",
    "        \"\"\"\n",
    "        h_s, _, c_s = self.lstm(x, initial_state=self.initial_state)\n",
    "        self.initial_state = [h_s, c_s]\n",
    "        return h_s, c_s\n",
    "\n",
    "    def reset_state(self, h0, c0):\n",
    "        self.initial_state = [h0, c0]\n",
    "\n",
    "\n",
    "class InputAttention(Layer):\n",
    "    def __init__(self, T):\n",
    "        super(InputAttention, self).__init__(name=\"input_attention\")\n",
    "        self.w1 = Dense(T)\n",
    "        self.w2 = Dense(T)\n",
    "        self.v = Dense(1)\n",
    "\n",
    "    def call(self, h_s, c_s, x):\n",
    "        \"\"\"\n",
    "        h_s : hidden_state (shape = batch,m)\n",
    "        c_s : cell_state (shape = batch,m)\n",
    "        x : time series encoder inputs (shape = batch,T,n)\n",
    "        \"\"\"\n",
    "        # 논문에서 hidden과 cell state를 concat하여 어텐션하는게 정확도가 더 높다고 한다.\n",
    "        query = tf.concat([h_s, c_s], axis=-1)  # batch, m*2\n",
    "        # 특징 개수만큼 hidden과 cell 합친 상태를 불린다. (각 특징만큼 hidden과 cell의 어텐션을 보기 위함이니까.)\n",
    "        query = RepeatVector(tf.shape(x)[2])(query)  # batch, n, m*2\n",
    "        # 2열과 1열 전치\n",
    "        x_perm = Permute((2, 1))(x)  # batch, n, T\n",
    "\n",
    "        # 일반적인 바다나우 어텐션 실시.\n",
    "        score = tf.nn.tanh(self.w1(x_perm) + self.w2(query))  # batch, n, T\n",
    "\n",
    "        # 1 시계열에 대한, 특징들의 scoring이 진행된다.\n",
    "        score = self.v(score)  # batch, n, 1\n",
    "        \n",
    "        # Attention Weight가 1 시계열에 대한 특징들의 어텐션이었으니, 소스에서 인지하기 쉽게 2열 1열 다시 전치\n",
    "        score = Permute((2, 1))(score)  # batch,1,n\n",
    "\n",
    "        attention_weights = tf.nn.softmax(score)  # t 번째 time step 일 때 각 feature 별 중요도\n",
    "        return attention_weights\n",
    "\n",
    "\n",
    "class Encoder(Layer):\n",
    "    def __init__(self, T, m):\n",
    "        super(Encoder, self).__init__(name=\"encoder\")\n",
    "        \"\"\"\n",
    "        m : 인코더 LSTM의 Units(outputs) 개수. (lstm의 출력을 몇개의 차원으로 할 것인가?)\n",
    "        \"\"\"\n",
    "        self.T = T\n",
    "        self.input_att = InputAttention(T)\n",
    "        self.lstm = Encoderlstm(m)\n",
    "        self.initial_state = None\n",
    "        self.alpha_t = None\n",
    "\n",
    "    def call(self, data, h0, c0, n, training=False):\n",
    "        \"\"\"\n",
    "        data : encoder data (shape = batch, T, n)\n",
    "        n : data feature num\n",
    "        \"\"\"\n",
    "        # state setting\n",
    "        self.lstm.reset_state(h0=h0, c0=c0)\n",
    "\n",
    "        # 시간별 result를 담을 array 생성\n",
    "        alpha_seq = tf.TensorArray(tf.float32, self.T)\n",
    "        \n",
    "        # 이부분은 각자 데이터셋에 따라 수정이 필요할 수 있다.\n",
    "        # 근데, 사실상 encoder는 집어넣은 dataset의 timestep을 다 쓸테니, 수정이 필요하지 않는게 일반적일듯 하다.\n",
    "        for t in range(self.T):\n",
    "\n",
    "            # 배치단위로 각 시간순서의 값들을 떼어서 3차원으로 변환시켜준다\n",
    "            # 24시간으로 가정하면, 1배치의 모든 0시 값을 t=0에 수행\n",
    "            x = Lambda(lambda x: data[:, t, :])(data)\n",
    "            x = x[:, tf.newaxis, :]\n",
    "            # x : (batch_size,1,n)\n",
    "            \n",
    "            # 각 배치의 모든 시 1 time을 넣어서 lstm을 수행한다. (1 time step lstm)\n",
    "            h_s, c_s = self.lstm(x)\n",
    "            # h_s, c_s : (batch_size, m)\n",
    "\n",
    "            # 1 time step에 대한 input attetnion을 진행한다.\n",
    "            self.alpha_t = self.input_att(h_s, c_s, data)  # batch,1,n\n",
    "            # 한 시계열에 대한 feature attention score가 출력된다.\n",
    "\n",
    "            # 이후에 곱을 한꺼번에 진행하기 위해서 value와 곱하는 과정을 먼저 수행하진 않고 결과 array에 전부 넣어놓는다.\n",
    "            alpha_seq = alpha_seq.write(t, self.alpha_t)\n",
    "\n",
    "        # 각 시계열별로 특징들에 대한 weight를 전부 계산하고, array를 1개로 합쳐 최종 시계열별 특징 중요도에 대한 array set를 완성한다.\n",
    "        alpha_seq = tf.reshape(alpha_seq.stack(), (-1, self.T, n))  # batch, T, n\n",
    "\n",
    "        # Attention Weight * Value를 통해, 실제 Context_Vector set를 구하게 된다.\n",
    "        # 결과적으로는 각 시간 time-line별로 가장 중요하게 생각되는 특성들만 값이 높아지게 된다.\n",
    "        output = tf.multiply(data, alpha_seq)  # batch, T, n\n",
    "\n",
    "        return output\n",
    "\n",
    "\n",
    "class Decoderlstm(Layer):\n",
    "    def __init__(self, p):\n",
    "        \"\"\"\n",
    "        p : feature dimension\n",
    "        h0 : initial hidden state\n",
    "        c0 : initial cell state\n",
    "        \"\"\"\n",
    "        super(Decoderlstm, self).__init__(name=\"decoder_lstm\")\n",
    "        self.lstm = LSTM(p, return_state=True)\n",
    "        self.initial_state = None\n",
    "\n",
    "    def call(self, x, training=False):\n",
    "        \"\"\"\n",
    "        x : t 번째 input data (shape = batch,1,n)\n",
    "        \"\"\"\n",
    "        h_s, _, c_s = self.lstm(x, initial_state=self.initial_state)\n",
    "        self.initial_state = [h_s, c_s]\n",
    "        return h_s, c_s\n",
    "\n",
    "    def reset_state(self, h0, c0):\n",
    "        self.initial_state = [h0, c0]\n",
    "\n",
    "\n",
    "class TemporalAttention(Layer):\n",
    "    def __init__(self, m):\n",
    "        super(TemporalAttention, self).__init__(name=\"temporal_attention\")\n",
    "        self.w1 = Dense(m)\n",
    "        self.w2 = Dense(m)\n",
    "        self.v = Dense(1)\n",
    "\n",
    "    def call(self, h_s, c_s, enc_h):\n",
    "        \"\"\"\n",
    "        h_s : hidden_state (shape = batch,p)\n",
    "        c_s : cell_state (shape = batch,p)\n",
    "        enc_h : time series encoder inputs (shape = batch,T,m)\n",
    "        \"\"\"\n",
    "        # 평범한 바다나우 어텐션이 진행된다.\n",
    "        query = tf.concat([h_s, c_s], axis=-1)  # batch, p*2\n",
    "        # 여기서는 시계열만큼을 복사한다는데 유의하자. decoder의 temporal attention은 일반적인 바다나우와 같이, 시간에 대한 attention이 계산된다.\n",
    "        query = RepeatVector(tf.shape(enc_h)[1])(query)\n",
    "        score = tf.nn.tanh(self.w1(enc_h) + self.w2(query))  # batch, T, m\n",
    "        score = self.v(score)  # batch, T, 1\n",
    "        attention_weights = tf.nn.softmax(\n",
    "            score, axis=1\n",
    "        )  # encoder hidden state h(i) 의 중요성 (0<=i<=T)\n",
    "        return attention_weights\n",
    "\n",
    "\n",
    "class Decoder(Layer):\n",
    "    def __init__(self, T, p, m):\n",
    "        super(Decoder, self).__init__(name=\"decoder\")\n",
    "        self.T = T\n",
    "        self.temp_att = TemporalAttention(m)\n",
    "        self.dense = Dense(1)\n",
    "        self.lstm = Decoderlstm(p)\n",
    "        self.enc_lstm_dim = m\n",
    "        self.dec_lstm_dim = p\n",
    "        self.context_v = None\n",
    "        self.dec_h_s = None\n",
    "        self.beta_t = None\n",
    "\n",
    "    def call(self, data, enc_h, h0=None, c0=None, training=False):\n",
    "        \"\"\"\n",
    "        data : decoder data\n",
    "        enc_h : encoder hidden state (shape = batch, T, m)\n",
    "        \"\"\"\n",
    "\n",
    "        h_s = None\n",
    "        self.lstm.reset_state(h0=h0, c0=c0)\n",
    "\n",
    "        self.context_v = tf.zeros((tf.shape(enc_h)[0], 1, self.enc_lstm_dim))  # batch,1,m\n",
    "        self.dec_h_s = tf.zeros((tf.shape(enc_h)[0], self.dec_lstm_dim))  # batch, p\n",
    "        # 이부분은 각자 데이터셋에 따라 수정이 필요할 수 있다.\n",
    "        # 필자는 이것저것 시도해봤었는데, 이부분은 decoder time step 전체를 보고 어떤 값 1개를 예측하기 위함이었다.\n",
    "        for t in range(data.shape[1]):\n",
    "            # decoder에 집어넣은 data를 모든 배치별 1 time step으로 분리한다.\n",
    "            x = Lambda(lambda x: data[:, t, :])(data)\n",
    "            x = x[:, tf.newaxis, :]  #  (batch,1,특징값 혹은 예측할값 기타등등?<-구성하기 나름이겠다.)\n",
    "\n",
    "            # 바다나우 어텐션과 동일하게, x와 context_vector를 concat\n",
    "            x = tf.concat([x, self.context_v], axis=-1) # batch, 1, m+1\n",
    "            x = self.dense(x)  # batch,1,특징 갯수 혹은 예측해야할 갯수+context_vector size\n",
    "\n",
    "            # attention을 진행할 decoder의 hidden과 cell을 구한다.\n",
    "            h_s, c_s = self.lstm(x)  # batch,p\n",
    "\n",
    "\n",
    "            # encoding에서 weighted sum된 특징값들을 통해서 (특징 중요도로 학습한 결과로), decoder에서는 시간에 대한 attention이 진행되게 된다.\n",
    "            self.beta_t = self.temp_att(h_s, c_s, enc_h)  # batch, T, 1\n",
    "            # 결과는 시간들에 있어서 가장 중요한 값이 뭐였는지에 대한 weigth가 나온다\n",
    "\n",
    "            # 실제로 encoder 시간값들(사실상 value)에 곱해서 가장 유의미했던 시간값들의 특징값에는 더 많은 가중치가 곱해지게 된다.\n",
    "            self.context_v = tf.matmul(\n",
    "                self.beta_t, enc_h, transpose_a=True\n",
    "            )  # batch,1,m\n",
    "\n",
    "        return tf.concat(\n",
    "            [h_s[:, tf.newaxis, :], self.context_v], axis=-1\n",
    "        )  # batch,1,m+p\n",
    "\n",
    "\n",
    "class DARNN(Model):\n",
    "    def __init__(self, T, m, p, target_len):\n",
    "        super(DARNN, self).__init__(name=\"DARNN\")\n",
    "        \"\"\"\n",
    "        T : time step (24시간이면 24)\n",
    "        m : encoder lstm feature(output) length (정확히는 encoder lstm의 유닛개수)\n",
    "        p : decoder lstm feature(output) length (정확히는 decoder lstm의 유닛개수)\n",
    "        h0 : lstm hidden state\n",
    "        c0 : lstm cell state\n",
    "        target_len : 예측할 Y의 개수 (24시간에 대한 기온,풍속,기압 을 예측할거면 target_len=3)\n",
    "        \"\"\"\n",
    "        self.m = m\n",
    "        self.encoder = Encoder(T=T, m=m)\n",
    "        self.decoder = Decoder(T=T, p=p, m=m)\n",
    "        self.lstm = LSTM(m, return_sequences=True)\n",
    "        self.dense1 = Dense(p)\n",
    "        self.dense2 = Dense(target_len)\n",
    "\n",
    "    def call(self, inputs, training=False, mask=None):\n",
    "        \"\"\"\n",
    "        inputs : [enc , dec]\n",
    "        enc_data : batch,T,n\n",
    "        dec_data : batch,T-1,1\n",
    "        \"\"\"\n",
    "        \n",
    "        enc_data, dec_data = inputs\n",
    "        batch = tf.shape(enc_data)[0]\n",
    "\n",
    "        '''\n",
    "        h0, c0는 솔직히 요즘 keras에서 초기화가 꼭 필요한지 궁금하다.\n",
    "        공식 개발자 가이드를 찾아봐도, 초기 h0과 c0은 0 dimension으로 채워진다고 되어있다.\n",
    "        '''\n",
    "        h0 = tf.zeros((batch, self.m))\n",
    "        c0 = tf.zeros((batch, self.m))\n",
    "        \n",
    "        # input attention을 이용하여, 각 시계열별 특징 중요도를 한땀한땀 계산하여 output에 해당하는 dimension으로 출력한다.\n",
    "        enc_output = self.encoder(\n",
    "            enc_data, n=tf.shape(enc_data)[2], h0=h0, c0=c0, training=training\n",
    "        )  # output : (batch_size, T, n)\n",
    "\n",
    "        # 전부 재계산된 context_vector를 통해서, 전 시계열을 1회 학습한다.\n",
    "        enc_h = self.lstm(enc_output)  # batch, T, m\n",
    "\n",
    "        # temporal attention을 이용하여, enc 시계열 대비 dec 시계열이 어떤 시계열에 attention되는지를 계산한다.\n",
    "        dec_output = self.decoder(\n",
    "            dec_data, enc_h, h0=h0, c0=c0, training=training\n",
    "        )  # output : (batch_size,1,m+p)\n",
    "        \n",
    "        # 전체 특징단위, 시간단위 유의미한 값들이 가중된 어떤 벡터값이 나오니, 그냥 NN 시킨다.\n",
    "        output = self.dense2(self.dense1(dec_output))\n",
    "        output = tf.squeeze(output)\n",
    "        return output"
   ]
  },
  {
   "cell_type": "code",
   "execution_count": 6,
   "metadata": {},
   "outputs": [
    {
     "name": "stdout",
     "output_type": "stream",
     "text": [
      "(270, 10)\n",
      "Index(['TEU', 'BDI', 'ln(HRCI)', 'ln(SCFI)', 'ln(다우존스지수)', '전산업생산지수', '경상수지',\n",
      "       '환율', '화물수송총괄', '수출물가지수'],\n",
      "      dtype='object')\n"
     ]
    },
    {
     "data": {
      "text/html": [
       "<div>\n",
       "<style scoped>\n",
       "    .dataframe tbody tr th:only-of-type {\n",
       "        vertical-align: middle;\n",
       "    }\n",
       "\n",
       "    .dataframe tbody tr th {\n",
       "        vertical-align: top;\n",
       "    }\n",
       "\n",
       "    .dataframe thead th {\n",
       "        text-align: right;\n",
       "    }\n",
       "</style>\n",
       "<table border=\"1\" class=\"dataframe\">\n",
       "  <thead>\n",
       "    <tr style=\"text-align: right;\">\n",
       "      <th></th>\n",
       "      <th>TEU</th>\n",
       "      <th>BDI</th>\n",
       "      <th>ln(HRCI)</th>\n",
       "      <th>ln(SCFI)</th>\n",
       "      <th>ln(다우존스지수)</th>\n",
       "      <th>전산업생산지수</th>\n",
       "      <th>경상수지</th>\n",
       "      <th>환율</th>\n",
       "      <th>화물수송총괄</th>\n",
       "      <th>수출물가지수</th>\n",
       "    </tr>\n",
       "    <tr>\n",
       "      <th>Date</th>\n",
       "      <th></th>\n",
       "      <th></th>\n",
       "      <th></th>\n",
       "      <th></th>\n",
       "      <th></th>\n",
       "      <th></th>\n",
       "      <th></th>\n",
       "      <th></th>\n",
       "      <th></th>\n",
       "      <th></th>\n",
       "    </tr>\n",
       "  </thead>\n",
       "  <tbody>\n",
       "    <tr>\n",
       "      <th>2000-01-31</th>\n",
       "      <td>570720</td>\n",
       "      <td>1319</td>\n",
       "      <td>1.913430</td>\n",
       "      <td>2.878875</td>\n",
       "      <td>4.039038</td>\n",
       "      <td>55.0</td>\n",
       "      <td>-218.1</td>\n",
       "      <td>1131.07</td>\n",
       "      <td>181367</td>\n",
       "      <td>133.88</td>\n",
       "    </tr>\n",
       "    <tr>\n",
       "      <th>2000-02-29</th>\n",
       "      <td>590400</td>\n",
       "      <td>1531</td>\n",
       "      <td>1.986905</td>\n",
       "      <td>2.882456</td>\n",
       "      <td>4.005537</td>\n",
       "      <td>51.9</td>\n",
       "      <td>-324.1</td>\n",
       "      <td>1128.80</td>\n",
       "      <td>218300</td>\n",
       "      <td>130.56</td>\n",
       "    </tr>\n",
       "    <tr>\n",
       "      <th>2000-03-31</th>\n",
       "      <td>665430</td>\n",
       "      <td>1660</td>\n",
       "      <td>2.050943</td>\n",
       "      <td>2.884831</td>\n",
       "      <td>4.038299</td>\n",
       "      <td>58.7</td>\n",
       "      <td>275.3</td>\n",
       "      <td>1117.19</td>\n",
       "      <td>206116</td>\n",
       "      <td>128.19</td>\n",
       "    </tr>\n",
       "    <tr>\n",
       "      <th>2000-04-30</th>\n",
       "      <td>603930</td>\n",
       "      <td>1628</td>\n",
       "      <td>2.107499</td>\n",
       "      <td>2.887110</td>\n",
       "      <td>4.030758</td>\n",
       "      <td>56.9</td>\n",
       "      <td>-1156.0</td>\n",
       "      <td>1109.76</td>\n",
       "      <td>166931</td>\n",
       "      <td>126.84</td>\n",
       "    </tr>\n",
       "    <tr>\n",
       "      <th>2000-05-31</th>\n",
       "      <td>683880</td>\n",
       "      <td>1566</td>\n",
       "      <td>2.158143</td>\n",
       "      <td>2.890466</td>\n",
       "      <td>4.022112</td>\n",
       "      <td>59.6</td>\n",
       "      <td>1535.5</td>\n",
       "      <td>1120.01</td>\n",
       "      <td>208853</td>\n",
       "      <td>127.89</td>\n",
       "    </tr>\n",
       "  </tbody>\n",
       "</table>\n",
       "</div>"
      ],
      "text/plain": [
       "               TEU   BDI  ln(HRCI)  ln(SCFI)  ln(다우존스지수)  전산업생산지수    경상수지  \\\n",
       "Date                                                                        \n",
       "2000-01-31  570720  1319  1.913430  2.878875    4.039038     55.0  -218.1   \n",
       "2000-02-29  590400  1531  1.986905  2.882456    4.005537     51.9  -324.1   \n",
       "2000-03-31  665430  1660  2.050943  2.884831    4.038299     58.7   275.3   \n",
       "2000-04-30  603930  1628  2.107499  2.887110    4.030758     56.9 -1156.0   \n",
       "2000-05-31  683880  1566  2.158143  2.890466    4.022112     59.6  1535.5   \n",
       "\n",
       "                 환율  화물수송총괄  수출물가지수  \n",
       "Date                                 \n",
       "2000-01-31  1131.07  181367  133.88  \n",
       "2000-02-29  1128.80  218300  130.56  \n",
       "2000-03-31  1117.19  206116  128.19  \n",
       "2000-04-30  1109.76  166931  126.84  \n",
       "2000-05-31  1120.01  208853  127.89  "
      ]
     },
     "execution_count": 6,
     "metadata": {},
     "output_type": "execute_result"
    }
   ],
   "source": [
    "pd.set_option('display.max_columns', None)\n",
    "data = pd.read_csv('TEU_전국.csv')\n",
    "data['Date'] = pd.to_datetime(data['Date'])\n",
    "data = data.set_index('Date')\n",
    "print(data.shape)\n",
    "print(data.columns)\n",
    "data.head()"
   ]
  },
  {
   "cell_type": "code",
   "execution_count": 7,
   "metadata": {},
   "outputs": [],
   "source": [
    "split = -60\n",
    "train_data = data['TEU'][0:split] \n",
    "test_data = data['TEU'][split:]"
   ]
  },
  {
   "cell_type": "code",
   "execution_count": 8,
   "metadata": {},
   "outputs": [
    {
     "data": {
      "text/plain": [
       "((210,), (60,))"
      ]
     },
     "execution_count": 8,
     "metadata": {},
     "output_type": "execute_result"
    }
   ],
   "source": [
    "train_data.shape,test_data.shape"
   ]
  },
  {
   "cell_type": "code",
   "execution_count": 9,
   "metadata": {},
   "outputs": [],
   "source": [
    "seasonal = pd.read_csv('계절성예측.csv')"
   ]
  },
  {
   "cell_type": "code",
   "execution_count": 10,
   "metadata": {},
   "outputs": [],
   "source": [
    "raw_df = data"
   ]
  },
  {
   "cell_type": "code",
   "execution_count": 11,
   "metadata": {},
   "outputs": [],
   "source": [
    "split = -78\n",
    "train = raw_df[0:split] \n",
    "test = raw_df[split:] "
   ]
  },
  {
   "cell_type": "code",
   "execution_count": 12,
   "metadata": {
    "scrolled": true
   },
   "outputs": [
    {
     "data": {
      "text/plain": [
       "<matplotlib.legend.Legend at 0x2aa6efebe80>"
      ]
     },
     "execution_count": 12,
     "metadata": {},
     "output_type": "execute_result"
    },
    {
     "data": {
      "image/png": "[encoded data removed]",
      "text/plain": [
       "<Figure size 864x288 with 1 Axes>"
      ]
     },
     "metadata": {
      "needs_background": "light"
     },
     "output_type": "display_data"
    }
   ],
   "source": [
    "plt.figure(figsize=(12,4))\n",
    "plt.grid(True)\n",
    "plt.xlabel('Date')\n",
    "plt.ylabel('TEU')\n",
    "plt.plot(train['TEU'], 'blue', label='Train data')\n",
    "plt.plot(test['TEU'], 'red', label='Test data')\n",
    "plt.legend()"
   ]
  },
  {
   "cell_type": "code",
   "execution_count": 13,
   "metadata": {},
   "outputs": [
    {
     "data": {
      "text/plain": [
       "(192, 78)"
      ]
     },
     "execution_count": 13,
     "metadata": {},
     "output_type": "execute_result"
    }
   ],
   "source": [
    "len(train),len(test)"
   ]
  },
  {
   "cell_type": "code",
   "execution_count": 14,
   "metadata": {},
   "outputs": [],
   "source": [
    "from sklearn.preprocessing import MinMaxScaler\n",
    "scaler = MinMaxScaler(feature_range=(0, 1))\n",
    "scale_cols =  ['TEU', 'BDI', 'ln(HRCI)', 'ln(SCFI)', 'ln(다우존스지수)', '전산업생산지수', '경상수지','환율', '화물수송총괄', '수출물가지수']\n",
    "scaled_train = scaler.fit_transform(train[scale_cols])  \n",
    "scaled_train = pd.DataFrame(scaled_train, columns=scale_cols)\n",
    "\n",
    "feature_train = scaled_train                       # X_train 다변량 시계열 변수 \n",
    "label_train = scaled_train[['TEU']]               #  y_train 종속변수 \n",
    "\n",
    "scaled_test = scaler.fit_transform(test[scale_cols]) \n",
    "scaled_test = pd.DataFrame(scaled_test, columns=scale_cols)\n",
    "\n",
    "feature_test = scaled_test                       # X_test 다변량 시계열 변수 \n",
    "label_test = scaled_test[['TEU']]               #  y_test종속변수 "
   ]
  },
  {
   "cell_type": "code",
   "execution_count": 15,
   "metadata": {},
   "outputs": [],
   "source": [
    "def split_sequence(sequence, n_steps_in, n_steps_out):\n",
    "    X, y = list(), list()\n",
    "    for i in range(len(sequence)):\n",
    "        end_ix = i + n_steps_in\n",
    "        out_end_ix = end_ix + n_steps_out\n",
    "        if out_end_ix > len(sequence):\n",
    "            break\n",
    "        seq_x, seq_y = sequence[i:end_ix], sequence[end_ix:out_end_ix]\n",
    "        X.append(seq_x)\n",
    "        y.append(seq_y)\n",
    "    return array(X), array(y)"
   ]
  },
  {
   "cell_type": "code",
   "execution_count": 16,
   "metadata": {},
   "outputs": [],
   "source": [
    "window_size = 18 # Input Sequence (입력 길이) : X1,X2,....XT \n",
    "n_step_out = 12   # Output Sequence (출력 길이) : Y1,Y2,....YT"
   ]
  },
  {
   "cell_type": "markdown",
   "metadata": {},
   "source": [
    "### 1. X_train, Y_train 배열"
   ]
  },
  {
   "cell_type": "code",
   "execution_count": 17,
   "metadata": {},
   "outputs": [],
   "source": [
    "X_train,y = split_sequence(feature_train, window_size, n_step_out) # feature_train = X 다변량 변수 \n",
    "x, Y_train = split_sequence(label_train, window_size, n_step_out) # label_train = Y 종속변수 예측값 "
   ]
  },
  {
   "cell_type": "code",
   "execution_count": 18,
   "metadata": {},
   "outputs": [
    {
     "data": {
      "text/plain": [
       "((163, 18, 10), (163, 12, 1))"
      ]
     },
     "execution_count": 18,
     "metadata": {},
     "output_type": "execute_result"
    }
   ],
   "source": [
    "X_train.shape,Y_train.shape"
   ]
  },
  {
   "cell_type": "code",
   "execution_count": 19,
   "metadata": {},
   "outputs": [],
   "source": [
    "enc_train = X_train\n",
    "dec_train = Y_train\n",
    "y_train = Y_train.reshape(163,12)"
   ]
  },
  {
   "cell_type": "code",
   "execution_count": 20,
   "metadata": {},
   "outputs": [
    {
     "data": {
      "text/plain": [
       "((163, 18, 10), (163, 12, 1), (163, 12))"
      ]
     },
     "execution_count": 20,
     "metadata": {},
     "output_type": "execute_result"
    }
   ],
   "source": [
    "enc_train.shape,dec_train.shape,y_train.shape"
   ]
  },
  {
   "cell_type": "markdown",
   "metadata": {},
   "source": [
    "### 2. X_test,Y_test 배열"
   ]
  },
  {
   "cell_type": "code",
   "execution_count": 21,
   "metadata": {},
   "outputs": [],
   "source": [
    "X_test,y = split_sequence(feature_test, window_size, n_step_out) # feature_train = X 다변량 변수 \n",
    "x, Y_test = split_sequence(label_test, window_size, n_step_out) # label_train = Y 종속변수 예측값 "
   ]
  },
  {
   "cell_type": "code",
   "execution_count": 22,
   "metadata": {},
   "outputs": [
    {
     "data": {
      "text/plain": [
       "((49, 18, 10), (49, 12, 1))"
      ]
     },
     "execution_count": 22,
     "metadata": {},
     "output_type": "execute_result"
    }
   ],
   "source": [
    "X_test.shape,Y_test.shape"
   ]
  },
  {
   "cell_type": "code",
   "execution_count": 23,
   "metadata": {},
   "outputs": [],
   "source": [
    "enc_test = X_test\n",
    "dec_test = Y_test\n",
    "y_test = Y_test.reshape(49,12)"
   ]
  },
  {
   "cell_type": "code",
   "execution_count": 24,
   "metadata": {},
   "outputs": [
    {
     "data": {
      "text/plain": [
       "((49, 18, 10), (49, 12, 1), (49, 12))"
      ]
     },
     "execution_count": 24,
     "metadata": {},
     "output_type": "execute_result"
    }
   ],
   "source": [
    "enc_test.shape,dec_test.shape,y_test.shape"
   ]
  },
  {
   "cell_type": "code",
   "execution_count": 25,
   "metadata": {},
   "outputs": [],
   "source": [
    "%load_ext autoreload\n",
    "%autoreload 2\n",
    "\n",
    "# Input Sequence ( 입력 시차 길이 )\n",
    "T = 18\n",
    "\n",
    "# 인코더 셀 개수\n",
    "m = 128\n",
    "\n",
    "# 디코더 셀 개수 \n",
    "p = 128\n",
    "\n",
    "batch_size = 10 # 훈련 배치 사이즈\n",
    "\n",
    "# 논문에서 Encoder & Decoder 셀 개수가 서로 일치해야 성능이 가장 좋음(?) / 논문은 (64,64) & (128,128)이 제일 좋음 \n",
    "model = DARNN(T=T, m=m, p=p, target_len=12)"
   ]
  },
  {
   "cell_type": "code",
   "execution_count": 26,
   "metadata": {},
   "outputs": [],
   "source": [
    "# epoch 돌아가는 쪽 소스를 수정할 거면, 굳이, tf dataset을 사용할 필요는 없다.\n",
    "\n",
    "train_ds = (\n",
    "    tf.data.Dataset.from_tensor_slices(\n",
    "        (enc_train, dec_train, y_train)\n",
    "    )\n",
    "    .batch(batch_size)\n",
    "#     .shuffle(buffer_size=20000)\n",
    "    .prefetch(tf.data.experimental.AUTOTUNE)\n",
    ")\n",
    "\n",
    "test_ds = tf.data.Dataset.from_tensor_slices(\n",
    "    (enc_test, dec_test, y_test)\n",
    ").batch(batch_size)"
   ]
  },
  {
   "cell_type": "code",
   "execution_count": 27,
   "metadata": {},
   "outputs": [
    {
     "data": {
      "text/plain": [
       "(49, 12)"
      ]
     },
     "execution_count": 27,
     "metadata": {},
     "output_type": "execute_result"
    }
   ],
   "source": [
    "y_test.shape"
   ]
  },
  {
   "cell_type": "code",
   "execution_count": 28,
   "metadata": {
    "scrolled": true
   },
   "outputs": [
    {
     "name": "stdout",
     "output_type": "stream",
     "text": [
      "(10, 12)\n",
      "(10, 12)\n",
      "Tensor(\"Mean:0\", shape=(10,), dtype=float32)\n",
      "(10, 12)\n",
      "(10, 12)\n",
      "Tensor(\"Mean:0\", shape=(10,), dtype=float32)\n",
      "(3, 12)\n",
      "(3, 12)\n",
      "Tensor(\"Mean:0\", shape=(3,), dtype=float32)\n",
      "epoch : 1, train_loss : 0.21208755671977997\n",
      "epoch : 2, train_loss : 0.2983703315258026\n",
      "epoch : 3, train_loss : 0.21672771871089935\n",
      "epoch : 4, train_loss : 0.22004105150699615\n",
      "epoch : 5, train_loss : 0.1403418481349945\n",
      "epoch : 6, train_loss : 0.22883069515228271\n",
      "epoch : 7, train_loss : 0.07254506647586823\n",
      "epoch : 8, train_loss : 0.07367706298828125\n",
      "epoch : 9, train_loss : 0.11373458057641983\n",
      "epoch : 10, train_loss : 0.2115768939256668\n",
      "epoch : 11, train_loss : 0.08157800883054733\n",
      "epoch : 12, train_loss : 0.09849187731742859\n",
      "epoch : 13, train_loss : 0.1427309662103653\n",
      "epoch : 14, train_loss : 0.12756548821926117\n",
      "epoch : 15, train_loss : 0.06604526191949844\n",
      "epoch : 16, train_loss : 0.1156301349401474\n",
      "epoch : 17, train_loss : 0.16893915832042694\n",
      "epoch : 18, train_loss : 0.06723267585039139\n",
      "epoch : 19, train_loss : 0.07415423542261124\n",
      "epoch : 20, train_loss : 0.11423244327306747\n",
      "epoch : 21, train_loss : 0.06910605728626251\n",
      "epoch : 22, train_loss : 0.11429458856582642\n",
      "epoch : 23, train_loss : 0.11279003322124481\n",
      "epoch : 24, train_loss : 0.06644168496131897\n",
      "epoch : 25, train_loss : 0.07000230252742767\n",
      "epoch : 26, train_loss : 0.11186658591032028\n",
      "epoch : 27, train_loss : 0.06438378989696503\n",
      "epoch : 28, train_loss : 0.07986930757761002\n",
      "epoch : 29, train_loss : 0.11055638641119003\n",
      "epoch : 30, train_loss : 0.05869085341691971\n",
      "epoch : 31, train_loss : 0.06634341180324554\n",
      "epoch : 32, train_loss : 0.10226738452911377\n",
      "epoch : 33, train_loss : 0.06002595275640488\n",
      "epoch : 34, train_loss : 0.07862124592065811\n",
      "epoch : 35, train_loss : 0.10260261595249176\n",
      "epoch : 36, train_loss : 0.056842025369405746\n",
      "epoch : 37, train_loss : 0.0638357624411583\n",
      "epoch : 38, train_loss : 0.09256010502576828\n",
      "epoch : 39, train_loss : 0.05588977783918381\n",
      "epoch : 40, train_loss : 0.07022441178560257\n",
      "epoch : 41, train_loss : 0.0938141867518425\n",
      "epoch : 42, train_loss : 0.05207759141921997\n",
      "epoch : 43, train_loss : 0.06322559714317322\n",
      "epoch : 44, train_loss : 0.0866503119468689\n",
      "epoch : 45, train_loss : 0.05276788771152496\n",
      "epoch : 46, train_loss : 0.07098003476858139\n",
      "epoch : 47, train_loss : 0.0848056823015213\n",
      "epoch : 48, train_loss : 0.05151504650712013\n",
      "epoch : 49, train_loss : 0.06770065426826477\n",
      "epoch : 50, train_loss : 0.07943230122327805\n",
      "epoch : 51, train_loss : 0.05388751998543739\n",
      "epoch : 52, train_loss : 0.07393265515565872\n",
      "epoch : 53, train_loss : 0.07285750657320023\n",
      "epoch : 54, train_loss : 0.05532342568039894\n",
      "epoch : 55, train_loss : 0.06867167353630066\n",
      "epoch : 56, train_loss : 0.07207254320383072\n",
      "epoch : 57, train_loss : 0.054887883365154266\n",
      "epoch : 58, train_loss : 0.06797119230031967\n",
      "epoch : 59, train_loss : 0.07054079324007034\n",
      "epoch : 60, train_loss : 0.05916932597756386\n",
      "epoch : 61, train_loss : 0.07251106202602386\n",
      "epoch : 62, train_loss : 0.06923279166221619\n",
      "epoch : 63, train_loss : 0.052980270236730576\n",
      "epoch : 64, train_loss : 0.0634215921163559\n",
      "epoch : 65, train_loss : 0.06808912009000778\n",
      "epoch : 66, train_loss : 0.054652534425258636\n",
      "epoch : 67, train_loss : 0.06728576868772507\n",
      "epoch : 68, train_loss : 0.06654948741197586\n",
      "epoch : 69, train_loss : 0.053504593670368195\n",
      "epoch : 70, train_loss : 0.0619826503098011\n",
      "epoch : 71, train_loss : 0.06949590891599655\n",
      "epoch : 72, train_loss : 0.04977899044752121\n",
      "epoch : 73, train_loss : 0.05794086307287216\n",
      "epoch : 74, train_loss : 0.06892821192741394\n",
      "epoch : 75, train_loss : 0.05240607634186745\n",
      "epoch : 76, train_loss : 0.06503468751907349\n",
      "epoch : 77, train_loss : 0.0632995218038559\n",
      "epoch : 78, train_loss : 0.05210977792739868\n",
      "epoch : 79, train_loss : 0.06097368896007538\n",
      "epoch : 80, train_loss : 0.060781560838222504\n",
      "epoch : 81, train_loss : 0.054874010384082794\n",
      "epoch : 82, train_loss : 0.06526417285203934\n",
      "epoch : 83, train_loss : 0.058572933077812195\n",
      "epoch : 84, train_loss : 0.05941024795174599\n",
      "epoch : 85, train_loss : 0.07418208569288254\n",
      "epoch : 86, train_loss : 0.06091395765542984\n",
      "epoch : 87, train_loss : 0.0535980649292469\n",
      "epoch : 88, train_loss : 0.07184679061174393\n",
      "epoch : 89, train_loss : 0.05247533321380615\n",
      "epoch : 90, train_loss : 0.08826546370983124\n",
      "epoch : 91, train_loss : 0.09964555501937866\n",
      "epoch : 92, train_loss : 0.04368330165743828\n",
      "epoch : 93, train_loss : 0.05661727860569954\n",
      "epoch : 94, train_loss : 0.057217370718717575\n",
      "epoch : 95, train_loss : 0.0879351794719696\n",
      "epoch : 96, train_loss : 0.08352497220039368\n",
      "epoch : 97, train_loss : 0.05066612362861633\n",
      "epoch : 98, train_loss : 0.06617975234985352\n",
      "epoch : 99, train_loss : 0.08409043401479721\n",
      "epoch : 100, train_loss : 0.04823969304561615\n",
      "epoch : 101, train_loss : 0.06039593741297722\n",
      "epoch : 102, train_loss : 0.07148143649101257\n",
      "epoch : 103, train_loss : 0.0483182854950428\n",
      "epoch : 104, train_loss : 0.062414005398750305\n",
      "epoch : 105, train_loss : 0.05527675524353981\n",
      "epoch : 106, train_loss : 0.05803799256682396\n",
      "epoch : 107, train_loss : 0.06553801894187927\n",
      "epoch : 108, train_loss : 0.046961236745119095\n",
      "epoch : 109, train_loss : 0.07056966423988342\n",
      "epoch : 110, train_loss : 0.07146650552749634\n",
      "epoch : 111, train_loss : 0.04561261087656021\n",
      "epoch : 112, train_loss : 0.05736543983221054\n",
      "epoch : 113, train_loss : 0.06337705254554749\n",
      "epoch : 114, train_loss : 0.04865967109799385\n",
      "epoch : 115, train_loss : 0.06105060130357742\n",
      "epoch : 116, train_loss : 0.05300160124897957\n",
      "epoch : 117, train_loss : 0.058574970811605453\n",
      "epoch : 118, train_loss : 0.061694737523794174\n",
      "epoch : 119, train_loss : 0.04623008891940117\n",
      "epoch : 120, train_loss : 0.06559330970048904\n",
      "epoch : 121, train_loss : 0.0685214251279831\n",
      "epoch : 122, train_loss : 0.04402361810207367\n",
      "epoch : 123, train_loss : 0.05601970851421356\n",
      "epoch : 124, train_loss : 0.07543567568063736\n",
      "epoch : 125, train_loss : 0.04541926458477974\n",
      "epoch : 126, train_loss : 0.05336863920092583\n",
      "epoch : 127, train_loss : 0.0676862820982933\n",
      "epoch : 128, train_loss : 0.04451574757695198\n",
      "epoch : 129, train_loss : 0.05100061371922493\n",
      "epoch : 130, train_loss : 0.056625816971063614\n",
      "epoch : 131, train_loss : 0.04938514158129692\n",
      "epoch : 132, train_loss : 0.055327437818050385\n",
      "epoch : 133, train_loss : 0.05102585256099701\n",
      "epoch : 134, train_loss : 0.06158538535237312\n",
      "epoch : 135, train_loss : 0.06152477115392685\n",
      "epoch : 136, train_loss : 0.04509434103965759\n",
      "epoch : 137, train_loss : 0.06437592208385468\n",
      "epoch : 138, train_loss : 0.06284058094024658\n",
      "epoch : 139, train_loss : 0.044402919709682465\n",
      "epoch : 140, train_loss : 0.06383504718542099\n",
      "epoch : 141, train_loss : 0.07419778406620026\n",
      "epoch : 142, train_loss : 0.0459948293864727\n",
      "epoch : 143, train_loss : 0.05933709442615509\n",
      "epoch : 144, train_loss : 0.07866665720939636\n",
      "epoch : 145, train_loss : 0.044387321919202805\n",
      "epoch : 146, train_loss : 0.053768791258335114\n",
      "epoch : 147, train_loss : 0.05880114808678627\n",
      "epoch : 148, train_loss : 0.05398193374276161\n",
      "epoch : 149, train_loss : 0.06096423789858818\n",
      "epoch : 150, train_loss : 0.04838485270738602\n",
      "epoch : 151, train_loss : 0.062319520860910416\n",
      "epoch : 152, train_loss : 0.058748770505189896\n",
      "epoch : 153, train_loss : 0.04380600526928902\n",
      "epoch : 154, train_loss : 0.05740337073802948\n",
      "epoch : 155, train_loss : 0.06393646448850632\n",
      "epoch : 156, train_loss : 0.04429908096790314\n",
      "epoch : 157, train_loss : 0.05918554216623306\n",
      "epoch : 158, train_loss : 0.07026666402816772\n",
      "epoch : 159, train_loss : 0.043385569006204605\n",
      "epoch : 160, train_loss : 0.049328260123729706\n",
      "epoch : 161, train_loss : 0.06419602781534195\n",
      "epoch : 162, train_loss : 0.044677041471004486\n",
      "epoch : 163, train_loss : 0.05130648985505104\n",
      "epoch : 164, train_loss : 0.060413409024477005\n",
      "epoch : 165, train_loss : 0.05060413479804993\n",
      "epoch : 166, train_loss : 0.056896958500146866\n",
      "epoch : 167, train_loss : 0.046126384288072586\n",
      "epoch : 168, train_loss : 0.0645475834608078\n",
      "epoch : 169, train_loss : 0.05598149076104164\n",
      "epoch : 170, train_loss : 0.04199283570051193\n",
      "epoch : 171, train_loss : 0.05359422042965889\n",
      "epoch : 172, train_loss : 0.0657852441072464\n",
      "epoch : 173, train_loss : 0.043868619948625565\n",
      "epoch : 174, train_loss : 0.05425724759697914\n",
      "epoch : 175, train_loss : 0.0677819550037384\n",
      "epoch : 176, train_loss : 0.043611761182546616\n",
      "epoch : 177, train_loss : 0.05037710443139076\n"
     ]
    },
    {
     "name": "stdout",
     "output_type": "stream",
     "text": [
      "epoch : 178, train_loss : 0.05315912887454033\n",
      "epoch : 179, train_loss : 0.054084524512290955\n",
      "epoch : 180, train_loss : 0.05544337257742882\n",
      "epoch : 181, train_loss : 0.04485306888818741\n",
      "epoch : 182, train_loss : 0.0660027265548706\n",
      "epoch : 183, train_loss : 0.060189470648765564\n",
      "epoch : 184, train_loss : 0.040542278438806534\n",
      "epoch : 185, train_loss : 0.045892421156167984\n",
      "epoch : 186, train_loss : 0.060581523925065994\n",
      "epoch : 187, train_loss : 0.04192877933382988\n",
      "epoch : 188, train_loss : 0.0484280064702034\n",
      "epoch : 189, train_loss : 0.06176267936825752\n",
      "epoch : 190, train_loss : 0.044314440339803696\n",
      "epoch : 191, train_loss : 0.049634598195552826\n",
      "epoch : 192, train_loss : 0.05127958953380585\n",
      "epoch : 193, train_loss : 0.04752534255385399\n",
      "epoch : 194, train_loss : 0.051331307739019394\n",
      "epoch : 195, train_loss : 0.04762791842222214\n",
      "epoch : 196, train_loss : 0.06094187870621681\n",
      "epoch : 197, train_loss : 0.05851161107420921\n",
      "epoch : 198, train_loss : 0.039909008890390396\n",
      "epoch : 199, train_loss : 0.054488133639097214\n",
      "epoch : 200, train_loss : 0.06092752516269684\n",
      "epoch : 201, train_loss : 0.040448274463415146\n",
      "epoch : 202, train_loss : 0.06661725044250488\n",
      "epoch : 203, train_loss : 0.05841945484280586\n",
      "epoch : 204, train_loss : 0.04489799961447716\n",
      "epoch : 205, train_loss : 0.04314427077770233\n",
      "epoch : 206, train_loss : 0.04059113934636116\n",
      "epoch : 207, train_loss : 0.04031923785805702\n",
      "epoch : 208, train_loss : 0.040060948580503464\n",
      "epoch : 209, train_loss : 0.038201041519641876\n",
      "epoch : 210, train_loss : 0.03821106255054474\n",
      "epoch : 211, train_loss : 0.041033901274204254\n",
      "epoch : 212, train_loss : 0.03648693114519119\n",
      "epoch : 213, train_loss : 0.03671466186642647\n",
      "epoch : 214, train_loss : 0.03919990360736847\n",
      "epoch : 215, train_loss : 0.03485456854104996\n",
      "epoch : 216, train_loss : 0.03532322868704796\n",
      "epoch : 217, train_loss : 0.03557097539305687\n",
      "epoch : 218, train_loss : 0.036223847419023514\n",
      "epoch : 219, train_loss : 0.03848790004849434\n",
      "epoch : 220, train_loss : 0.047975774854421616\n",
      "epoch : 221, train_loss : 0.05632973834872246\n",
      "epoch : 222, train_loss : 0.0432845801115036\n",
      "epoch : 223, train_loss : 0.06784149259328842\n",
      "epoch : 224, train_loss : 0.06609687209129333\n",
      "epoch : 225, train_loss : 0.04326111078262329\n",
      "epoch : 226, train_loss : 0.039866168051958084\n",
      "epoch : 227, train_loss : 0.05746433511376381\n",
      "epoch : 228, train_loss : 0.043711140751838684\n",
      "epoch : 229, train_loss : 0.04365178942680359\n",
      "epoch : 230, train_loss : 0.056727033108472824\n",
      "epoch : 231, train_loss : 0.03802729770541191\n",
      "epoch : 232, train_loss : 0.054418131709098816\n",
      "epoch : 233, train_loss : 0.05274615436792374\n",
      "epoch : 234, train_loss : 0.05487687140703201\n",
      "epoch : 235, train_loss : 0.049497827887535095\n",
      "epoch : 236, train_loss : 0.04311901330947876\n",
      "epoch : 237, train_loss : 0.06599287688732147\n",
      "epoch : 238, train_loss : 0.05308801680803299\n",
      "epoch : 239, train_loss : 0.03797716647386551\n",
      "epoch : 240, train_loss : 0.042101070284843445\n",
      "epoch : 241, train_loss : 0.05407620593905449\n",
      "epoch : 242, train_loss : 0.03861027583479881\n",
      "epoch : 243, train_loss : 0.07368630170822144\n",
      "epoch : 244, train_loss : 0.06269657611846924\n",
      "epoch : 245, train_loss : 0.04502438008785248\n",
      "epoch : 246, train_loss : 0.044952329248189926\n",
      "epoch : 247, train_loss : 0.052237626165151596\n",
      "epoch : 248, train_loss : 0.03928079083561897\n",
      "epoch : 249, train_loss : 0.0423826165497303\n",
      "epoch : 250, train_loss : 0.04848042130470276\n",
      "epoch : 251, train_loss : 0.03628123551607132\n",
      "epoch : 252, train_loss : 0.037918053567409515\n",
      "epoch : 253, train_loss : 0.039416905492544174\n",
      "epoch : 254, train_loss : 0.035048697143793106\n",
      "epoch : 255, train_loss : 0.03210890293121338\n",
      "epoch : 256, train_loss : 0.034095410257577896\n",
      "epoch : 257, train_loss : 0.032099150121212006\n",
      "epoch : 258, train_loss : 0.032390959560871124\n",
      "epoch : 259, train_loss : 0.036550652235746384\n",
      "epoch : 260, train_loss : 0.0395517461001873\n",
      "epoch : 261, train_loss : 0.03655419498682022\n",
      "epoch : 262, train_loss : 0.036514732986688614\n",
      "epoch : 263, train_loss : 0.03765466809272766\n",
      "epoch : 264, train_loss : 0.036719053983688354\n",
      "epoch : 265, train_loss : 0.03923914581537247\n",
      "epoch : 266, train_loss : 0.04023211821913719\n",
      "epoch : 267, train_loss : 0.031321778893470764\n",
      "epoch : 268, train_loss : 0.041639961302280426\n",
      "epoch : 269, train_loss : 0.04533403366804123\n",
      "epoch : 270, train_loss : 0.03310074284672737\n",
      "epoch : 271, train_loss : 0.04491891339421272\n",
      "epoch : 272, train_loss : 0.05176080763339996\n",
      "epoch : 273, train_loss : 0.03706616535782814\n",
      "epoch : 274, train_loss : 0.05913593992590904\n",
      "epoch : 275, train_loss : 0.05303356051445007\n",
      "epoch : 276, train_loss : 0.031974174082279205\n",
      "epoch : 277, train_loss : 0.03330863639712334\n",
      "epoch : 278, train_loss : 0.04049767926335335\n",
      "epoch : 279, train_loss : 0.031954213976860046\n",
      "epoch : 280, train_loss : 0.038810789585113525\n",
      "epoch : 281, train_loss : 0.03442838042974472\n",
      "epoch : 282, train_loss : 0.03355368971824646\n",
      "epoch : 283, train_loss : 0.03388620913028717\n",
      "epoch : 284, train_loss : 0.041047003120183945\n",
      "epoch : 285, train_loss : 0.03295748680830002\n",
      "epoch : 286, train_loss : 0.040987636893987656\n",
      "epoch : 287, train_loss : 0.03665574640035629\n",
      "epoch : 288, train_loss : 0.03543958440423012\n",
      "epoch : 289, train_loss : 0.03255729004740715\n",
      "epoch : 290, train_loss : 0.03371330350637436\n",
      "epoch : 291, train_loss : 0.03194160386919975\n",
      "epoch : 292, train_loss : 0.03323400020599365\n",
      "epoch : 293, train_loss : 0.03304687887430191\n",
      "epoch : 294, train_loss : 0.03595120832324028\n",
      "epoch : 295, train_loss : 0.035472746938467026\n",
      "epoch : 296, train_loss : 0.04498312994837761\n",
      "epoch : 297, train_loss : 0.032730940729379654\n",
      "epoch : 298, train_loss : 0.04061729460954666\n",
      "epoch : 299, train_loss : 0.03767141327261925\n",
      "epoch : 300, train_loss : 0.033216442912817\n"
     ]
    }
   ],
   "source": [
    "@tf.function\n",
    "def train_step(model,inputs,labels,loss_fn,optimizer,train_loss):\n",
    "    with tf.GradientTape() as tape:\n",
    "        prediction = model(inputs,training=True)\n",
    "        print(prediction.shape)\n",
    "        print(labels.shape)\n",
    "        loss = loss_fn(labels,prediction)\n",
    "        print(loss)\n",
    "    gradients = tape.gradient(loss,model.trainable_variables)\n",
    "    optimizer.apply_gradients(zip(gradients,model.trainable_variables))\n",
    "    train_loss(loss)\n",
    "\n",
    "loss_fn = tf.keras.losses.MAE\n",
    "\n",
    "optimizer = tf.keras.optimizers.Adam(0.001)\n",
    "train_loss = tf.keras.metrics.Mean(name = 'train_loss')\n",
    "\n",
    "for epoch in range(300):\n",
    "    for enc,dec,label in train_ds:\n",
    "        inputs = [enc,dec]\n",
    "        train_step(model,inputs,label,loss_fn,optimizer,train_loss)\n",
    "\n",
    "    print(f\"epoch : {epoch+1}, train_loss : {train_loss.result()}\")\n",
    "    train_loss.reset_states()"
   ]
  },
  {
   "cell_type": "code",
   "execution_count": 29,
   "metadata": {},
   "outputs": [
    {
     "name": "stdout",
     "output_type": "stream",
     "text": [
      "tf.Tensor(0.118850455, shape=(), dtype=float32)\n"
     ]
    }
   ],
   "source": [
    "test_loss = tf.keras.metrics.Mean(name = 'test_loss')\n",
    "\n",
    "@tf.function\n",
    "def test_step(model,inputs,labels,loss_fn,test_loss):\n",
    "    prediction = model(inputs,training=True)\n",
    "    loss = loss_fn(labels,prediction)\n",
    "    test_loss(loss)\n",
    "    return prediction\n",
    "\n",
    "i=0\n",
    "for enc,dec,label in test_ds:\n",
    "    inputs = [enc,dec]\n",
    "    pred = test_step(model,inputs,label,loss_fn,test_loss)\n",
    "    if i==0:\n",
    "        preds = pred.numpy()\n",
    "        labels = label.numpy()\n",
    "        i+=1\n",
    "    else:\n",
    "        preds = np.concatenate([preds, pred.numpy()],axis=0)\n",
    "        labels = np.concatenate([labels,label.numpy()],axis=0)\n",
    "\n",
    "print(test_loss.result())"
   ]
  },
  {
   "cell_type": "code",
   "execution_count": 30,
   "metadata": {},
   "outputs": [
    {
     "data": {
      "image/png": "[encoded data removed]",
      "text/plain": [
       "<Figure size 432x288 with 1 Axes>"
      ]
     },
     "metadata": {
      "needs_background": "light"
     },
     "output_type": "display_data"
    }
   ],
   "source": [
    "# Beta는 temporal attention에서 나온 시간에 대한 attention weight를 시각화할 수 있다.\n",
    "\n",
    "enc,dec,label = next(iter(test_ds))\n",
    "inputs = [enc, dec]\n",
    "pred = model(inputs)\n",
    "\n",
    "beta = []\n",
    "\n",
    "# for문은 time step 만큼 돌린다.\n",
    "for i in range(18):\n",
    "    beta.append(np.mean(model.decoder.beta_t[:,i,0].numpy()))  # batch, T, 1\n",
    "\n",
    "plt.bar(x = range(18), height=beta, color = 'orange')\n",
    "plt.title(\"Temporal Weight\")\n",
    "plt.xlabel(\"time\")\n",
    "plt.ylabel(\"prob\")\n",
    "plt.show()"
   ]
  },
  {
   "cell_type": "code",
   "execution_count": 31,
   "metadata": {},
   "outputs": [
    {
     "data": {
      "text/plain": [
       "[0.06812281,\n",
       " 0.062151425,\n",
       " 0.058435477,\n",
       " 0.056327272,\n",
       " 0.054932557,\n",
       " 0.05420667,\n",
       " 0.05437837,\n",
       " 0.054468013,\n",
       " 0.054436438,\n",
       " 0.054267723,\n",
       " 0.054370962,\n",
       " 0.054114558,\n",
       " 0.053963125,\n",
       " 0.053465348,\n",
       " 0.053280335,\n",
       " 0.053140324,\n",
       " 0.053005807,\n",
       " 0.05293283]"
      ]
     },
     "execution_count": 31,
     "metadata": {},
     "output_type": "execute_result"
    }
   ],
   "source": [
    "beta"
   ]
  },
  {
   "cell_type": "code",
   "execution_count": 32,
   "metadata": {
    "scrolled": true
   },
   "outputs": [
    {
     "data": {
      "text/plain": [
       "((49, 12), (49, 12))"
      ]
     },
     "execution_count": 32,
     "metadata": {},
     "output_type": "execute_result"
    }
   ],
   "source": [
    "preds.shape,labels.shape"
   ]
  },
  {
   "cell_type": "code",
   "execution_count": 33,
   "metadata": {},
   "outputs": [],
   "source": [
    "variable_dict = {\n",
    "    \"TEU\": [\"\"],\n",
    "    \"BDI\": [\"\"],\n",
    "    \"ln(HRCI)\": [\"\"],\n",
    "    \"ln(SCFI)\": [\"\"],\n",
    "    \"ln(다우존스지수)\": [\"\"],\n",
    "    \"전산업생산지수\": [\"\"],\n",
    "    \"경상수지\": [\"\"],\n",
    "    \"환율\": [\"13\"],\n",
    "    \"화물수송총괄\": [\"\"],\n",
    "    \"수출물가지수\": [\"\"]\n",
    "}"
   ]
  },
  {
   "cell_type": "code",
   "execution_count": 34,
   "metadata": {
    "scrolled": false
   },
   "outputs": [
    {
     "data": {
      "image/png": "[encoded data removed]",
      "text/plain": [
       "<Figure size 432x288 with 1 Axes>"
      ]
     },
     "metadata": {
      "needs_background": "light"
     },
     "output_type": "display_data"
    }
   ],
   "source": [
    "# alpha는 Input Attention에서 나온 특징들에 대한 attention weight를 시각화 할 수 있다.\n",
    "\n",
    "# variable_key는 특징값들이 들어가있으면된다.\n",
    "variable_key = list(variable_dict.keys())\n",
    "alpha = []\n",
    "variables = []\n",
    "\n",
    "# for문은 feature len만큼 돌린다.\n",
    "for i in range(10):\n",
    "    alpha.append(np.mean(model.encoder.alpha_t[:,0,i].numpy()))\n",
    "    for key in variable_key:\n",
    "        # 같은 의미의 값이 여러개 있는경우 숫자를 붙혀줄 수 있는데, 특징이 유니크하게 1개인경우 해당 소스는 필요없다.\n",
    "        if f\"{i}\" in variable_dict[key]:\n",
    "            variables.append(f\"{key}{i}\")\n",
    "            \n",
    "attention_weight = np.array(alpha)\n",
    "plt.figure(figsize=(6,4))\n",
    "plt.bar(range(len(attention_weight)), attention_weight,color='orange')\n",
    "plt.xticks(range(10), variable_key, rotation=90)\n",
    "plt.ylabel('gradients')\n",
    "plt.title('Attention Weight')\n",
    "plt.show()"
   ]
  },
  {
   "cell_type": "code",
   "execution_count": 35,
   "metadata": {},
   "outputs": [
    {
     "data": {
      "text/plain": [
       "[0.15425344,\n",
       " 0.014474426,\n",
       " 0.008640204,\n",
       " 0.040967096,\n",
       " 0.06677943,\n",
       " 0.07722881,\n",
       " 0.36434633,\n",
       " 0.07436508,\n",
       " 0.17030513,\n",
       " 0.028640067]"
      ]
     },
     "execution_count": 35,
     "metadata": {},
     "output_type": "execute_result"
    }
   ],
   "source": [
    "alpha"
   ]
  },
  {
   "cell_type": "code",
   "execution_count": 36,
   "metadata": {
    "scrolled": true
   },
   "outputs": [
    {
     "data": {
      "text/plain": [
       "[<matplotlib.lines.Line2D at 0x2aad9036a60>]"
      ]
     },
     "execution_count": 36,
     "metadata": {},
     "output_type": "execute_result"
    },
    {
     "data": {
      "image/png": "[encoded data removed]",
      "text/plain": [
       "<Figure size 432x288 with 1 Axes>"
      ]
     },
     "metadata": {
      "needs_background": "light"
     },
     "output_type": "display_data"
    }
   ],
   "source": [
    "plt.plot(np.array(preds)[0])\n",
    "plt.plot(np.array(labels)[0])"
   ]
  },
  {
   "cell_type": "code",
   "execution_count": 37,
   "metadata": {},
   "outputs": [
    {
     "data": {
      "text/plain": [
       "[<matplotlib.lines.Line2D at 0x2aad9088fa0>]"
      ]
     },
     "execution_count": 37,
     "metadata": {},
     "output_type": "execute_result"
    },
    {
     "data": {
      "image/png": "[encoded data removed]",
      "text/plain": [
       "<Figure size 432x288 with 1 Axes>"
      ]
     },
     "metadata": {
      "needs_background": "light"
     },
     "output_type": "display_data"
    }
   ],
   "source": [
    "plt.plot(np.array(preds)[12])\n",
    "plt.plot(np.array(labels)[12])"
   ]
  },
  {
   "cell_type": "code",
   "execution_count": 38,
   "metadata": {},
   "outputs": [
    {
     "data": {
      "text/plain": [
       "[<matplotlib.lines.Line2D at 0x2aad90eaa30>]"
      ]
     },
     "execution_count": 38,
     "metadata": {},
     "output_type": "execute_result"
    },
    {
     "data": {
      "image/png": "[encoded data removed]",
      "text/plain": [
       "<Figure size 432x288 with 1 Axes>"
      ]
     },
     "metadata": {
      "needs_background": "light"
     },
     "output_type": "display_data"
    }
   ],
   "source": [
    "plt.plot(np.array(preds)[24])\n",
    "plt.plot(np.array(labels)[24])"
   ]
  },
  {
   "cell_type": "code",
   "execution_count": 39,
   "metadata": {
    "scrolled": true
   },
   "outputs": [
    {
     "data": {
      "text/plain": [
       "[<matplotlib.lines.Line2D at 0x2aad914b040>]"
      ]
     },
     "execution_count": 39,
     "metadata": {},
     "output_type": "execute_result"
    },
    {
     "data": {
      "image/png": "[encoded data removed]",
      "text/plain": [
       "<Figure size 432x288 with 1 Axes>"
      ]
     },
     "metadata": {
      "needs_background": "light"
     },
     "output_type": "display_data"
    }
   ],
   "source": [
    "plt.plot(np.array(preds)[36])\n",
    "plt.plot(np.array(labels)[36])"
   ]
  },
  {
   "cell_type": "code",
   "execution_count": 40,
   "metadata": {},
   "outputs": [
    {
     "data": {
      "text/plain": [
       "[<matplotlib.lines.Line2D at 0x2aad919da60>]"
      ]
     },
     "execution_count": 40,
     "metadata": {},
     "output_type": "execute_result"
    },
    {
     "data": {
      "image/png": "[encoded data removed]",
      "text/plain": [
       "<Figure size 432x288 with 1 Axes>"
      ]
     },
     "metadata": {
      "needs_background": "light"
     },
     "output_type": "display_data"
    }
   ],
   "source": [
    "plt.plot(np.array(preds)[48])\n",
    "plt.plot(np.array(labels)[48])"
   ]
  },
  {
   "cell_type": "code",
   "execution_count": 41,
   "metadata": {
    "scrolled": false
   },
   "outputs": [
    {
     "name": "stdout",
     "output_type": "stream",
     "text": [
      "RMSE: 79702.9765781471\n",
      "MAPE: 2.943622882495427\n"
     ]
    },
    {
     "data": {
      "image/png": "[encoded data removed]",
      "text/plain": [
       "<Figure size 432x288 with 1 Axes>"
      ]
     },
     "metadata": {
      "needs_background": "light"
     },
     "output_type": "display_data"
    }
   ],
   "source": [
    "fit = np.array(preds)[0].reshape(-1,1)\n",
    "fit_repeat = np.repeat(fit,10, axis=-1)\n",
    "model_fit = scaler.inverse_transform(fit_repeat)\n",
    "model_fit = np.squeeze(model_fit)[:,0]\n",
    "df1 = pd.DataFrame(model_fit)\n",
    "\n",
    "plt.plot(df1[0],label='Dual Stage Attention')\n",
    "plt.plot(test_data.head(12).reset_index()['TEU'],label='2017.07 ~ 2018.06')\n",
    "plt.legend(loc=2)\n",
    "\n",
    "rmse = math.sqrt(mean_squared_error(test_data.head(12).reset_index()['TEU'], df1[0]))\n",
    "print('RMSE:',rmse)\n",
    "print('MAPE:',np.mean(np.abs((test_data.head(12).reset_index()['TEU']- df1[0])/ test_data.head(12).reset_index()['TEU'])*100) )"
   ]
  },
  {
   "cell_type": "code",
   "execution_count": 42,
   "metadata": {
    "scrolled": true
   },
   "outputs": [
    {
     "name": "stdout",
     "output_type": "stream",
     "text": [
      "RMSE: 71552.39898366587\n",
      "MAPE: 2.108506189826397\n"
     ]
    },
    {
     "data": {
      "image/png": "[encoded data removed]",
      "text/plain": [
       "<Figure size 432x288 with 1 Axes>"
      ]
     },
     "metadata": {
      "needs_background": "light"
     },
     "output_type": "display_data"
    }
   ],
   "source": [
    "fit = np.array(preds)[12].reshape(-1,1)\n",
    "fit_repeat = np.repeat(fit,10, axis=-1)\n",
    "model_fit = scaler.inverse_transform(fit_repeat)\n",
    "model_fit = np.squeeze(model_fit)[:,0]\n",
    "df2 = pd.DataFrame(model_fit)\n",
    "\n",
    "plt.plot(df2[0],label='Dual Stage Attention')\n",
    "plt.plot(test_data[12:24].reset_index()['TEU'],label='2018.07 ~ 2019.06')\n",
    "plt.legend(loc=3)\n",
    "\n",
    "rmse = math.sqrt(mean_squared_error(test_data[12:24].reset_index()['TEU'], df2[0]))\n",
    "print('RMSE:',rmse)\n",
    "print('MAPE:',np.mean(np.abs((test_data[12:24].reset_index()['TEU']- df2[0])/ test_data[12:24].reset_index()['TEU'])*100) )"
   ]
  },
  {
   "cell_type": "code",
   "execution_count": 43,
   "metadata": {
    "scrolled": true
   },
   "outputs": [
    {
     "name": "stdout",
     "output_type": "stream",
     "text": [
      "RMSE: 122464.67448889853\n",
      "MAPE: 4.2375363399505295\n"
     ]
    },
    {
     "data": {
      "image/png": "[encoded data removed]",
      "text/plain": [
       "<Figure size 432x288 with 1 Axes>"
      ]
     },
     "metadata": {
      "needs_background": "light"
     },
     "output_type": "display_data"
    }
   ],
   "source": [
    "fit = np.array(preds)[24].reshape(-1,1)\n",
    "fit_repeat = np.repeat(fit,10, axis=-1)\n",
    "model_fit = scaler.inverse_transform(fit_repeat)\n",
    "model_fit = np.squeeze(model_fit)[:,0]\n",
    "df3 = pd.DataFrame(model_fit)\n",
    "\n",
    "plt.plot(df3[0],label='Dual Stage Attention')\n",
    "plt.plot(test_data[24:36].reset_index()['TEU'],label='2019.07 ~ 2020.06')\n",
    "plt.legend(loc=2)\n",
    "\n",
    "rmse = math.sqrt(mean_squared_error(test_data[24:36].reset_index()['TEU'], df3[0]))\n",
    "print('RMSE:',rmse)\n",
    "print('MAPE:',np.mean(np.abs((test_data[24:36].reset_index()['TEU']- df3[0])/ test_data[24:36].reset_index()['TEU'])*100) )"
   ]
  },
  {
   "cell_type": "code",
   "execution_count": 44,
   "metadata": {
    "scrolled": true
   },
   "outputs": [
    {
     "name": "stdout",
     "output_type": "stream",
     "text": [
      "RMSE: 117845.06899270683\n",
      "MAPE: 4.112713322455692\n"
     ]
    },
    {
     "data": {
      "image/png": "[encoded data removed]",
      "text/plain": [
       "<Figure size 432x288 with 1 Axes>"
      ]
     },
     "metadata": {
      "needs_background": "light"
     },
     "output_type": "display_data"
    }
   ],
   "source": [
    "fit = np.array(preds)[36].reshape(-1,1)\n",
    "fit_repeat = np.repeat(fit,10, axis=-1)\n",
    "model_fit = scaler.inverse_transform(fit_repeat)\n",
    "model_fit = np.squeeze(model_fit)[:,0]\n",
    "df4 = pd.DataFrame(model_fit)\n",
    "\n",
    "plt.plot(df4[0],label='Dual Stage Attention')\n",
    "plt.plot(test_data[36:48].reset_index()['TEU'],label='2020.07 ~ 2021.06')\n",
    "plt.legend(loc=2)\n",
    "\n",
    "rmse = math.sqrt(mean_squared_error(test_data[36:48].reset_index()['TEU'], df4[0]))\n",
    "print('RMSE:',rmse)\n",
    "print('MAPE:',np.mean(np.abs((test_data[36:48].reset_index()['TEU']- df4[0])/ test_data[36:48].reset_index()['TEU'])*100) )"
   ]
  },
  {
   "cell_type": "code",
   "execution_count": 45,
   "metadata": {
    "scrolled": true
   },
   "outputs": [
    {
     "name": "stdout",
     "output_type": "stream",
     "text": [
      "RMSE: 102630.4427039276\n",
      "MAPE: 3.532847006618484\n"
     ]
    },
    {
     "data": {
      "image/png": "[encoded data removed]",
      "text/plain": [
       "<Figure size 432x288 with 1 Axes>"
      ]
     },
     "metadata": {
      "needs_background": "light"
     },
     "output_type": "display_data"
    }
   ],
   "source": [
    "fit = np.array(preds)[48].reshape(-1,1)\n",
    "fit_repeat = np.repeat(fit,10, axis=-1)\n",
    "model_fit = scaler.inverse_transform(fit_repeat)\n",
    "model_fit = np.squeeze(model_fit)[:,0]\n",
    "df5 = pd.DataFrame(model_fit)\n",
    "\n",
    "plt.plot(df5[0],label='Dual Stage Attention')\n",
    "plt.plot(test_data[48:60].reset_index()['TEU'],label='2021.07 ~ 2022.06')\n",
    "plt.legend(loc=3)\n",
    "\n",
    "rmse = math.sqrt(mean_squared_error(test_data[48:60].reset_index()['TEU'], df5[0]))\n",
    "print('RMSE:',rmse)\n",
    "print('MAPE:',np.mean(np.abs((test_data[48:60].reset_index()['TEU']- df5[0])/ test_data[48:60].reset_index()['TEU'])*100) )"
   ]
  },
  {
   "cell_type": "code",
   "execution_count": 46,
   "metadata": {},
   "outputs": [],
   "source": [
    "#pd.concat([df1,df2,df3,df4,df5],axis=0).to_csv('DALSTM.csv')"
   ]
  }
 ],
 "metadata": {
  "kernelspec": {
   "display_name": "Python 3",
   "language": "python",
   "name": "python3"
  },
  "language_info": {
   "codemirror_mode": {
    "name": "ipython",
    "version": 3
   },
   "file_extension": ".py",
   "mimetype": "text/x-python",
   "name": "python",
   "nbconvert_exporter": "python",
   "pygments_lexer": "ipython3",
   "version": "3.8.8"
  },
  "varInspector": {
   "cols": {
    "lenName": 16,
    "lenType": 16,
    "lenVar": 40
   },
   "kernels_config": {
    "python": {
     "delete_cmd_postfix": "",
     "delete_cmd_prefix": "del ",
     "library": "var_list.py",
     "varRefreshCmd": "print(var_dic_list())"
    },
    "r": {
     "delete_cmd_postfix": ") ",
     "delete_cmd_prefix": "rm(",
     "library": "var_list.r",
     "varRefreshCmd": "cat(var_dic_list()) "
    }
   },
   "position": {
    "height": "674px",
    "left": "1063px",
    "right": "20px",
    "top": "136px",
    "width": "692px"
   },
   "types_to_exclude": [
    "module",
    "function",
    "builtin_function_or_method",
    "instance",
    "_Feature"
   ],
   "window_display": false
  }
 },
 "nbformat": 4,
 "nbformat_minor": 4
}
